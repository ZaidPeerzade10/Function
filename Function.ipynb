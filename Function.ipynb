{
  "nbformat": 4,
  "nbformat_minor": 0,
  "metadata": {
    "colab": {
      "provenance": []
    },
    "kernelspec": {
      "name": "python3",
      "display_name": "Python 3"
    },
    "language_info": {
      "name": "python"
    }
  },
  "cells": [
    {
      "cell_type": "markdown",
      "source": [
        "# Theoratical Questions"
      ],
      "metadata": {
        "id": "fOSVnW64Z8Qv"
      }
    },
    {
      "cell_type": "markdown",
      "source": [
        "1. What is the difference between a function and a method in Python?\n",
        "   - A function is a block of code that performs a specific task and can be called independently without being associated with a specific object.\n",
        "   A method is a fucntion which is associated with a object and operates on the objects data. It can only be called on an instance of a class."
      ],
      "metadata": {
        "id": "uVja_6j-WoOa"
      }
    },
    {
      "cell_type": "code",
      "source": [
        "#fucntion:\n",
        "def greet(name):\n",
        "    return f\"Hello, {name}!\"\n",
        "\n",
        "print(greet(\"Zaid\"))"
      ],
      "metadata": {
        "colab": {
          "base_uri": "https://localhost:8080/"
        },
        "id": "cJHubzJrSiJY",
        "outputId": "1ae54f7b-35ab-423e-9c29-826e25031837"
      },
      "execution_count": 42,
      "outputs": [
        {
          "output_type": "stream",
          "name": "stdout",
          "text": [
            "Hello, Zaid!\n"
          ]
        }
      ]
    },
    {
      "cell_type": "code",
      "source": [
        "#method:\n",
        "class Dog:\n",
        "    def bark(self):\n",
        "        return \"Woof! Woof!\"\n",
        "my_dog = Dog()\n",
        "print(my_dog.bark())\n"
      ],
      "metadata": {
        "colab": {
          "base_uri": "https://localhost:8080/"
        },
        "id": "CH2XHM6hSzkg",
        "outputId": "9a607ab8-f87c-45c1-b410-67154ef4846b"
      },
      "execution_count": 43,
      "outputs": [
        {
          "output_type": "stream",
          "name": "stdout",
          "text": [
            "Woof! Woof!\n"
          ]
        }
      ]
    },
    {
      "cell_type": "markdown",
      "source": [
        "2. Explain the concept of function arguments and parameters in Python.\n",
        "   - a parameter is a variable name listed in a function definition. They act as a placeholder for values received by the function.\n",
        "   While arguments are the values received by the function when it is called, these values replace the parameters during execution.\n"
      ],
      "metadata": {
        "id": "BDinmdHjh2ZK"
      }
    },
    {
      "cell_type": "code",
      "source": [
        "#function arguments:\n",
        "def greet(name): #name is parameter\n",
        "    return f\"Hello, {name}!\"\n",
        "\n",
        "print(greet(\"Zaid\")) #\"Zaid\" is function argument"
      ],
      "metadata": {
        "id": "bmtJspHITGL4"
      },
      "execution_count": null,
      "outputs": []
    },
    {
      "cell_type": "markdown",
      "source": [
        "3. What are the different ways to define and call a function in Python?\n",
        "   - functions can be defined by using the keyword \"def\" followed by the function name, parentheses containing any parameters, and a colon, And fuctions can be called by function name followed by parentheses with any necessary arguments inside them.\n",
        "   There can be multiple ways to define and call fuctions for different uses:\n",
        "\n",
        "   Regular Defination:\n",
        "    \n",
        "        def greet(name):\n",
        "            return f\"Hello,{name}!\"\n",
        "        print(greet(\"Alice\"))\n",
        "\n",
        "   Function with default arguement:\n",
        "    \n",
        "        def greet(name=\"Guest\"):\n",
        "            return f\"Hello,{name}!\"\n",
        "        print(greet()) # output; Hello Guest!\n",
        "        print(greet(\"Bob\"))  # output: Hello Bob!\n",
        "\n",
        "   Function with muliple arguement:\n",
        "    \n",
        "        def add(a, b):\n",
        "            return a+b\n",
        "        print(add(5,7))\n",
        "\n",
        "   Function with *args(Arbitrary arguement):\n",
        "    \n",
        "        def total(*num):\n",
        "            return sum(num)\n",
        "        print(total(1,2,3))\n",
        "\n",
        "   Function with **kwargs (Arbitrary Keyword Arguments):\n",
        "    \n",
        "        def display_info(**info):\n",
        "            for key, value in info.items():\n",
        "                print(f\"{key}: {value}\")\n",
        "        display_info(name=\"Alice\", age=25, city=\"New York\")\n",
        "\n",
        "   Function with default arguement:\n",
        "    \n",
        "        def greet(name=\"Guest\"):\n",
        "            return f\"Hello,{name}!\"\n",
        "        print(greet()) # output; Hello Guest!\n",
        "        print(greet(\"Bob\"))  # output: Hello Bob!\n",
        "\n",
        "\n"
      ],
      "metadata": {
        "id": "0BNjFhyvjwDZ"
      }
    },
    {
      "cell_type": "markdown",
      "source": [
        "4. What is the purpose of the `return` statement in a Python function?\n",
        "   - return statement is used to terminate the function and specify the values or value to send to the caller or where the fucntion is called, without a return statement, a function would not provide any useful value to the calling code."
      ],
      "metadata": {
        "id": "wMjcVK-itFKJ"
      }
    },
    {
      "cell_type": "code",
      "source": [
        "#Example\n",
        "def add(a,b):\n",
        "  return a+b\n",
        "add(12,13)"
      ],
      "metadata": {
        "colab": {
          "base_uri": "https://localhost:8080/"
        },
        "id": "7KfCeKuiUD5v",
        "outputId": "3b40841b-4801-4d59-9f72-9008aa7a48a2"
      },
      "execution_count": 46,
      "outputs": [
        {
          "output_type": "execute_result",
          "data": {
            "text/plain": [
              "25"
            ]
          },
          "metadata": {},
          "execution_count": 46
        }
      ]
    },
    {
      "cell_type": "markdown",
      "source": [
        "5. What are iterators in Python and how do they differ from iterables?\n",
        "   - An iterable is a object that can be looped over like list, tuple, set, etc. It contains element that can be accesed one at a time, it imelements an __iter__() metod, which returns a iterator.\n",
        "   An iterator is an object that implement __iter__() and __next__() methods, it returns values one at a time with \"next()\" method.\n",
        "\n",
        "   - As per the differentiation An iterable does not have \"__next__()\" method,Needs iter() to create an iterator, can be reused after an iteration, meanwhile iterator have \"__next__()\" method, do not Needs iter() to create an iterator already has one, cannot be reused after an iteration."
      ],
      "metadata": {
        "id": "JIG7NFJ_uszS"
      }
    },
    {
      "cell_type": "code",
      "source": [
        "#Example\n",
        "my_list = [1, 2, 3]  # A list is an iterable\n",
        "\n",
        "for num in my_list:\n",
        "    print(num)"
      ],
      "metadata": {
        "id": "CnAmU46gUlHH"
      },
      "execution_count": null,
      "outputs": []
    },
    {
      "cell_type": "code",
      "source": [
        "#Example\n",
        "my_list = [1, 2, 3]\n",
        "iterator = iter(my_list)  # Get an iterator from the list\n",
        "print(next(iterator))\n",
        "print(next(iterator))\n",
        "print(next(iterator))"
      ],
      "metadata": {
        "id": "DY2XtMzUUoqz"
      },
      "execution_count": null,
      "outputs": []
    },
    {
      "cell_type": "markdown",
      "source": [
        "6. Explain the concept of generators in Python and how they are defined.\n",
        "   - Generators are a specific type of function that generates a sequence of values on demand using the \"yield\" keyword instead of \"return\".\n",
        "   - This allows the function to generate values and pause its execution after each yield, maintaining its state between iterations.\n",
        "   - Without storing the values in memory, making it memory-efficient for large sequential type data.\n",
        "   - A generator function returns an iterator object that can be looped through to access the generated values.\n",
        "   - we can call the next value with next() method.\n"
      ],
      "metadata": {
        "id": "yYnTrR2ixfex"
      }
    },
    {
      "cell_type": "code",
      "source": [
        "#Example\n",
        "def square_numbers(n):\n",
        "    for i in range(1, n + 1):\n",
        "        yield i * i\n",
        "gen = square_numbers(5)\n",
        "print(next(gen))\n",
        "print(next(gen))\n",
        "print(next(gen))\n",
        "print(next(gen))\n",
        "print(next(gen))"
      ],
      "metadata": {
        "colab": {
          "base_uri": "https://localhost:8080/"
        },
        "id": "47Ar4KXYU8B-",
        "outputId": "216e6ccc-f6a5-41f6-bac8-9168338070a1"
      },
      "execution_count": 56,
      "outputs": [
        {
          "output_type": "stream",
          "name": "stdout",
          "text": [
            "1\n",
            "4\n",
            "9\n",
            "16\n",
            "25\n"
          ]
        }
      ]
    },
    {
      "cell_type": "markdown",
      "source": [
        "7. What are the advantages of using generators over regular functions?\n",
        "   - The generator generates values one at a time instead of computing and storing all at once, making it memory-efficient.\n",
        "   The generator is faster since it does not generate all the values at once.\n",
        "   - It can generate an infinite large list. Meanwhile, the regular functions will crash when trying to attempt it.\n",
        "   - low code complexity since yield handles iteration instead of regular fuctions."
      ],
      "metadata": {
        "id": "p93R3DrR5l7y"
      }
    },
    {
      "cell_type": "code",
      "source": [
        "def fibonacci(n):\n",
        "    a=0\n",
        "    b=1\n",
        "    for _ in range(n):\n",
        "        yield a\n",
        "        a, b = b, a + b\n",
        "gen = fibonacci(5)\n",
        "print(next(gen))\n",
        "print(next(gen))\n",
        "print(next(gen))\n",
        "print(next(gen))\n",
        "print(next(gen))"
      ],
      "metadata": {
        "colab": {
          "base_uri": "https://localhost:8080/"
        },
        "id": "7UTgYU3kV0aL",
        "outputId": "d01e93d3-6c90-4c2b-9c3a-7337e966386b"
      },
      "execution_count": 57,
      "outputs": [
        {
          "output_type": "stream",
          "name": "stdout",
          "text": [
            "0\n",
            "1\n",
            "1\n",
            "2\n",
            "3\n"
          ]
        }
      ]
    },
    {
      "cell_type": "markdown",
      "source": [
        "8. What is a lambda function in Python and when is it typically used?\n",
        "   - lamda is an anonymous fuctionsince it does not have any name.\n",
        "   - it cantake any number of argumengts.\n",
        "   - it only evaluates and returns only one expression.\n",
        "   - No need of return statment and def keyword.\n",
        "   - syntax: lamda argument : expression.\n",
        "   - lambda function is used to evaluate only one short expression and only once, meaning that we aren't going to apply this function later.\n",
        "   - Usually, we pass a lambda function as an argument to a higher-order function, such as Python built-in functions like filter(), map(), or reduce()."
      ],
      "metadata": {
        "id": "pDfn-Srp8qXY"
      }
    },
    {
      "cell_type": "code",
      "source": [
        "#Example\n",
        "square = lambda x: x * x\n",
        "print(square(5))"
      ],
      "metadata": {
        "colab": {
          "base_uri": "https://localhost:8080/"
        },
        "id": "l5-VfKjGWHKh",
        "outputId": "c6d8c48b-d4fa-4923-980c-413eaf168ce7"
      },
      "execution_count": 58,
      "outputs": [
        {
          "output_type": "stream",
          "name": "stdout",
          "text": [
            "25\n"
          ]
        }
      ]
    },
    {
      "cell_type": "markdown",
      "source": [
        "9. Explain the purpose and usage of the `map()` function in Python.\n",
        "   - Executes a specified function for each of the items of an iterable.\n",
        "   - Syntax : map(func, *iterables)\n",
        "   - makes an iterator that computes the fuction using arguments from each of the iterables.\n",
        "   - stops when shortest iterable is exhuasted.\n",
        "   - It is useful for performing element-wise operations without using explicit loops."
      ],
      "metadata": {
        "id": "caxv8zO_BW_-"
      }
    },
    {
      "cell_type": "code",
      "source": [
        "#Example\n",
        "numbers = [1, 2, 3, 4, 5]\n",
        "squared = map(lambda x: x * x, numbers)\n",
        "print(list(squared))\n"
      ],
      "metadata": {
        "colab": {
          "base_uri": "https://localhost:8080/"
        },
        "id": "0kNJv67jWT8Y",
        "outputId": "12d8a44f-00a9-4cca-f7ed-eb9f8ec69504"
      },
      "execution_count": 59,
      "outputs": [
        {
          "output_type": "stream",
          "name": "stdout",
          "text": [
            "[1, 4, 9, 16, 25]\n"
          ]
        }
      ]
    },
    {
      "cell_type": "markdown",
      "source": [
        "10. What is the difference between `map()`, `reduce()`, and `filter()` functions in Python?\n",
        "    - map() is a higher-order function that operates on an iterable. It applies a given function to each item of the iterable passed and returns a new iterable with results. Syntax : map(func, iterable)\n",
        "    - reduce() is also a higher-order function that operates on an iterable. It combines all elements of an iterable into a single item by applying a function provided to the pairs of elements. Syntax : reduce(fucn, iterable).\n",
        "    - filter() is also a higher-order function that operates on an iterable. It filter outs the elements or values based on the fucntion given. Syntax : filter(fucn, iterable)\n"
      ],
      "metadata": {
        "id": "Fo3UgV2uI-9t"
      }
    },
    {
      "cell_type": "code",
      "source": [
        "#Example map():\n",
        "numbers = [1, 2, 3, 4, 5]\n",
        "doubled = map(lambda x: x * 2, numbers)\n",
        "print(list(doubled))"
      ],
      "metadata": {
        "id": "egRgyTHXWgRk"
      },
      "execution_count": null,
      "outputs": []
    },
    {
      "cell_type": "code",
      "source": [
        "#Example reduce():\n",
        "numbers = [1, 2, 3, 4, 5]\n",
        "print(reduce(lambda x,y : x+y, numbers))\n"
      ],
      "metadata": {
        "colab": {
          "base_uri": "https://localhost:8080/"
        },
        "id": "DIcVtcTnW0M9",
        "outputId": "0c0817d9-ae52-4ce7-9ad7-e1bd62ca0f70"
      },
      "execution_count": 60,
      "outputs": [
        {
          "output_type": "stream",
          "name": "stdout",
          "text": [
            "15\n"
          ]
        }
      ]
    },
    {
      "cell_type": "code",
      "source": [
        "#Example filter():\n",
        "numbers = [1, 2, 3, 4, 5]\n",
        "print(list(filter(lambda x : x%2==0, numbers)))"
      ],
      "metadata": {
        "colab": {
          "base_uri": "https://localhost:8080/"
        },
        "id": "81a5vx2UXHrD",
        "outputId": "aa05b72e-eb51-43f3-c824-7686f621c2f3"
      },
      "execution_count": 61,
      "outputs": [
        {
          "output_type": "stream",
          "name": "stdout",
          "text": [
            "[2, 4]\n"
          ]
        }
      ]
    },
    {
      "cell_type": "markdown",
      "source": [
        "11. Using pen & Paper write the internal mechanism for sum operation using  reduce function on this given\n",
        "list:[47,11,42,13];\n",
        "    - Answere :\n",
        "    ![WhatsApp Image 2025-02-10 at 3.56.40 PM.jpeg](data:image/jpeg;base64,/9j/4AAQSkZJRgABAQAAAQABAAD/2wCEAAYGBgYHBgcICAcKCwoLCg8ODAwODxYQERAREBYiFRkVFRkVIh4kHhweJB42KiYmKjY+NDI0PkxERExfWl98fKcBBgYGBgcGBwgIBwoLCgsKDw4MDA4PFhAREBEQFiIVGRUVGRUiHiQeHB4kHjYqJiYqNj40MjQ+TERETF9aX3x8p//CABEIBkAErQMBIgACEQEDEQH/xAAwAAEBAQEBAQEAAAAAAAAAAAAAAQMCBAUGAQEBAQEBAAAAAAAAAAAAAAAAAQIDBP/aAAwDAQACEAMQAAAC7VBQUSdQmO+JdctRVAAAFAolBKCwKJQAjqEoASgAKRRKEqkoKEoSgoJQlCUAACkoAJRFEWApFgAKRQlEUAJQABFEUQpFEAABFEAAAlElVJ1CLCLIiwmemR8nPTOzleSSj9CJVAUSiZbZE1z1JQKJQAUBSKIoAKJQAAAKIsAJQAKJQoAFAUiiKEollJQAAAAAAAAAAAAFIoiiUEohSLAoihKJKIoiiLCKIoiwAiygJKICLImG/nPl56cWcTqHKw/QllAoAJnrmTXHYpSFABSKAABSKACwKIohQlAEsBSKAFlFlAFgoAAAAACgCAFIsLKEBZRKIsALLBZQAAAAAAAAgsohSLABKEoiiKOVglEnUJKJKOfN6vIfN474s5nQ5UffEpQAKTjTgz3w3FAUSiKACgAsBQAUgAAIoASiUACiUFlACgAAAAACpQACLCgAASgBKJQEKAAAAAAACKBBYLLCpQCAAAlCKJKJKJOocrCeP2eI+dOpZeOuVZ2n6BLApFADjvgz3w9AUAKAAACykUACksoABFEWAACBQLKAVKLKAACkAAAAUQCwUAAACUARQAAAAAAAAAAAlCUJQABFEAAUQAEWEWEnXJPB7/CeHnvOy89cLFzP0QgoAoHHfBl6MNylJQALAolAAAAUigAUiiAiwSiAWUAqUoAKlAABCgAAoEoiiKAAAAAAAAAAAAAAACwFIsCwAUIogIoigCAssEoksEsJ4fd4Dxc22ccbcLnLD9CIAUBSc95me+G5bBUoAsFAAAAKSgAAsFABFHKwgFgtgoFBZSUABCoKAABYAAKlCUALAAAAACwLAUAIoihLBYKAgqCgAAihKIAsJQAgICEJ8/6HgPDZzZ6PPOV5rk++5sdIOkFvI65cnG/n2O3I7cU6kh1eKdXinTkdOR04HbgaM6duB24GjgduKduB3OR3zAkh05pQLBUpQAEoQVAsFAQVKAALAAsoAAAAAsFikWCwLBUoAAlACUAAAAQpFACUQEoRYQEnUOfH7fIeDnTKyc9cq5U++WI6EURaTPXgy2y3Obacuhw7HLscXocO6ZtIczSHDscXqnDscuhy6EdDl0OXVOHYz52hleqcuhy6HNtOXVOHQ5dDl0ItOXQ5dDm9QiiKIoFIoigAogCiKIolAAAAAAAAAAAsAAAAAAEoiwSjlYJYc+X1+U+bx3xZM9OSc98r+gEUAoA474M98NwUAsoKIoAAAiwVCgAAoAKgoAObYAALKFEKQpFgAABUBQAAAAKAAAAAAAALBUpALKARYKhUoIAAAAAAAAJRCCUSWE8vq8x8yJZOOs1k65P0ViKBYKgvHfBnvhuUFSgCwUAABRAEoAspFhUoAKSykKAEFSiwVKAEoQFgAKSwAVKCFShBbBUFQVIdOR0grkdXilc0rkdOR05HTkduB2zp2zp1c6dzmHbgduKdOYduYduB24HbgduB3OYdzmHbgdTkXz64ny+epZzz1wpzD9Bekcuxw7HDQccbZmO3G5wuFbO0cXLWl6scOxw7HLqnDqmPO+Vca3qOZoM7acNOTk0OGgzvY4djh3ySd0zaDN2OL2OHcObejh2OHcOXcOVEc6HHG4wa8V1ekcuxy6HLqnDqnDscWiOhy6HNo5tEURRFEURRKCUQABYAAAAAAAAAQAEWEBzh6MD5PPXNnEsXmWn6AsACgDPTIm+G5PJ7PNXo56sZc7Y1vZYAjMa3PQAmWnNaCLFPNrn1XXXGsZyq0ELKJR51td9cdwA8/owNrhqTnUY7ZbUEAJYZGlZacw2Ec8d8VqIoFgoAAAAAAAAAAAAAAAJZRLCyiAAsAAAAAACAgEsJjtkfI474s446Lw6H6BxY7cDu507cU6y7yLthqXy7Y162I6udNuvLtGlzpy6h11nTtwOemVb3z9xrcx1n2Odc6ca8U7cDvjmG7gZ9UW88HWmPZpnRjvlpXeXWUbdY9GnFxre52O3MOL1zXec7NGaOuM9K1cI0cDtwO3A0cDtwO3A7cDtwO3A7cw7nI6cjpyOryKgqCoKgrmlgAEFQVAAKQBRFHKiToczscTuHGe3J8fPXKzmXha5h+jLApFEoMdsS65ahQAKSgAAAoJYLBUoAAAspFAADjsSygCwWKSg47CUQCUJRm0HPVEoAJQAsFAlAAAAAACwWAAAAAAAlEUQAAAAAAAEBARYTnqHyMPT5q4WHM6h+iEUBRFEy2xG2WoABQAEoAKRRFgAsFAAAABUoAAAAAsoAABAAAAVBUFShBQCgABKSygAAAAAAAhQCFASkUSwAAAEFQUAhUAgIEDm8nzvJ7PJWdBl3D77uxw7HM0Gd7GeXpxJpNDh3TN2OHdOHY4dw5TQ4djmdji9Dl1TiaQ4c81pekcXqnE0hy6pw7HLqmbscOxy6HLscNBnexw7HDscTSHE0hxeqcOxw7HDscOxw0Gbscuhy6pw7HF6HLqnDscTQZtBw6HLocO6efrTGtHVji9Dh2OXcOZ2OL2OJpDh2OHY4djNpDl2OHY4djh3Di9Dh0OZ3Didw8Hi9/wA8vDmryH6IRQCkoTHbA0047BSOcT0M4asuzpKef0ef0UEEFsh0z0E64M9c9SLBcNwAADz+jDaqlhnpgbpSpSgAAILOegsBCnJ0UYb41NuNIAS8HTPit2ekVzyaGNbOJGlgqUAw2x1q56YxdeBpz0PPvhvQsQBYWABYAAAAhQAAAQEAlhJYeL530vnHPHfNR1yv6G8JO7nTu5jRmOsO8z03gaM6d+T0YV3zpkad8jjvPo41z7Os50ca59Gnn2yL6MejVyjPbDqtpx1GOmfVTm8Hq8+2ZG+JnpNDPTOHWeuZu4EneB7LyjpIdZd8nOe3nrfuI7jznow2wrfC8HqvFjqTg66w2OnI6cZVe8dDVxI5z9GNa8aQ7894PVc7Hdwps4Ge3m1rS58w0w6ra5Zj0ZdHbhHbgduKdOB24HbgduBpOYduB24HbMaM6duIduB24HTgdzmHTmHn+b9L5hzLzXNQ/RWIqUWCgyc9GtgoKgqCoKgqACgAAWCyiKIo5dCOhy6HE0HDscO4c204mg5vQ5dDnnQZ3sZ3sc4+iHLvMuGvNaW2IoiiKIoiiKIoi5nfn1zrekYbc9gpznsOOlIUiwlAAACKJQiwFBAABKAAAICLBLBzYZfJ+v8AJM+euaucp+hEUCgBjZTZBQLBUFQWAsAFQVBUFQW8jpBUFvI6c0qDpBUFQVBQLAAAQW8jpBUE6lCUWCwFgsCwAAKlOOlJQlAAAAACAWUlgAAEKACKIAAAAABLCAiwSwz+N9r45nx1K5nfJ94sAKCUY1TteTpBbzSpQABYAABDpzSoF5h25HV4HTkdXgdzkduKdOB25h3c6duB24GjMaMxozGjgd3OnTkdzmlvItkOkFQWBUFBKBRFEWnLocuhy6HLocuhy7HDocuhy6HLocOhy6HLocuhy6HDscOhy7HDqnDscOxm0hm0hxNBnNIY/K+x8U540zqSj9AligFCUxsG2O1PJbpXFbCXmOrloVKCCygyO7zwa3zekUJjv5q9AhnpwO8Oq1SwAKRRxclbOeoFAEonPYy0x6rROoy7x2qiByLx1Wjix0gsQt8+5bzSpDpBc+8D0XPo6vI6cDtzSoOkFiFSHV4pUoAZ6BKAHI6SggIVz0HHY47xrZnpAAElEWElhl8j6/yThOKvHXJ+hLACykqGXPVNkphpxpWNw9hxcxrltgehLCdeY9DnCvRz15T147Yk3w9ApE8m3FaTTE608nsPJ3zrWlyQrI9N47gcHn0740mnn1jXJTXrjuAE56PPrla0z2xJ1ejukTjTGpt5vUZuNiTzeoz18+plt5/SVUZ949V1c4ac5bnHWdO+uOSOfQdWItQqUZ6DDjXOmuW5jthsdpY5ncMuNsK114osR05pbwM2e1efXjuu+dMoZ9a1l6fJ6Y6co6ciuRXIqQnyfr/NPHztxWV6h9q92M2g4d0zaDzdOjp3TDvQZXSHn63hln6uay70RxxtTzceyV556bGXHoGd7HDuni69crPL0owbjHvseeeqVjNeow00HGHrHnnoGF2Hh33lYt0Z9djHj0jydekYZ+sebvYZtBw0Hl20Hl10Hk30V5r6B5tdEZ3sZ4eyGXHop5evRDBvTzaajzdbjz6aDNoM2gzvYzaDK6Dz96w4vY442HnehWHekjl0OXQ5tpzOxy6HLocOxjp0OXQ5dQ5dDmdw5nQz8X0MD5fAMdC/dogBRFGNlNkoB5+orZx3CwVKLBZRKhUpLBUFAsFAlEMjW8dihYACWAHHeOxUoIVKFAAAAEBUFAcdgEuGxQFhGXFegsSgAY7CwKDHbE05mVeiywBxeVaCAAIolAAsCwAAAiwAgEsJhvgfK47yrrvLiX9CEqUsCwMe+OjWwdZ94Gek2rzb4d1rjbHenNi2CgZa5me+WlZM9K0XKLpeDuZ8Hp5zHfePZ3nwO9fP6IoFlM+uczvvDSuplma9Tg3sxjXOKu2WsW80qCgA4x6tc6+T2Hm9OPZqljnnTzV6MrkeiyxTk7SGbviu7hsXnnM36y6jPTzaVvcu47cCY1Q5rvXjOOpOTbLobdZ2O3A7cDtwO3A7cU6cw7cDtwO3A7cDucjqcjpwO5zDrHrE+XO+K5ofad2OHY4vdM5rDzdOy3scYeseTfQYthjNxhdhm0HDunGXop5u9Rg3GLYYzcee7jHrWGLank617XDTupw7HDsc8bQyugwegYth57uPPz6pXn62Rnexxexw7HDsZzUZTYeXvdXDuxm0GOWsrqu45z3HM7GF2HHGwzaDLvoZd9DjqiUEolBnoIok6gKRYAFgUSyiWAAAApAJRCAHOO+R8nDtXOfe8v2AigqFlhj3xodgqUAAKIoigAAAAACxQAAAAAAACpQABKIBQAIKAAAACpSYegc9AABYBRCkWAAAAAABKIAApALBUoABKCURYWAAgJRATjvM+PnpjT0YcS/oWdTRxDRmNGYz28+pszp3cxozp3cxozGjMaOIaMxozGjMaMxozGjMaXKmjMaM4asxozGjMaMxozGjMaXKmjMaM6duB2zGjMaM6dOB3cxozGjiGjMaMxozp24hqzGjOnbMaMxo4HbOnbgduB24HbMaTmHbgduB1eB0gqAUigAsAAAIoijl3Dl2M70OHcOHcOOdOT4+Xp81cWD79lhZQBLyY+jzektCUAKACUAAAIoigBLACpQCywUIz0FlIz5rZjtFBZQAABFhQEFIHFrplpFAUAAALBUh0lBCgQKlCCwAHOUre8o6mXNehLAAAoAAAABFgKJRF5LOegCEEsPmeL3+GuM+6ffpFAA564MvT5vQWygACwUAAAAAACWGDn0Viz9NTSXJOuRcujQGG3nta9+fcsvMY747UqwAABGOpXn9Bc9MznvjuuxHEWs9ctgIoAACjz9aqwuPrqdy5TDXCtunUeX0Y60uXRplrmSymgjz3bmqz7M+s9a0GVAgKhQAAAEoIUA6hj9Hnnr42P2/iafQ68fs3mSiS8nh+f8AS+WTm8V+juVjRmNWQ1zcE9Hl2NWY1ZU0ZjRnTtnTRmNGY0ZjRnTtxDRnTtmE5tZ6dQt56O86jjorS5WNJwJpwNM7yTXOmjOmjMaTgaMw47lZejzbGlzRpOB3cx1yg65VozsduB25HTmlSmc1VznsMtKic9iLTnPaGfG2NaurHDscc7Dy30qzmqPLpsM2gzaDNpDh3TNoM2gzaDNpDh3TNoM72OL2PbMNuWr8X63grz+jR0znNIZ8b8HzvH7vBXC5n6OkAKEz1yOd8NygAWUAWCgAAAAFIsCwAAFIoigAAAACgFIomW2Zj6M9aCAACwgBSKAAAFCWACgAAx59CoqIoAAAEKAAlAAAAEsFlBCoKC3lHXJUBOeoTnrk8Pzvo/Mrm8w/SCAFlJlrkTfHYWUAqCgAWUAAAAIKlAALAAAAqCwAAKgtgtgWCwAACCoLLCoAAFlAAAKQqCoKgqCpQQqUEKAgWCwAFgqCgEKgAXkdSC3mHbkdOB04Hc5HU5F5cnk8Ht+dTO8n6O5I1ZU0ZjTK5nW3m1NLkNWVNGY1ZjRmNHA0Z07cDtwO3A7nI6uY0nI7cDtwO5yOnI6cw6vI6QCkoCkURRFpy6HLocuxw7hw7pxNIcO6ZtBm0hw7HDunDscOxw7HDQcTQZlI6pxehy6pxNBnexw7HE0HE0GbTMO+A7pnexw7pm0hzO+A40qOkcusjuujm0RRFEnUOZ1DPnWHzvnfV+TXPPXJ+lEFADLXIm2Ow468teq46Rbhod3DYt5osHSUAAAILAqCgIMtvJ6qsIuOvmr0XjiNrBUFAsoBh3hrWnWO0AAUCXM6uXZ3LAAUc9Qz08+9VjtE6goKlALKMONc670w1OhBlqUBzDtxDRkNXI68++NbeffA9FlgBeaATHTilg1sRfL6vNW3Xm3OmNNkRQJYJYTnrk8fyfs/GrOdcn6URQAMtcznbLY4w0zqy8Vtpl3GO2MrTrnaMusfQdUhYLAZRWrOGlxh13IOsuC9641Ncuomeupln6sK051xjTnim2U0Jp4/WdXmx1htT5/r460y7w9ZceNo49HA0uWkMtcqz383pOnn3gyzr0XLk6747PJ6sPUYM9y94i9XM3sRQDMcdZ1x312dYa5F2zpq5sXDbGuL3K6OYmmQ14dHPOuZ6HCO3Ay0x5re59E1x1Meryb3NGnm2yrXybcU0dRox7jRxDScw7nEO5zDP4n2vl15uPRwffco7kFQXPTIbY6mG1Vlx6Rz0sZZ+lWGnaM+uqcuhy6HLuHn71pjn6lea+gZ3tHm59eVYb99Hmvop5b6R5+9hlx6EYNx5HqV4vROhe7HHn9Y8mu1PPpoPLPWrzd7IzvY4djN10ee7jDn0qzx9SPJ16VefvVHm63VjdkZ8bjNoOHY4djG6jh3Di9ji9U5dDl0ObRJOyKIoigABKJeOxKJQhibJRLyctBKACUSUczqHPxft/IMMNea++IpRLBlrkNstQUgKACUECpSXLQqZmoALAAso5dYVtZYoFCLiagmeg823dqGEeiygKAIlQVAsGO3m9NUQByxlelx1FQdIKlEsLMabOR056DKmnm9Hkr2OO4UBydJDplTPfDutLzlG1zwr1uO4AKIZncyVux2gBhthWhwa5OTa46nQipSAkoksJ8z6XzDyRlX6MQAUTPXEuuWooc5TutLMDe4Q9GLs4vHZxtl2dM8z04d5Hp5yzPXzzDV5ujTnD0Gs55NfPpieqyxQUEz1hzhtaz6YmmsR1x1RZQBz1gTnfy6evPvzx1vmOJpDj0500Swy14PNtxpplrwGfOp6LjctbnTtwMd8NqzznVd7+fqNMCtvNrzHoudjRmNPNrnWvHPRnbC29HM0Hn9HOZ6L5+41ZjRmNM6PP6cu6434R24GLpVnUHHXQ7z6OnKOnNKkLJDqSF8Ps8h89xa+2qJaItOct8jnSanF6p5dNlZ4+oefn1ww70R5uvQryvUPPn7YeSezk8musOOPTDz30U83W48nfo5Mc/YjK6jNoOGgzaDLD2c1hPSMG6M2gzaw4d0zy9I8s9asGnUZzWmLYZtBw7HOHqHk20HPGtMroOL0IoloiiKIoAAAAAAUIAAAUgAABSAFIAAABKCCwICSjnyevznx8vRxX3lQAUTLXIuuWosFIVKS59GWmUr0pYsec9CUWAAAUlw2KAQt8+4KAAIhQAACmG3n9FVLCXkxz0w09t5uXSDz+jyequhCygEoLAKAAAAAJYVKEoAAKEoAlgWAAAAAAAAhQAAAAQEICEx2zPhTTGv0aWAKguOuJ1rlqAcd+L0V3xloNsPQeedK2GV83p81adc5m+MhrrnpFQKg47wNHWdaXHWONYLYKgqUwdcVsmRrxczfKU704sebvL1Vnt59Sc6Qy8vV06757i94bx5fb5PTWlzuXdzGjMaMxozGjMaXMaM6duB24hpOB24HbgduB3eB2zp24h3eKdOB24HbilQVAAnQ5dDl0OXVOJpDh3TNpDhoM2gzaQ4djOaDJoMeduT4fOmFfdaIzvY4aDPP0Yk0mpne6efrZWV0RldBk1GbQcZekeTXZXi69Q8/eyMrpDh3TPnbkybK8u2foOGiM2lM2gw07Hn59Sse+0ZXQccbDHvscuhzaI6GOnQ5tHPGo5oAUAAAAAFQUAAhQAAAAAAWAAAKQAAAAAAAAAAACWEWEWE565PjYb4195EVKLBcdsTrXHUoKAAUAigAAoiwASwqUy49CuO1iUABBYKlAAEsKAABYKlABCwLAqCgEKAAlAKgsABYKAAAAAAAAAAACFAAAAABCpQAAQSwSwnPXJ8zwe/xV9282LYKC465F1y1KBYKABYKgqUAAqAQAILYKg6cjpwO5zDtwO3A7ZjRmNGVNLkNLkNWVNGY0ZjRmNGY0ZjRmNGY0ZjRmNGY0ZjS5U0ZjRmNGdO5yOnNKgqCgKJOhy6HLocXuHLscTSHDscOxw7HDscO6Z3scTSHDscOxw7pnexm0GbSGbSGc1hnzrD5fj+n8uvsNLGd7pne6Z5enEmk1M2ozaDO9jhoM2gzaDiaDh3TNoM2gzaDN2OHY4djh2OXQi05dDlRFEcZ1uz0gzGoKAAAACyhAAOKdIK4xr0vN6QIoBSUAABCkKACuaUhUFgLAsBl3XTnI3RFefutRFAAlgspFBBZRFgAlglhJYeP5H2vlV9oRQVBcdsTrXHYWCgoBCgWCoAAKBAAAAGJq8/Neq47QMztj1WlI892lcdZank242rSy5UCglEIVBUFZcm7now1x6rnfyeo467yON/LqbMtDoQsFAAlDDcYTTiutFhz1mY+ny71px35j0cMj0iOOebWnXHcZ8941dHZjJ0a5bU47w3KIELAAAAqAAQsQIEkM/jfZ+LX27EWwdILjrkXXLQ6SiwVKAKhSFQWBUHSAQqCoK5HWfXBfPpnp6r5+41y7hzpB24Rw7lc9wYenkaM0asxozGjMaebbOtcHB6rl1HLpV7zsdzkZejhXbhHbii806cjpBQR0OXQ5z3Hleq15utkcNB5+9RnNRjl6+azvO0ZNRm0GfO1PNfQrDrVHnehWPWiM2gzaDOawzaDNoOHY4aDNoM3Y4mkM2kOJ3DL5X2PiH1GlM2g4d0zz9GRz20OGlM2gzaDhoOJoM73TOaUzd0zaDNoM2gzvVOHY4vQ5mg4vQ5tLFJFEWAAAACgAAAz0yGuWoAUSygAAAAFSgAACgAAAABx159K43z0FlgAAAAAAAAQAAApCoAEvIBCE+T9b5Z9CgAqFx1yOtctCgWCgVCpQCoAFgqCwAFgqUAAqVSBYQQoAEolgqUWCpQDLL1Z110RUFQVBUFQVBUFAAAsFQUFQVBUFQVKc86QAAAsAQqCoLYKgqCxCoK5HTkdOR05h24h24h3OB04h1833eRfalQABlrkXXLUqUEOkoSiwVKECwVBUFSFvI6kh24HbgaMxoyGrIashozGrIaziGlyGrIaXIaMxqyGrIasqaXIashrM6duB24HcgoECxSKI6HLscOxy7HDscOxw7HDscO+SOxw7HDumbSHDQZNBm0hw6gd0zdji9jNoM70OHY5dDm0RRFHM4holIsOfJ7PMvTQnDSHDQZ5+jEmk1M2gzca1GiM2gzvY4d0zaDNoM72OHY4djh3DlOa7WxFAFSgBRFgBSFQWAsFgL5vQVBebgb3MaJQCoKlKgoJjt5a9PPSM9fP6KCKBZRLiNKKkOiFQPL6vHXsz75ju8dFSgFgCk82/lrfPvo0SwTg0Tk0BAJznW8z6O2HRqz4jc4MZedN7npkBzltwQCgAx3xLrlqOevJWvVzN7yjpBXNONOOjpzSoKBYBwdzjsy0x3qY7+Y9KSOpnoW5dnSUUAIwlehzxGqYm0x4r1MuTTTHoy9Hn9BWHB6se/Ma3Lo27mUbMNg81r03HaKlFDjy75Vt2hh6PFpXpznMdb+T1FsRfH7PHWunOR6M9Myczurxz6oy8vr89erm+eNNfOPVn1mXXHU6SwBz5k00vPZzthpGNuldZd4x67wjtwOsuvPXS8VrpwidZ8GvWFJx6M626zZaTiHU55OgLBQMtci65ajw+zKmXs89ONcz0ZTuPN7PJ6656y5jqenzm9lhYKgz4mleX1+b1V5PV5/THGHqwNfP6MKvpzROLTbrJGzKmmPUOr5+6mmYLTTHuHN44NNs+jPTnow74tejPix3noJ3KZ6cdmF3GO3n9JLUczTkmO2lZzWx4td1eO+no83e1Muu0ccbjBvTy66wxbU8r1K83PrhlzujC7DzaajK6DO2nLscTQcuxl12OL2OHcIoiiKJzaZ6UJcTUCUQEWHM6h57oM2gzaUyz9GRxrNTJrTJrDPnXise+9DDrSmXHosZzYZXQZ3scXqnE0Gd7HF6HLoTnuGWlCURQWFAAWBRFGDvitaQURYZ94d1qWIoiwS5mOvGenp6yuWwFgoAAACCkLeaVKOeoZ6+b0gFlEWCURRj3xpXQglFz6OgAOO4VxK0ECGPee1L5+zXz9ZHqvPUAQEA5sOChRFgx2yJtlqUCUY862rnqjy+nDSuN89YUAHPXnN7zSnJ0x1KUASjPrPYk55NJ59q7x3kW0RRFApFhJMT0MtiMYbmJw5709BcgHHYwm+FTH1Y1rGRrpnlHfeehrZYqBZSZ9+WtZvgaY3o400p51taTTiPN6/P6RSAM+e/NW8y2Os+sTTvMad+bYz7wtXWdx24sdOBO8uaXinouaOmKp3h3WvPPMenHrk3cSNJxDRmO2cNJxDoFSgDHbEa56jPTKurMD1ZaZHO+O5hQ07ligqBhvjXM74rbza8F1kjeco7cDtxDS5h1jxU9Xl6PRce47uY0ZjRmNGY1mYz189pt5ty8acHVz4NOFN7xY6cig5w9NMbrTzaa0x8v0Fedr0Yd6WMmsOGgyz9Izz9I8z0qwb2PH16lefvVHn71hm0HDQZ8bjHL1ysePSPO9MM73YzaDz6aKioi05dQAihKOXQiiKJOoRYQEl5HNhm0Gd0hw7plxvkc6TU452GDcefTSmN1GU1Gd7pne6cO6ZtIZtBxxsM+uhy6EsoKRQlwNwSgUSUSgAoQEvHYKJYAHHRUoKSgy18Z7EpUoURRFgURQAAUAACkAABFEUQAABQAlAEAASgAARFzXp5h6IWObCS8lAAsox1yLrlqUAFQOZjXp4uB6bzYoFnlPWgqCpQlAMN5QCuaXzenOtBBRFGGenNT0TA9LjmNUyNmG55vR5eq9LLWLFIvB5/R4/TWPp8/RvfN6A82Z7fB7vLWu8uVsFSgACwVKAALBUFQVBUFQVAvNCDpyKkOnMO7wO3A7ZjRmNGY7cQ0nENGY1ZDVlTTGzjvHy+7LF8n0vk+30Y9Mzlmk4hpYKBYLjrkXXLUoMdPJvWlzzNs89i5acG3UsUF8nr8VerrDg3wWrpNIt5R05pXIw9Hm2pzmPUzsaMxow6NbkO+eca6lG/nnZv5tsza+fQx9WYz34RrcqMteax2dHm9KmPfY8vXop5utxy6Ry7HDQZ3scOxw0GbQZtBxNBw7HDscNBm0GbQZtBm0hw7HLocuqcXocqI6EKAACFgEFQVBUsTPWY1lxplx14fbx6vRiTpqcOuTG9jh2OL2OMvRkTSanDQeHr12vK37PHrvTyd7o4aUyugzw9Y8fXqVjh7aeTv0SOHY4vVOL1DmdjjLruuqQKZ90EoKJYSgAAAAoAACkURRFEUSglhYAoQVKAAAALBUFgAAAEFQVKAAALBYBBYAAAARUqyWEFkA5sOALKAMdsTvXLUoFlAAACgAAACwAFgsDnLe1597AIWABYKgtgAihKAAFgqUJRYLAWCoKgsAAgqCoKgoKgqCoKQqCoKgqAgqCuR05HTgduB2zGjMaMxoyGrIaMxozGlyGrIashrM4azMdOId88w6AoATLXE01y1FlAKBAoKgWBZQQqCoKkOkh05FvA7cDtwO3ENGY0ZU0ZjRmNGY0ZDVlTRmNLjTVkNWY0ZjRmNGY0nI6QCknQ5dDh2OJoOHVOHdOHYzaDO9jh3TNoM2gzaDNoM3Y4djh2OL0OXQ5dCKJQEKw1OoyNWGldiFgqUASwAAksJLDG90zaDNoM8vTiNGhnexw0HDscTQcOxw0HE0GbQZtYZtBm0GbSHDscuxy6HLqnLocrBZQBYKlIgpwdoKQt4p0lFCWUgFlBCoKgqCgnPeJpj3K416856bz1AAFAAAIWMTZnTtzSxgbnJ04p047DiGrPQAw2w3rzbZbHWHoyOsc9zUQKRRFEWAAggSWHNgoAGWuJr3x2AUAAACwVKAAAAAAALKARcDXPPauJj6i0gwtbXDaOeNcK66z9Bjp1gbYa8Dn0ZGnXHUWwWAKcsdK74780ekHOevNcdd8miWGG+VXPvQ8nXo89emxlQLBQAAJRzltDCc9abXjrLnz+rGu+N8TbCZHr7y7jjvGV6b59I1ZjL0ebSs/R59TrniG/nvJ6LmjVkNWQ1ZDWZDVnDRnDSZjucQ7SlSgDHbA10z7KCgAAAJRYFgqUAIKgqC2CoKguXfJl2zq7+TY2Y8muegz25R1hrjU3nB3zejTzajid07cI0ZjRmNGYx75y09flnR63FyvPVMetFRbHPGo8t9SvHtsMrojNoM2gzaDNoM7oM2gwz9Y8/WwxuozaDO9w5y3xq6caQKRRKAAhUFiCwWAAlgAICCBIhEonQi04x9GBp07OXY4vY4djh2OGgyugzaDNoM2gzaDNoM2g4msM7oM2gzaDi9Dl1TmdjjpSKEolAAUiwAAAUAGekHn9Hnr0WWFgpAAQqCpQAAAAACgSiFCCoKDzT0SnRCwVBUFSkAIWIVKCFgACACBCE56gWFAspMN8DbvjsAoCCgqCoKlAACDpABUFQUAEspUFQUBKAEoAsAAAAAChzh6eKy26QAAAIWAAAAsFQVBYCwVBUFQVBUh05h24HbiGjIashqxpqxGzEasoashqyGrIashqyGjMduB1IJOoc89i2CgAY7YG3efZUFIUh0gqCoKAQ6gAAEFSHSDpyOkFvNKgqCoK5HTgdsxozGjIashrcaashqyGrIa3GmrKGzIashqyGs4HUCKOXVOHYzaDNoM2gzaDNpmHdM2gzaDNoM2nAdU5tpy6EURQcjoAAE47wrW59HRgehLBYFEWCUSWE56hObAzp24HbkXHXI07z0E6HLocuqcOxw0Gd7pm0GbQZXQZzUZzWGbQZtBldBm0HDumd0GbQZtKZXQZu4cuxzaJVAAKAAACoKAAAQoBCwAACUIKgqC+b0eetu5YAEKQuOuNadc9Qc06Z9nSUAnHfJ0zzr0XjuAGWmNNPL3W+HWZ6euOsqAABASwksJz0OLKAUDLXE61y1HE89ethoc68dwsFBUoBUoAQXm8HaCpQAQqUoKlBSAeb0+KvXjpmbkjpwO3NOnMO7jodAAWUy05zNmG5QJYJhzXpY5nqufcUADPvy1ppfGb3jqu+b3Hn18/qrnz7Q17Mqgy0wlXnm1rzEdbeSknfNdbc2NbjY1ZDri8VL1wbd4o2ZC4c6actEaY9jScyO5KJaczumbSGc1GU2hjzvDiygCwXHbEu2OxPPvjUstOLvE6xG7nE9E55NxBYVB5u9MK008/oMTY46xDW0y4vZlvzoURQUCOC+PfnTnvL0nE5hNOrHHE6rfzaC74o3uVjW401ZU455tb94dxozGmVhzxrzWV26Mu+rHE0GbQZc+hWWHtHn59Q809I870UxbIyawzugw71HF6GfXUDnokdGXfQlAAAQAAz0Bnp563sRZYAKE56xOu6MNctassiLDG8jpKAMtshpxsZ4+oYdajz3cZ8egeTr02vLrqjOajNoM5qPNfRa8/eqMbqPPdlYtkebn1q8ve4zaozaUyugzx9Q8u2gy76HHGnRjp0ObQlHF6CylSiwUFQtQWAIiccmwCBYKgt5pUFw289eiywBcNvPWveWkWwUCXznPp8Xq0y9GGkdnMdMN6CAIy5rdnDR5tTRj0Oc9TXm5G2U7Lnzoc756nn1x9AlkYa471BCIcAoKlGO2JdctgBlr5jeZd1pYi2CgAAAEKgoAGWvnrcyjW5alspKAADjuDLviud/P6CiAGemBsQtz5ra4ax2lKFS4JpcOa3nXnO9c9Tz9591tcuoY6+et1wjvXrA0z47rXmomWuVeqy5VKPL6saz5vNerLhHrcI7y4xrS9jhplWvn14O9/NpGtyRqzDzadaa+baReehJzoee79nnvoHk69Q8eu4xbI8W2vFc4+jQwu0jFqMZtDGwWygDLXIuuOxUpnh6caz1y2rvnJF2y2Ok6gUQMuspXfE2LOuTnvPUt8+wxsN8dvIb986FssAIxNmeVbccU15vA38+p3eJGrOGvj9HmrTnriprluTbDqNrjY1uVNWQyaWuNeeSzqmLenmnrGWPrpjx6Rhl7IeXv0Dz8+oeaeqGV0sZNRm0pm04JhvnWttiKAEokoLCpQlECgJQQssBQACKIBKJKOVhFh5L1Tl0Ob0OONuTLXPc5dU8l9NrzabDyvUPO9CMroM7oM2g893GDdWLann71hg9Ax59EM5qjNpTNoM73TPD1jza6Dh2OXcOXVOVEoKAHOW6uOyFBZRYKAACwAAAAAAAAAFguOw8nqqosgoigUk6hFAAAAAACWCyghSFQWABASWEl5MygADnqGW/n3KlKgZlNeeoAAqU4783oK5zNiFQVBbAUSwUACwUACwVAABQAEosFlEoKACwVBYFAAAAAAAAsACwVBUFcw7ZjRnDVkNpkNWUNmI1ZjRkNWVO3FLATqnDscNBm0Gc1GbQZzWGTUYtYZNBkAAAsMNstToF56Hg3z9dcdY9GueW5WI26z7jzb46VpZibeTXQnGepzvMzeywBFhUFABUFQVBUFQVyOrwO5wNGY0ZjRmNWVNWQ0uQ1ZDVmNGY0ZjtxSlOXY4moyugzmoyugzaDNoMroM2gzvY5vQiiKAAAIsCiUWKSAAAAAAsACLAQIEDzXumbQZu6ZzUeXS9EaUzaDK6Dzz1DDrUefj1jyd+ini22GePrHnnpGF2GePqGV0GbQcNBnNRk1GbSmN1GTUZNRm0hxexw7HLoc2iUAFABQAAAUIABQAAAAAIKAAAACwKgoBCgABQABEASwWCgEKgqAQEEsIkOaACygGPfPR2CgAWUAAFIoiiAFIsAAKABYKAAAAAAAAACpQBYCgAAAAACoFgqUASwWAQqCoOkC8w7cDtmNGcNWY0ZjRnDVkNWQ1ZDRxROqcTQZzUZXQZtRk1GLUZNRlNhi1GM2hk05OUosFQUGdlNLBQAVBUoQUFSgCUEFAIAAVBQLBUFQUAAhUh04HbiGjMaXIashqyGtyGszGrIaMxozGjMaTinUBOqcNBk1GTUZNRk1GTYYtoZtKZuxxeoFAFAAAAACgAgCWAFQAAAJYJYIhJYYOxy6pw7HLqmF6ovY4d04djh3TNoM2gzaDO90zaDiaDNoM2gzaDJqM5qM2gzvdMmoyajOajOajNoOGgzaDNpDm9Dm0SgAKLBUoBFEqAAAFSgCwWAsoAIWWACwAAALBQAACFSqAQghUoSgAhUFQAQgkhZzyRB05HSDpyObxTZzTpyOkHTkdILeRbBUHTkdXkVKWABYAAFQVBUoAAAsFASgAAAAoABYApKgBKACwVKAAEFAAQVIdOB2zhqyGszGjMasqashrMxozHbgdRSTocNBnNRm0pk1GTUYthi2hlNoZNBm7HDqHncjq8jq8ioObyNnI6vFOnI7cU6cjq8U6cjpIduKdXgduR1eR1eKW8jpBUFQVBUFvNKgsBZQAQt5HTkdOB24hozGrKmjMaMxozGjOGrMduB24HclIvRm0GbQZtBm0GbQZtKZ3scuhFgAlAACgAAAIUAAAAAAhYBAlhASWHz7QUJ0IozWltEWnLoc2iLTl0Obacuhy6HNtObac205dDl1Tl0I6HLscXocOxy6pw7HLscXqnDscXscOxzehHQigBYKABYAAAECgAAKEoAAAAAAiwAAAWCgAAAIKlCCoKgqCxCoCQ6nEO2cO5xDzIOkFShBzead3mlQVBbBUFQW8jpyOkHTkdXkdXmrUHTmp0gqDpBbyOnI6QdILeaW80t5pUFvI6QdOadOaW80sCpQAAgsAACpQAAg6QWBUFQVzDtnDWZjRmNGcNWQ0ZjRmNWVNGY7cigk6pw0GbSGd7HDscTUZNBm0Gd7HFoksOVh4UFSlQVByg0QVKVBQAVKCCwVKLBQWwW81beaVCW80qUJSoKCuadIKlLeR0gqDpwNHA7uY0ZjVlTVlTVkNZmNGY0nA7Zju506SkdUzvdMroMmsM2gzvY4vVObaRRAAAJRAALBUoQVAAsAAAAFgAICAiDmw+dZSULKJOhworoc205dDm9U4djh2OGgzd0zaDh2OL0OXY4vQ5djl3ThpDh3TNoM2gzug4d04d0zvY4d04djl2Ob0JVAKCgoFgoAAIoiiUFgqUILLAABYKCoLAAAAiwAEKACAAAsABYKgqCyQ6Zw0ZDSZw7nHJ5bBUoBYHIOwVKLBSgCgAAKRQAIVBbKLB1eaUApKACwUFAsFsFSiwUFCrKiygFBUoAIWABUoIVBSFgAEh05hoypozGjOGrKmjMaMxozHc5HUBLTmaDOaDNoM2g4aKyaDNqM2iM72OL0OVEA5o5Xk8AFgqUEObzTuwUFsFAsFBUFsFAAAAAAsFsHSUqC3mlQVKVKVzRYOnI6cl7cDRxE0uVNGY1ZjVlTS5DVlTRmNGcNZwO3FE6pw0pk0pk0GbUZtKZXsR1AUlCAAAAASiLAABLAKFIAAIoABCwIQSwkvJ4XA7cDtxTqQc3no6sFURaR0OXY4vY4djhoM7oM2g4moyajNoM2kOHY4d04vY5mg4d0zvdM2lM2g4d04djl2OHY5tpzehzaBRZQCgoLAAAEKCgAAAFJUKQWCwAAABQCKICAAgJYq3mhBXI6cjpzI7cQ1ZDScQ0mY65Dmd08CiAAAz656OwLKVKVKKAFiiwVKAUACykURRFAoKALKLBUpQAUAFBQLAoLKAUCygABAAspUFSiWFQVBXI6cQ0ZjRkNWcNGdO2Y1Z06kpFpzNBk1hnNRk0GfO0rO6DOajJojh3Th2OXQgKCSwRBLweIi1CVAIc9cdHYKC2C2CgqC2CpQCgAqUAWUAWCgoAKgqC3kdOadOR24Hbgd3gd3MaMxozpozGrKmlyGrMaOIaTgdRTl3TO9jhoMmlM2kOGoyaDh2ObQBYACB0lAFgAAAgEsAABACoAFgAQBBzeRx1weRIvTklvA7nAnedNXA7vA0cDRnTRnTtxTpKAFpy7HDQZ3umbQZtBw0GbQcNBw0pk1GbQZ3QZtBw7HDscuqcuhHQlolBZRQAoKAoAQFgqUAiiAoAAEBZQQqAC2CpQAQqCwCCwBAACWUAAAQBBEECc9Q+e6EURRJYcd89lsosoBUpbKLBQLKLBbBQUAAAosoBbBUoBQAWAsoIWwUCwUFSiwUFSlSiwLASgAFQWABUFgAAAAIktcjpzTtyOkoFgCWASpYiFLBSBKLKCAhUSoCFQiI5PGsgAgS81O89C2C2CgqUWUWUAoKCgqUAWCgAVDpBbBQUFQUAAFIVKVBbKAAVKVBQVKLAAAELKACFIVKBQhUBEWCuQCFlFlLeeqAEKgqCwIsQAAhaAiLILJJenHMacccSsfNj0z6c8FnvERYCF5vI746LZRYLYq3mlBQVBbBbBbBQLKALKEoAoVKLKAVKAVBUoAAsFsFQdILYKgqC3mxUFsh1AWCpSwABCgJSyQ6kBEvUCElqSOnNjq8Du5l1nEjRmjSZ8xtM6ujMaZyRywz3j1XzejN7lzxrrvLs6SS2RF5Q6iLOes68GWmXr5RFn0UsAQheOuR3x2VKVC9JRYS2KtgqC3mlvNOkLbKAVKgFAABQLBUosFAsFQdIKAlFgoKiKlFgrkdIioWpDq5cHoefs1udze7nI0Zw1nl7jdmzdJxDRmO5yzce8O9PQOdlgpIsRbYhSAKgc9QpCwAiTqBKAEBAAiUIM++NPn5d8ezlJebP/8QAAv/aAAwDAQACAAMAAAAhE9FV9t1FNNFxhdFBlN1tNtJZxl5thttlddUMMIAKSymK2OLTX+OSKCiCayKCKzPfHaYUgmjn3n5Uh4QVBtxockYxwJxhNNNBFAkcwtV9l5xxRokMM8++uOCOOOe6yymS6myySa2y26z2u0IYsjXTj9Y8AIwVZ5FpxN95xV1xx5ZlV4wMpJBNVNN9M8wA862SeqS2+WuCCWuWOKCOS6WueSjj2Syab3fxBUwE5httZV9dxN15BJtNJxRxgFxlpdxF99NJRJBA2CCCSCSiGGu++m+GiyGuWKCKySiia+2nLlksNIQV9ZxdhBBtp1FZpFJx1pAcVpVNpF95999tx9tAuGOaCyCCee++ia++OaaSOGiOeyOOmCmXFkkVw8ENhRhJ1xhJR95xBRBN1Z5gVdBd915lBx9BRxyS+uKyyGC+2++q++2622+iyiyyC+WaeLTpIsB0gQnXNJBlRhNB5hV9tFJxt8sFVhphBFNBJBl/7Ka22+KS++eeiCyyWuCOOCCCySOGiCq6vzN4MfyGGvXDLXjjzz//ACjnjmw12/qko00smrjpgn+88osqgslgurmtrvutqmhmgggousgkjqprsxzfIH8wm006Xf3Z+91+6khlg16RWdTTSefrvikvpnvvikvjgno0srjjjjjjz/vjhggihigkpgtxYywSHQGAEl6XUccQbQdJANPEUTQdbffbQWSBDgnjsgijnuggjSQhvvrivqgtpihvvnovvvqkhulfzXOJwrDgn1SXbUffcaCgKNCceaeQSbZWYSDtvurugtuvosw1/wDP6rr7rrIIoqpb7oabraopbYrtnkggcPfMbIBOCvPcoqA5K7LNGUEFnH3fuo4bYYYLi5I5rrO8POON97b6KZq77b7776q444CyiCnUkyTtXhw4vDryk9oJRQxhCPVWlHUH08+Zg445TBZhYC4IEEEEEN/bp77oIIapZL7576JL4gCCgFE2CDtvvPLLZCa+sYvdQ65NsvX8F999NlrLB7ajB4hYIJYM8M8M8d//AOmyyCyKSyuOOCKO3D/fTF9JIRzL5pCVxdZhddthUsIIR1pRVJRpBtZiCSuSWuCsoQOu+QBBB9tFtc+eGCCCSy++qC299Jp9h5QcFXFxxjhF9ABZ95x08sAAB51ZZBBBxpACC6CS2OcoMC6yiLp1xhR1RymCGCKyu2yiOOx1J12oR4tdb3TvzHbP7TnbzbnLfQmrXLTD77HD1jPPHWqOf/8A4zzvvriw18yz+mFrvlnolvy69w28/wCN4KkeXFdFmGs1nMPPOnnOsvdvuMHHEn3d9nX3nf8AnO25VzHbAWSkelNps62Sg6+2eef/APbRQfTQb7lvP2UMurz1ly0PtEtnKrkJ0CmMpMhnruKtxzqpx7Lq7+15ZtsvFv4waJnLJe/uugv/ANf8M/uf+upaKsF23qSEuXE010k3EH021Xm/+McfMbv8NPPIIbILtc98usPfPSV9lPnke88sPKLfsX0Fk0kGuJJ6pG33bNVc3GU01W3000322HX3n0UEE1GXlHywAqvmV211330vuGEEEEEH+u/6IYMPHlH320lerYL+kFs4Z6L/ALjD/wC48/8AcsOdevaZ7p/fvv8AHK2iqybnnDD/ADw5wx+YQTTSczzzyrrjjz8/8+8859sgl3XW9OiJi1mQiqRee644RR36DvOOEAuQXe6eXPe2X4/06RUd/wCE0n0FX+3fsIoIYgToKoB/sNqI5eVBtKiVM0A7CB7IjwhnVaRgyzwoqhayl1+Kx4W3W2e2VW1H0DAL2UnEaZXvLoh7qprDziI8O76aNXHvPuM4uNdbDKpVvMPvX/8Af1fHb+GwmBPrf/3Djf8AbX71y5ykko/f7+055x+Jjnqvgson+580juy3odsMh2fYlprDEJSbXcZQUaq5XaVNG2dfcQRTQcTTXwZwZcMoAU7YUqY0XdjhspPJhggQdbvkl2At2006510oEgrLGqANKABWUj0abiKno4qiTUfduviSbG1w2IHEqsv/ALR7bpr7KJLLaIJKJLq4oqh38+JM8fOPNKJdsstNNc/e8wk10e4c/wDlbvjS2P8A9W96tw7737lokrnik85+MolsqhlvvuDUjqp/ZlYJFQ1WXfccUQUcQQfSUYRTffecDbfUfYQTEPTTfWc4xfXceNPCMMEYSXfuvriggoktnMnuqp3Ys1/69+5+4zwxz35yw06wZdfec7jq12wSyyvrnpzyg9x2/wD/AD6y+iOXrDvzX7zGiKGO6u2CuGi/Rh8pdvPhl9BNtFNN1gAWyN9Vh3okWURxxB0SKG0+8wAe8gGFJBcIMc9QqVN//wCwqggitukcWQrgyXccIBx4dfbccZfffTFvrKk8wbjEoMAQZf8AMYQbQDwBDzLwyKZrRywD5JwBcN6YYJLLqYJufIroed2/45PMctfvtc88Pcq6AohLyod5aJoNs3xLZK55xoa4rJBCa45469eNBNKNIYrLLLZrq4VOkY7cm3NaLIcHWlW0FW133jTQRXnHEEXUFUHnHOEVo6LzjAABSG30FHQjHEEEkQAJqLYLZaIYzm9GtINChz6r/PnEUX2kFXGE3nF13HHU133E20GFnGkwxQzzigBT0U0000lUkUE2V3yo7IY7qp6YM99MsfDC4pIbuctkX3UlEElO9MPsNOecPOcte8kE0EbpbrLb7oN9/d9d+8tOI957Zrq7tdsF/uuZ4oY7uTL/ACCOpQCK3p1BVxhNddhLpTF/hNxp9n7BxVXOU+6Wwa1xJVRbVz3FrCOWYA2+r3NVPR40MieGWgm/Ciaz+kMgM41tdg00WWw6u8oOMQNJJFjdt9MGEwgq2ZtFRznrX46Ewm2qCe/qpZ1vBor/AB1nsyAF0vt55OO0Au9fdbyUX6rCLYQ8/To3+41T7Q2tvHvIrMg01/z33+ig6mntuRTX60ab+89+/wCprGZj/Jaufn0EWF1mZPHV3HPDkWGOs/gJ3zyXW2dBT0Y70Ah1MsPcJaAI4ZyagNXGt1/01G/X0uvodvwf/OceESmkWorqbvjy7BYVEGdRKZrn1cgWX4znNhDor/8AI4kIaaOcWm0QaHP/AO9Yw89LvLuotktitpyw049XVf5XVdTiOJNP8fVYVfGn9e90f3yw9wnilsn4/wD7IIIY656LzwRl033n3klz05446rq6zIfOsO8cscdtvmn2ngfEU3l332TDT1lnOz8NbXiSCTgR1w4pYpiTjggBTXn1n33n21DBj4K66a/QjM88P+IKBD9X/ZsST6B8+HXloDAwJ5QwjoITOc4456Yra57576IoaL44rMPfPP8AqG62yy2OCqvszvTnnLQf/P8Awwee5yljHEeQR0AvmsnrNEQEbXRDDEjvDAkhhjBPFPNGPPOKUYbTPKBhijCnprleDf71311v2QcQTUdeVSTOYQRbSQQFAMPLCABXXDMJAgHPDHvrNKMMHMCAtuvAOAQQqkhiggBlkvFKZkz1w7087TWcdTRefYeQTXUcd4iqrikNOea/glrsgqhjikstvponvjpklvrivmphjjiospotm9E361x8zrg3/wB8sPPO89/9tuNMOQ5ZQ03331F3TLbSj5bqIIJTaDA4Q56a5AhqSYIJYrI5Lb4IZvxNM9MuxQEXG0332F2332vqPPnb5LaxWFHVnUdb5azrx64YZYpbJ74HwJJYbbphxIZrLLo7Lc6q8y+c9vZq7iWUU110HXPOOdjwRDIRBB5HX2HbIwoYCrrr4YbLYag7f7oTK769jNF//JbLo4KK8+M2dtIIJdpr79+tssPOOt/+PGBXHVy4DCH333O+1ChAQAjYgDSCDmlHH1wSjGHWEHP7K74JYc+kesVX76Z4fnXWVnU3G01VGUnHUgy3VEBCxmFnUXU00wwwQxDDyxzA00U1nbzjBHXn+I4JYIoJLceNuOjp75z3lUjmUk2UH0WNdNNs003M9aY6/wBd95lNbnOXjea+2yWTzLfDXDeamC/jfT/iyu6CvPBrCi4yGKHH7UDHiK2yuOCGAyOCNtxV9EMdldjNbp5xFpNhdqI11tfnPFJuaO4wc5TyT/6C+QYoXngOKx/im235mqGGeKEAtmSQ4KTPVlpkaK+5pdNseT39zdh20kyp1/dkUaUqeAoayYMageiCu8c2KAGPv/uCzXmEwGE2mym6mIqiEWSvb30SkYqUU8y0ME+Z1fFbc6gvD7nrRlPOaimPfH/j3PWK6RRtZNlpiOKLjb31sc+nLHrCCieGOa3VB91BxMlxlgRxl+oPRtNNNdHXvz/L9Vle6Yfbj997pCuCUypp5pJeCW6uNViDuTlNfvTa4Mdzjpb1hdJF7ZvHQZNN0kU+u5Np6Su0sFBl9yGCuxoC7/JKugAGozXrnjWO+W2o8gwWXVNp0kqS2+jxWzj9B1dielSOtNnrb7ZF73Xe2dbZDHfDCUsk7zhf73O6WTZx1lpX/Xm6uWHbLDbLrJV97P8AjiuEhbYWdfYSYeRefcUYV0SccRccBDcQfaTSSMsvj/1TWSfKCAUR5NNW91vqnn1fSaUTVa1QQScBySXHccYsQ/4+2WY4ugPjAhSffLKEMYTTTRTT6vjtv48//wAOZ/13nC2r+OcKZr8PRUrr9dWG1Adr7JZJJu+DZ5SBxYuhpiirDbbLLbLLJ48+dMPPbo5qI/FkkERi000tIuv3G9eNN8M4JD5sfd1ld8uYoIZpIxFWABChyX3xjHHGGFV3kwgABX20133yI55uHHGFHxjHW38oanEsOsJf8clEF3GFHHF321xiT6ziwyXjBBDC0li120UFHH0mwzAEU0U00kP7L/vuPtOM+r7OE3lUmacuYP8Aq79hdxNtpFJBFHKue+WOaC+ye6zvP7zzPXlpfP8A2ymjv73+14wy9048804RRjoUrSQVXUdzq/6z670x3z8339/+9/8ANftEWkGEGcf/AHvdho9pFNJFBzMOK++COpFfDNf377zH9k4B2W55x19HPqth9rD1VpZVtN99tZ1R9pB3Qu/In1JhtSvsc4Q21BdJROcGeuCSBZ7Mbeu+7K3DocBX3PLDdjnKidLzvvVBRBJZtlJxJNdhFrfyaEEvw2IQYTHe+o0fv9LuWwiCG++iDjjz7nVDZ9l9lNFnd5V91laOLTr/AG05z5w46x8ovu1409/326TUZSUdfffYQd3abRcZjiktuvuPQUeTTQZaRTTSfRRW1XTReXYs9dab6fQzZTTSYSTReQTYQeTfcSQSUQcfQffcUT3WYR3vvsrjinIVfTTRfYQzyyzy5483zz76y8y5UdYx3VRQSZedUYPfddTdaTTQQaXeb06yw175wXT197qjtvslhgx3fW2y0zcXwZTfRVT9cdWQUVw1z/30+y8864x609nrrzz4feYWcYaQTRfXfRQUcdcZXvuqiijio9ddTe+0wQT5awSYKD4UYXSQUaXcZaXWc7cUcSQS1rG8cUMGeTdpNT0yh9faZ+wVTfb8okHpDlHFyz3Dzuqb39Njg4KoF+32x+03yQbQa8cMqdZVdS7iJjqNuNFMe3IEAmFFM607gyc+aikvvIEHPU/9480w6w4teBfO+5Lkv48/9V45yxxyz77x6Z2w16AorHjBFmq7/kmolqmokddXDGBf97rrqhiP/WQ4UYwLSwBggCAMNjDFiXUXf3/VSFeccyZZUdfddvuvnNvgNPacrKFOAsqJ3VK8Z0ZCIBvqIvMyQJngz2iJCrgjDBDphJDe/WQ405eMksiNnEeUeSWojEqPvjIPFyavBIhnjKIL8z0xcQQGIFEMJP8A9tahNMd/5Yll0CiVRkEXE1HnWOpebosszDDe+NM+QgQDT5parb57ZJ76a5y+GmUEFVEEUwIIEF3m18HXHVlHEEEEEEHXmUU1kHHGXgYpot46SvPH24tK567K4IK1H2g774IL65OWFGk10EEEUU3323211mEkX1003n0mFXOdMNM8eu+8d/6KNZIoADF+LxpZwJbY1HE00w5L6pJLb9s203HHGm2XHFmUE2122EHE002XGTH00lX3133WWknuM9v6p999/wCTXDDTDh9Hb/LhBxHjTdttdldhNd9h99hF995xtB19x9dNBFBxAwsFxVlhlNNllxtxdpBjdBFpFNZ5x95F99BVtR1tBtV9959JVtxBxxxx9NtJx1p199BlBDXzx199Np5P/nTj/PTrzn5tdzzFx1NJNRxpRNBF99dxlJVBxXvOGLjDRhdNx5hRVdF99/fz3bv1xFV99ttM4xhV1N995V1N5RLXLim7PJBBR19d97v9dNrzzTTWDH3l9tN5JJBxlpNdZVtdpBFx9txhBl1991oAJ37fhnNN5pZ1VdVNPZNVN1thBdl5Rdd99NNJBDCFBJV99x5V9d5lph9tJBx9RxtnDHHbz7DTDnzPvfbjLD3XrPVF1F9dV5BJxp11JtV1p1BNN59rDXpxVt5hBRJx15tBxnDJ1Pf++7DRFNZJVhBBdND2qX/tFdNfrW8NRM7lJxtp1pRJpNp95dX3v/K+yv8A5fZUURTVfbYQQXRffcUQTSRQQdaQQZccdQTyjjzz16Y37szTWfa6UNIRfbXcRdcNGTfUbTfRLaaVbUXSYVWUebUcdScQfQWX60z385z+0279738x7z03y86w6AcfSTzeBEMSRbWRdQaKPbWeTcWFeZVcXQYUUWRVbUbbSa679/srm/8A30VG0GXu8POOOPfd+ll05qudP89+paoJ6PvMM1O31kXnf/JlmVkVUElVVUEX3m3nmGUmVEMKbIEkEADWEVMPvPY7Od+NM8pq61tNsNByxoSEU3nEU12n20HmF23UGUFm1VDmnUUkHV31kU0V9b7JrLbrLKd9MtNLb4BTBa4Prpqb20teubYZaxQ2UE0kEEW3X0ml1lEmElRAWl1EmVmkVEHXGl/NP5ZqKw0QQRDZ75YDjwD4Le8q5KIs8tOqYL4aIJ1WH1HM8c8ud0mHEV00HE3HF0n0VV2kEVUEEGHuYa5wjDTgLK77+ryjgwz5YbZ7arH1EGtOooqBVmUn0H2nHVlHlWkV0FUH3EWXGl1WnHkn3k0lE1vvdL6br4Kr9edO5zzz5rMMsMc8fS03U5xKKVA0Vn3HHnmlWXVX102UlEU2GFHnEm1HX3HW0XkVMsNPV2FlX233GH1fpIbof+uN/wDXHsBtNmHjzbL7DV91xrTzD6eJTPhCH/Z/0hlphVVBxBZtJhx51pxdplt9l5BFNJtJHyypRjBRl9L/AGeafcLaXfSRdabbcQcfeaVZSfUcVaRRfLVWbcWWYYSQeTXcTXfccYUgmhusccUt3ZRXaRZTmiP/AOYI6EgWVEnnn1VXUnW0W2VWBUEHHXUXk2kF1k3VmnHnOPeccsEUktIlPvPnDSwxzf8AzcwuZcB42ry2GuXrnlJVFNltt151pJ1hJhRJxNZ99thNNlNdvvnTjZVxlx5dZ2dgFTvkE3f4AS2bjNw7dUE//Ki2b/PeKnllNNxcw4J91N9RhZ1xt9NR5lRP7jNT20sA8m5X+X9uOylHUG+/DRUwG2aiKHzlnY/3/8QAAv/aAAwDAQACAAMAAAAQXaw5yzpNuOuCWG23L/HnDrWayiinXn/r3aLj/wA7x369293wtmsw3zz68beffR/so1ozcVdzmfB049i05tvX7w+4wt9gzw81wwj+988g39+803i4w1w4T183889+08066236w09+9x88p05abUagcHQ3Xw9+zgU3mngx2971/wDPtd8Yvf8ArrfnD37OjD7rPZ3bfrTHPH7PPr7vz3rPTb3/AM38gr+1/wAbSUMOXNtrbK2vv/8A3THPHzf/AB+91o+kq158+049spsvr/dX60004x226w20y38xz1xx+z748128+vKwFCu97jvt5wzz/wC/MOMusfMNKNeqoMuv9PNu+9+PP7NXvNc9dc+evON+cMPPdd9PvPucPNOOcdzWRR/NNd5KOPcfe9e89Pf+vOO4Ibu4NfcrscYc9ccNLG8dPc8/u8c88dcNedudd+dM+8sf8cOeSCdi5duOvQSdvuM/+P8AziruuSiqyPDmjrCSyGOSz3j5k9rHjD3nHDbfjj/7XvDPPL3/AMw/96wxz7Gg3ZHBQUXGnCNGCMOGAMcbYXDGEPVYYKBTaXTTw7itm7749xy39x2976yy71/315338436/wCdP/zzOZD1DXBwyOelOzjBAANUkFQhrrds4YLK1kFMPGGVHfvdNdO/KPOcP89tfL58/uN88cte8MtvzPiBszI8NOUxvd/O/wDTunn3PXPvHxBBFNJ+qLjLPnPzHHD37DJS2t7PLPL7zD3vPP8A241xw40yfUe3JxBCMd3VcAzoutunsj5Ry92n+6fcRWW4kqzYQUacW7S35TOJDAD6++990zyy71/y9wxy15UXaQMo4AIMFJKQSfJZDGITRazQdcJs/wBfrNuTCVH8MNO9+UV0lniygCK4KMtPusf88d/8998tPE/8dd7WeIkMYe+VDvX+dG8GvFt8P4C010w4Wr4vXOc/s/8A7J/FNLnPPf8AYix4xx+/y6107w3428yZyz30oU2NeRKCAUcXZSgFyJO83cqBh6HRsPAHN56f8wxz5yRQdRALACABDEPef56wyw22xz98xwKLAMAmR/RGcdpjTs96oohlgl7yx7qz4QRw+37ylf2Wd6x5Y1/8dxe/t/w8+wn4Y+//AMNPP8MN/n4MOoLZCz1yhpPOCroYM66PvPfPcufab8OvMMM+odmmeuMNEdt/FMNECoufu8uYFfOfMvOes9v/APSG2GpreJpBkcQ08Ao04okA8E4IEhBk8ctJw0csakggcPrhsMcyeLb7HMkY4MM5xrP/AB3414pBNCJCRaKVVkjYSBo58P4ztnAMCnLDFEoPM3j1C2qI3891WYBx0uAk9k/z1T6+17Q7w8+/9283vb2562+60O7b0nQNaYCNYDP3XXba8ab1BWY7UdUZb897JF1/ooyVAkutKz/4ecIAjbW7elp+x3wgDIDPCHfHNy4ajaUjT0qPnkogxx91xshh70FOAGBHTDNIEPXR99UKcZRFPHNPxpOgCijMIxrvyxiTyx985+7F9wb5WdmZLrH8iww29zw/+x/20oitosjhurppjzx1aDz073w406CN6wQT6x/arg3xwhM+7w328wO67RlISFa0Q9lCOABDIMMCIPIJDaUabAKDMCDSfQdUIJLXUcPPNOFnnMttgIAEgz209OOLACEScP29dkHPD+T/AHrNgUUoaIAbaZBC5EEN+fEFI77TQpk4hQ11CY9eO6SLb30k9QriLMPMcsclFnVCXvNf35jXAWOLRNMf/tWfX0FguUev1uv2EhI+Odjm+04SKiiIJvzLrPnueVl7NUpAPlG/G12kfVHjqvu+LmgTRCCdioYMXUsZqARAK4r7ToTBtNOPbDYYpABLIwi6SYqZvPODKRzzyaBoUMVHlHk+ODUl7fsAoqN3P3ScuF+l+8OIqv8An/jTPURdUTrmtB5xPbiCKXXhLMfDh5D+smmHa5vQB7Lp3PBz9ym2BvTw1e5g0ck0EKAjXXXbNstJTCgN6Hhntox+NfmHjC1lZ7GzMxN5BTDS1IxFNj5PTPfv7hfxh1RTfntFII8h08kMm+P3wsCeGua6EIw+QmUVyEi0WsMNZyS4MIVYGUO8RJ9Nx51McM7nfnlNTvNpbyB3PIZX7vnSAvPv/wB061/71g025TTXTX7j2sQ+786n5ws80w7jW9388xy9z64k+3/S276ww909SzT+2xIRWIFKNEECJCPNMLCFPLKFlmnntFXXKKMiBOeYQXNJeFEKBPMHacfTVENIMAOomx16897ZcYa9wkKSylnKA+1zw8y248ny1Uel19TA3d10gjvv/Rx+f/8ANeEO81rL7cs//pudTo47r9c9+ecF7V60+5zi4N+gDs//APfvbjXOzd5M9s42FV/Vj/8A28lp1266/wAM8fHnm2WPcUUdHWuGh5+ft+8stdHP3319zJTDE0CTBChDizBDiDk1dUFN02qevdXxToUmk/OuElFHllEHOvl/3CwTETMDMfsf/wDv3zjlU8RfqwgkvBlQXL35pHvT/qDXn7q6yyz6CiW/R148alxxPLTv/wB4rukhq0189/0p4wSRz/2/25X9j0YFyDfo04XBKU20Rf8AOM174q7ItOftd/PobOGVXfccPsP/APjTjyHPPL/anrXy+qCzlLDn/wA505UMLOCAEbm677bDPJgnrmhvniCEDBHDHPHOIACHDrnuheRTWZRWXLLDHIhDGEIUESbS6cSNGrJquCZRU77JkFv30/pY24DrCKDWdkjkwKHGDr/w535LexwXN3/aVRYbl+/1+uPcGmM20Wf6QbOEsp1gzX1Zy7ZdNt18cHbF0L8yJGTfc9Rze/zS+c17u9GAhEoOj2Q3515vp/8A2TqBt2vGGPlYXQfbZobqtLLbMuh1bI/+Tj0EgtPjpLJpTQJl81AB6651AgoWlIIDEMHdN90NDAjVLACFXSU2EnZ7vGV+N2Z4IxxtO4UL1tfxDvMfONsfGxPJ7rQnZOfQy4GeXyBElPkUsJlFo9/ZoiTK9XP3EtOfUC+N1wAsg6hQJgxNijYgzzQDecwYqE03tg1+tmnscPTFNunEWx3LZ/N7peFVeBBOusWtc10Ev9MWJgxJBqCisGnN+f8AxJQfiqWoMI8UOIWs6NtJFtWhHCOwR3EyAYI6kaAY3TJ5pk0Ah5VtZBVhhPL7irTDrzLiji5xdbnZl2ZJRAkFGSuYhS7n/eDsp9j9theLPb6IjU9chpWrf/LzDyj9VVZLTHTDPT27/nFzH2GHHjhpLHPwGDQAU+2Ff7VEOc/WPjDdUkRZXFx3L/vlhmYvx4ox95th5R3TjjBV5pxppFEs8Q8gZR5FF9HDLH4+00AyOqhiO6Q60CQMZDFpGyywN9F1dlLRu3qO2TzztRXPBtl5vbD7LbHT/wA/glsswxyaRd9V906isiNKrui3Ow4/9ywx3zpSjfQZ88g91xz72wZGm3w35U+812YT21zz4z88X5Qx+3qvUbw3/e5T702rhfkulwoMdzzw+y79loljLBLiiGeZYSS+9plBTaQTbQQQWTWeRXVVfb5x/fdfRaQyxw069/x+zODLqlklkbQIAEDHKACDHPPAebHMW/8AcBABD1Nr+U0VleVmWFHeV/snf3uuW3XNlVP8evO9vftdORGTY+YocMJcMMuP9NMP+/YFKTTWX1RviEEmY4akn0VsFe9lnndtveWTu9Us23eV0O89f/fP/RftSVJY0TfXUvqdf/pM+dzBh62kWHnsPPWbr5Qn1vPu2e9c/wBtBZjTf4TRZTf9KFW8mSv3f3DzTIQgP/SrPZUBFFAEoYMAcQwwggvCpemz5bX3B93qU+zrv7PnJLXLf3WW++G7drOfbf8A/Iy18++xjN5IK07w5/RB73pqugu7zy/+8x+wPAT7o0/2qfefMTTk7726570/x10o2/8ArXOfNIYbjWEtfeuuETyRSx4/fufZqbOIJrL7oa6xCzGX7/IBT202jIY6oLpxjFxD1kU033TzTzyjAXnWGAhgg6vOfduzjtZu3J8fVwCQ3zh2EkmF23MFON3s/e77f/KPuQVxonPN9UXSPVoYrbrXceFPkvd/rQn5bsd/EF+4QUsUJbX1EzxU0Evdn98L9Nscd6z/ALTR3vBQE88/nCo+IZljp+tkPEeL17Rpv/195D1Xz3fPg0vlLfbkwSldsALJ/tIhnppBi0TmERPOsebjHRPD7GfbNDZKnkIOPtRokGmaQwO7nhLscwcAEYj3HiW1TTPPDDjUywEYn5T4koAVdJxNfRw3fXnTHBeWaPue2ZReNFz3/rttxNQ+PTexxPlpif8A6VNxxUQXgxvw+853fQmiVpVo05NIK87znEmno34aRVA3vPUQXk4qe1bz6taW9z3Js17Tm66oW3PIC98zxa7PLGGQ+y9eyVw765GjoMbQXTdQKq+PAtmkr+RjQ6hiDlrjDOJKD7/LrlnLAE1X07onLCBAQ+ZJGcUfzGJtz+73BqkLIBEsh/IGYWV3xsk8r37/ANfke9cK/wBWldhDyGLP2XPLbP3PRDP+N7nXCvnbCF7v5xMETTLLETzHkEnfqpt7yfC2eh3j33GccYqSRwP2lp9Pi6+3jbjCvHD77ywp7D/04oMI8506IBus4ASszvHwcfgptJ1y2YLoxtZZzngkfXl/1lforh7jOfPVhpVld1VEcQowAlNFphcSuHKDfOPJLZqMDHAOMEiWVFhPIoOKwmM8V3Ft5hbyWvTjHDiSrjS2uaqWKaL7L/r/ANz08owfbbEg36mrz1i2VyHKb2Map0EkZ5w50x6z3+w7n2URb/8A8+qfN88f7quJOP8AvfPP2f8Axyq897x/0KQSADHBLHNBcfFtxR0sytUZKE/cw3xx6499zwxLbfWbYTfceaUeGPJBHNPEvlIAMC8w8rGJKHIDCLMAEff4gU8JT699Zazp+MINNLBCfPIGJJIFDNHDGMuos7y/PBOBa4j/ALrb89M9buksP8XFcsTb9rAwAJAOVNQ81/PfEE1rP9NcxR8MecsNsNPPcO88M+AeuTnLr46r1iN/slP9yR7yH6+OdGVJMY7qeXfr2px9d7IZxRAJDBMdsBzSDde/+c+aIIs8YKdsAhVFVnL8VM0sRiXVtUBqjx/mu8vuN2XyLZDTAywcN+//ALLZX73j/wCiQ3FGBKBOGCJANOHfddFPLOBGVLs2f9/z0w951mAnZw/lU45yx8Z1g0fSZRbl+T2+/wAd92d+uf8AqNAX6jQDXRzSa/PT26S3PzbTvXfBZ9Vhr/jXD3ncctlfEDXbfjDFT+7zxRzGa0MEIsMA4Eg8kk8kEImHbUJvn3H2bXWeTieu7nDDPDr7SySYM0EMMoc+u0MIXP3rjLrnM8uCgEoVT/JPLzcoETHzjTTTZA8ggkQFBldh4wkcdxxkYY2+aii+PqO+bLj3NRhVHzStPHbzX3dELFHIG40fLU81/eJJufn7/DbLW2CCyQoi/wD7/wBOPxFuhYLNdLPM0NJignxPO8bxEk5KQlcv4wljNwxxeLeE4SwEm9TXN8bqiQR0TyvqbYUpUtohytchUnlWXF3vPYzCAy/aDvAyjPDMG7UNUWWvvvj7SBaCBywI1qfbfQQEcdagpBwWGRSiyh666LhJRxxlMvlOMnXnTZuF9Hm3ckuf0DATNYovd++2uD9h6/NYVaYFm3Wns9qdeWCgPC9fLpvZY45BsOMtNol+fPUuGusJJ3OkNdtfXpOgnZDImmA7mbGkg9vBNDScErW8PituGyO0hSpjSjyoM2W1u1F7jst80dX00FXEtP6QWt/VcXZ7kgk3RzTLOGUGtdmhyzV8Ckli9Vor4NtYNb/nH1lf/HWyH3gxPE0rDyyalHUHF8t218/1VmmdseXwOM/X0t87rP3376PeeCzefMObo8MUAwRKNfU02k0+dNE+NKs9UJD9MviVPefMfXXaIIcX38McudzOe8UFVMPPr79vO/8AvvjP+2+eGOyOqq+IUs8coU0U4I2zH6bv51X+c3h3TLJltqmePOPRlZnPPb4oOj7PvPvTaSmmLPe6C2y99BxxdVopp5RjDHXLzfvThAIAtZg00cVeOwwYQbWYUEMm6jEksSin/rlhVt9h9d15BF9dN9Jhd1RV19BFIAQlthfXWfin/Xrj/jjoGH9Jxxx9Rpp1pVxvjlBBfTrCCXzLLxxRNFtNRNxxRV1Vt7Diawg4W+XLnH3QQogw44YAcYbznUcrHbJpVhNRRNRBxzHHrHPzDkEJN0Jcu2xJ51Tqy2m++okUkcc+beDfLfDyyvfLTP8A95923qngFDGYfFDktrmtzwzEb09+cdGGG/OFMog/eRSQQZRccw+9Tyw91/6/+4w++8zyohzaSX1X7w9/soxokrHnunm7ZRRa/wA/c+8dO9tOIUbMuMP33mFFHmVWMOcvNM+ePPmkDhTxAxyBBwTZ45wDBDCxi4C6Keaar5pzEnEfc+u+/cdNcMgRjrOfMNuf9jYbdYLbkyr6yw0FzTJbPdeff/f8dgt+LdO8OsXwN9Z6NS7p6J4oo7YIvOMMcBCDDlkFhyJ9mE0mWEE1+/N/sMfNMIKdr6fNftMccduvZO9L/wBdXxIh0yWq+Muvby7jjfb/AC6vLU/dYTwg28wwQfWUaWTbQT3/APOMPP8Af2sA0AIsMswg8EqiKSiKie4UwwMn2+Gm8uLbDeiHz/7zn2ODdz7zSPj7dhdNR136QQ8eCSqmEok4TvLIAOC6Tb/bpPPqCSSb/RXbiNtggMcIgNtBB90YwlutvH/XyoE1WCvLVZhVdpBR9VFTzjHpLPXwD/BWWuDr37zh7iGTTG6vL5Evr1nJpdAHLHxTG71NVJDPjzlfDHznNRllplxslJBxR5F7zL1//ArHXzTx5VBQMCSyf/3JxFjj6fn7hfjJlENRhRHT/r1R1LDTjfZWCCDJJzBwMVN91TKITzXvf7bsMI3/AA4Y4ryy3xZ8w9Uedfwyjm153ZRKYPy8e/VZdooxghEPPOEF36iCqklnq5bafVWQTXQRXQde7+JRzW8z2/xSWa+s5bTUfQy98628ww727NMVRY6nSQfdQywywzkaTbSUe90xcSRQccYVQRcfTTV69MAITQefQUagsvu1YWf08gng0jgtj0x+cwVat04xdVfX8+s7nqUTQy80wU44YYVWYLsDG8z1ewhPDKAi++6np0z+xyB7w13spw3QXX5P6ipVMDHNFMProltPHMNdfpAIkWMPhG8uj8uo10QTYeXeZf8AMN/vckUkvPc+N8sA02odnN/uPk/QRBidqoZ6K5O9W89OPPOPZbt445ute4M78+9NcGWnEXU1k1ncP89G51FxqEkX4/26a6MXWq4iE/vs9x2SUdP+/fNcNt+ftN8b/PM4K9tc9ZNfPd9NmHWFftt8fv301fxCSKqh/c8cu3G25wl0LBF+ofP8sbusG13N9c0V+sfP13FOsdH8ctOe+dVUtHXNOcO/Nutf/sf+qp3VtPA84d5rSUvLcNiUQQCrgmVzHsYJ82P+8/ShR303E1faq3XlVGUmmU8sEcfSo8GDfbWNQ0RC3jEy3PAyKX2uN2lEjb5Td1T/xAAwEQACAgECBAQFBQADAQAAAAABEQACIRASIDAxQQMyQFEEIlBhcRMUQmCBBRVDUv/aAAgBAgEBPwDgEP1Jeg7/ANLHUck/0IdRyTq/r46j+ljr/Sx15J/oVeuiXIXMWi+pjrz3o9XHwuOOOOP6YOo/pfcf1B6jQBgnQ1I4h5XCXwEaPgfJREc/j9Np0tBG92qEOn8P91WQIcGHy8A84h6nSveGpABgMt14CfmMOQtP4H8/TapHMQfWHalCB2Oj1Y2qFaAkGHMJwBosaPIM6mHrpYsDMqNKhnVguY06V4F6rHNEPrmYT9E7f0sdOcccS9G/QBHkvR8kdOUKkxGKKX6j8aLRQdZbzHQhFcFhiulQzxrhrt7yyeNdr0RTgDMXAfKJVd4QExBLduM8yvTlUQje6Zh/MK+WYBcseilMA+8szpbJY0KNnAMliDAMYIIhJQAiZleoYgHzKCoVsahyjLcJJlQ5XvAPltoBmEDtoBDioA0BGw4gKMCVvxoitD5axQ+wgEsWfRjj7ejZjMZjjPAzHBYojQYFnwvgRgCrY6EjC0Z9PXj7evPKZ9WOQouXjhxMcrGuOPHFiY9MOQCo/LCSzBFwirq4QtB5baVGRCPmIHDt6ffhEIyVpYDbXQBkQisWpCK4KgGwh5ZC1RT1UUUqGQIQiRxDk9qSyBhA3KABHSoZgowTK1YMr5bS/b8aUCKI6wAIkiWC2y23dNuVAASodARsB9jLVDXcxBBw6mrsJVZHeFbBpTrL+Yw4KlqiveWACIl0/wDNF8oM2xLaQZavX3c24H5ljQMcAleg6KWW7Es9HAcFiEvgaShI3v7RsFx7SEJ4nmPEOurj4XhRzcW4CI4CpvM3GPXeZuM3GOCyIjEJgspuwpuzDYHtGI4LTeYLotTcwtSXCXDZzdhQl6Cym4zcZuM3GbjCeBxmbjHHNxhPIJJ5GeQA9sPNqGQIccVgEOYtCFrt+/AQtaB2Am3FvtqvlfoiOMRlVlhUkgQAAAmHWqeYoQKlYUABtEylNg95tWTNuQu8AVgjLj5jqK/K5t6CCgLz0EAYrBVlQCoEttwuEAIYblgtsuiGAtKhuCuLMcGT1hrgQUCZilqjDhGlMLAmN5hR6CII4E6U/wB9AtXHHHozAYbExmbjHHoCpuM3GMzcZuM3GbjN1m4bE6OMxmb7TcZvtN5UNuFmbjDcnRmVJ79DDgxlERmb7RmMxmM8LPpLWX0oWI9SeRarGiii0UWi4FotFFFFFEYjEYtFouNRRaKKKLnY9OfRrQVx1EsFylhwjD9BtCDMU2ffmuA8HbiPNwEgJZAArJh0IGhqSRLBEiCX8x4VgGGqUr16Q/gafw/2HyV4mZfAHueulNvv2mJbKhr8rlW8CEW9tG0FF8yEsgMf7zDL+Pc2nw/jb7bT14BooouatHUQ2B6iYgKhsToIS4ECIUSTwixEvkVfC8Lgxpum6Ex6AqDLEccc3mOGxMfLM8XwrCxxifD1P6gKwI9HB9BqnmWIwB6Hf9s+jUXAP6IuMdOTiYmJiYmJiYmOLGmJiYmJiYmJjTEY5yKBXJDMzHo44HEVoASeQOOtQcmEIqECELmXABxpQA2UXEa/NVjBUsESOABkCEAcNqowjir5AfYy4LOhBGiM2mbS1FKdT+IAdp4a+YQ+T/dKeYQ1IhqRxV46+Qz/ANBCt02ixGe0O0EKWFU+AVADMFcMmbOiOJ8mRNtTaqhLBxgQgG3+ObgpRMYgRFoq9O8FagAmXqAARoCi5YulTLbWMdYKiufvLInAilFuDl1uKlqoqCham32MO1qeImMdoRUIkQ1dgoqnC1ED22E3eX2Upi0szpQq2ekbGIG4UkPeBAibjtIegm0G32hGIeyhLB0pgtyhABzmGxfQOLhrx7sATdlxwXUJEeuJuCAIgvhKb8JRyls1lrOb8ub/ALCbjHHBcyxdQdBYDtDfCAxNxn6lobmPRmbjN5zBYibx7Q2Jm8qbjGeDcZmMxngzygHrut7x8I5yiwTwuAN8C0C7iGwIQEWCeJaXCtrsDqPccWy0Rim04lAxbh2n2lgzX8RGVoSHCFqAzNvvCEdKd/xACUJUK4lgj14h15CqBnrBVzZjBgAAZiruEIyARBUM5wIAq3g8PDMFQyCZsynDWle7gqEzKgfN+OAEiAoTbUjdCuCoZzKbC8StRkntE0YD8yQlsh6V/Dljiph2lgCYrCDFFCcVE9zLMmDFCjmVJAOdFK95gIRtszd0jGUISwASoQPfUYIhIhLOgtVgxhKCwhTPDiBPgxMaYjaxAUZuXaObuk39MTf1xN+CFN9SB1gIc3nc5u+wm6pAYm9NCOOOOCwHUTeYzHHHBYgwXXQRmbjNx94zGYLKGxKgJEZj+gDiPDao+b7LQAk8RGpCK5N09BKh+IdbhCv4+nGmQIaAE+0slVe0t0t/mlPMJtqQVBUD2csmVrUOwcAdhiEImHJ4GwEVBV2Rla/MlEBUlPOliAlkqW7GAnEAFTYwk7QUHCD8pAnilisUUWiiii5OPUOPgZjjjjgKPSGxM3g9RHHHATBYueJ5zGY444LfaEklxn3gJHeMngNie8ZjPv8AWxZdhCWX9GPoR6VRGI6Z0UUUUURiiii1Wii0xFFpiYmJiYmJjXHoh04nHHHHHHHHo44+QK4ZKhE2lNcpFPQUJDhqvQrAMFSYoaWAfOHpAGVP0weloQAcFwCbUOo03V2gEGEBAiXsduP95G3GiJrUCXCX4gdkJapaHaEEcQKgW1kd9AnmXSrntKhubflJ0Q9jpVbQ/eElz+X3IgJBlwrc0dPSByuAWUxFAu4hXYRRheWGxJEtY2iiiilEDKir6uETcPYaf7CXo+DExMRib49G1HK2zLYJjMc3GbzNxbm/7Rk8lxnWvC9XHHHHGY44+BmEmPmV8wl/MfR7TiXLsfSDH0KtwBn0jKT9AtF6lRRGKKKKLRcONcTExMaY5zjmZnl7TjifAQQAY49XHo9UedYI6VDsBEWuB60DJ/GlwrHgqGYSOw4PD6WgT4qVOcdp08P/AHRGLUVsQwIjDWwE22TWgHzU/ELfGZSrMOan8xanhAhBEs2PxK5FtCCIjwbPvmbSZWrMHh5Rgo/xCAmJf+P4E/TM8Op3iWBFyptNoakKfp/fMIRI18PaxO8vR2OQ4KhMy4AS08JbogbQeUzAIqoVUJSi22lagg/kS1Aiu0qAiTLAIEaKUCLPRTApUw5NSe8sUcAyrZOvhh2EZ32hNjE657RBgsKVvDxmUKrYyt3WwJlV8uQokz95dEUm0bj7CVsykFwZFQu8uT8plySvxKWKP4lFttjMsysKP5fcxRSuCDCM9Y8VRShI+aVKsDMGpZ7yxHQQkMQsloQIWBJm4biYwlCRtrN9W1meItxmINsFhU4jhu7Obx7QmvtoCjNxbhsTNxbm8zeVNxSm+3vDYoCMzKjMZjjMZjPCSTACeS9HHA2JaxZhJ7mbjGY9MxmMx6AkQ2J6nksbP91c2jYD3fAASYaixv8AYTaNj+/MuFYjiPkH512lNcCKa1PlrDQytULF9ouYLVGQMxy2dg+0t1OtQytAHDUjqOAhKCvvDRdTH8pHEKWMIIKM2FQVJn8FqIDZGArw7YgD8PJ7wUrZL3lgFwUqEbHtGbNwKoGVDZ2c/wDPcRlwJ5nirdrWrrgZcIqIBXbcxfIPzLVRKgqN1XL2bGqCEYZ9lptwIg6QdcnEYVootFFxVDsJtYJlRl9pYYrP/QQ9daIWDge5LEohUmEkhLEUUUUFXkmXAsWDFFFFFFCCwjiXW9wWG5kxOiHvGBVPMxMTEF1DZzdhSviLtCa9hHo5uKIgspujh8Qw2MJJj0BMFiIL2EN7GM+8ZhtY9+N6vlOb7Q2MZjMZjMZjM3GAn3jPCAS+SdHouClWLfj6AbABkwXqe8B5dashwVdlqKsHiJYA1qQH+OAJDaAYt1vaIwAmELvDR1qWsQggrW4CqXLVZHshLVRwYPCDTzPBwT+JYs+kUWiiii4DP+Q8Q4qJ8N8Tbw7CpyJ4eag8k1DqJtyVAFasHnh08MMkH2gpUlAyoqKfcyxCWi0sOiHaEKn+xRRGKVA91GNx+4TmKvMqQG4V7wlgD2li1oDVIy1gQAIbsAe03BIz9T2hv7BTHE4444444444+cZ8T8P+oGOs/b3FxjvPBewA8L4N/TENqjoIbdJuLcccrYgzfjAUFyAobcAJh8n5P1E6bR7enB+0Nn9FUUUUUUUUUUUUUUXqVFootVouDExMTExMcpxxxxxmM6vhIIgBMNSO3Kcxq+Bx6PV6OPnLl1DIEG0EuYsDhLkAE9BNp0FSXFEWoptPtqR8tZfqvsJXdkCGprT8+vAZUVAZYUrps+4hCg8h/MtjAnWp+0ripMBJKPDt+UGAMHQNYEZOlPMJgWLDjdbYAHIBwpn9MJuI95Q1G5DtKnPtKV+cMiHqZhD5oREZbpWXzaAdxZQYyTooootMeoDcA7noJcMsdDEYLLsIST2lVtIhNTkxhECVKm4DoOEZ8MBzaK1tMQWU3H3MxAVN/uBDYnhcccFl2m+3vGfeM6U8wh6n0+ONxx6OMxxxxnRx8sEiDy29ILVCKzD9VBqBmWsTjt6Ja5ii0UUUUUXBiYmPVqKIxRRaKLX/AGYmJiYmOQGdXGYGeVQOwEIRMAJ5OJiYmOS4+Fx6OMxmZmfUeF5xD14KeYQxQgjXKgoTrTNq/mWoWS4AFYvnVqwzNvzKHr6Lwg7RDaTojEYA4QRwbSRDVaimMnMFCYQjrUDJMFRZ9lEOxCnQ4lx0AHaACtWsw5OgqxWIPFQoMeJLVD6wEdskCWsSEoopjavvBYNmGKVAorGbw39oCERriY5Q8hg8ot9owMKGo3KCrKm3BJ4OowIQgISAUBDUb1CvaYqBLWBA4BK7a1scwkCoCgAQsobE9ocUlcVwGZbceoii0rgVzLJmIe8CBEFhuZm8e0JZejjKUFiJvM3295vt7zcY45uKT0ZmZkR8ZJMAb4ajuekMPlryHhRzcYy5vMNnHo5uMZ0Zcc3YyIT9o9QUYbEwkmC1h3hJMcZjJ78nb8r46/y/GtA7CEa1BJniD58SwzBCCOsWgoT0UFSSoaIQ1XeJVFe5zAGYgBmKolkwpbAA0thDk1DKhqqv78uoZgDMPXhEA+Uy3lrrQO2m0kQ1I1qATmfpghg4lajJ7SyxCK7agRZUpVk1UAqSfYTBBKSgqAMqIImBbbYWNfDxadal5PYQ1VCdKVDBJm759ygs32xK4rgB95dvOtbCocrZPMYYJM+RtuG4ZM34QE3w2faOEgr3gsB0GY+TRMKWSzNveWXBtCc+UAQJ/aWhqioArSgBtLJnVYcFWHBUAifxP5luldfDxaAosmWtZ9lLbj1ii03jYpuCAjrBdL7TeB0CgsQ1HN2CIbPtN5m8xxxwODyHhcfp37Q2wpuMcejm4zcYzGZuMZj0Z0FiIbExmPiFiOhhJPogUXLWaC9cAOph4CEBF9IzojEdFFFEJiYmJiY1ejjjj5BPSGvzIRIZm0e+FoVsq4oFWEVDMJYfoVwL76YmJiYmI444444zGYzH6h6uOObzNxguZuHtDdgQWM3GbjN0cfA44/q5+oKIxRRRRRRCYmJiYmOB6OP16i0Wqi1Q99caYmIxwP6O9HwPgcerjj/saii4scbjj+ioxRaKKKKLhxq44/oT4XHHHxOPR/TVFF6FfRVFx4iHJcf0ZGI/Sccp8Djj1fE44/pai0X1VRRfUVqvQv6O444+Nx6v+yrgxMRiY4H9Zccej+jYmJj+3uPRxxxx8l6OOOPQfVXHCY9XHHHHHHHHHDabx7w+LQdxD8R4Q/lLfG+EBP34JAAnhl1B9UeJ8Ljjjjj1ccccccc3TcIbj3h8anvD8T4Y7z934fvP3nhe8Px3g+8/7Dwof+Rp7Q/8kOwn/ZGf9kVP+zuxB8bWwYsJ4/x+0YszB8f4hObKX+NuelzP3Vz1tD49j3h8Wx7zeZ4djvr+Z4Xkr6o81xzdDcCDxK+8t4tKhkw/F+F/9T954Qn77w/YzxPj617Zh+Pse0/f39ofjvE95b43xPeX8W37Wt2XD8Tc95+tf3h8QnvN5hsYbGbpum6OOObjHHHHHBBPC89fzKYqNP/EACgRAAIBAwMEAgMAAwAAAAAAAAARASAwQAIQUAMTQWASITFRcCIykP/aAAgBAwEBPwD+vRYjBdxC4TxPpc/izHoU/ggXpM/jZ5r5WPQvHrT/AIUq5u+bD5l8E83zYj0Pz6X5rnZCxUIWyqWMrnm0x7xVHL+dnYm06JqdU3nkx6axekPaF6SsB867EWIxJI3ZFcPDitCuoQt0IWy2QhVIQqlQhWULDiT6zYsO66HeY6tOI94/FL2Y7EcYhCFuhCEIQhEpULZCEIQqUKtZujS+KXA6dSwnkPZ+rvDXounTCOppWl0vlUK/p1ODXP8AjOYrUcTI+XeHPGoWbNczux23tPFzYmvyeLDrVhEDe88PNhbKpCFShCEKhCEKyuAnjnuybruT+CLLHS9nhxyCEIQhCoQqZrXBvCeP45F0zs8aOIQqlshCEIVMUL36fS5tL0GcVjq81P0qcFWFQrrVpZE+6aVM/fpen8xxU25rnFnEdD2gZNDol0RtNM3pPF2dp2iuNpyEIQt0IQhCzlirg3QycCKZvOjzW7PnaK4x3v4onaamMdTsIQhWEIXAIXPREyTo1XXiMdTGTQ8uDox5NWhwa/rVMX5HX53d5XFi9PWiNUI6i+U2VsqEIQuYec/ZkK2/WJy5uTb80OxNx4sUTkoXp696eKsB4y4WKJIqe8kcHN5jsRV4Hu8bzQ8TzaQqlshcGr6ypIoiSK3hPPY8Cd5sLZCFurbwHVNhbL+7rAVKELZCELl36Wv7VP8AwWV1f15e1oW69FihCEIQqEIRGmf0dvV+iOlqI6Jr+pXIoQhbRpkjRJ25O1qO1qOzqOzJ2TsHZg7J2IRPT6kSkdLpap+9UHaj9EdOP0fCCNIhEwdT/eeJQj4yRok7Wo7Wo7MkdE7UHag7WkjpaSNMfNI+EHxgQhCEIVCrW2v71Tt//8QANxAAAgEDAQYFAgYDAQACAwEAAAECERJRAxMhIjFSYRAgMDJBI3EEM0BCUGJDYIFwU5EUcoLh/9oACAEBAAE/AvRnzQvd/wCC6nJkvPT0J80fu/8ABdX2sl68z9y/8F1vYx+vM/cv/Bdf2D9efI+Y/wDgv4j2D9fU5HT/AOC/ifaPyUN3pT5HT/4L+K5D8aD9OfI6f/BfxXx4sb9SfI+I/wDgv4r48jNxz9KfI+F/4L+J5j8jXpz9p+1f+C/iOY/FiZX0p+0/av8AwX8TzGRVSUHHmS9SftZ+xf8Agv4rmMhJxdR6l/MlzGL0p+1n7F/4L+K5ofi34VLkXIuRcXIuRciqKok1aV4UVRUqipVFSpUqVK+WvjXwqVKlSvjUqVXhXy1KouRci5FyLkXIuRci5FyLkXIuRci5FyLkXovRei9F6L0XIvRei8uRci4uRcXl5cXlxcXFxd2Li4u7F3Yu7F3Yu7F3Yu7F3Yu7FzwXPBV4KvBV4KvBV4KvBV4KvBV4KvBV4KvBWWCrwVeCssFXgrLBVlXgrLBWRxHEcRxHEcRxHEcRxG83m8oyjKMoUPxCH5NxQqiqKorE3HCcJWJwkraG6iOE4ThOEpEoikSiKRKRLUURai1FqLUWotRaiiKIpEpEpEpEpEpEpEpEpEoikS1FqLUWotRSJwnCbiqKxKoqisSsSqNxuOE4ThOE4SsSsSsSsS6JdEuiXIuiXIuRci5FyLkXIuRci4uLi4uLi4uLi7sXdi7sXdi7sXdivYr2LuxXsXdi54KvBV4KvBV4KvBV4KvBV4KvBV4KvBV4KvBWWCrwVlg34OI4jiOI4jiOI4jiOI4jiN5vKMoyjKMtZaWn4hciQ/JvKeFCiKIoihRFETStKK2Jai1FqLUWotRai1FqLEWosRYWliLEWIsRai1FiLEWotRai1FqLUWotRYi1FiLEWFhYi1FqLUWotRai1FqKItWC1FqLUWotRai1FqKIoiiKIoiiKIoU8lP9B/E+3wfhUqV9KftPiP/AIL+J9vkoh0ZT0p+0+I/+C/iPZ4UGNeD9KftZ8Q/8F/EezwqS8K+nP2s+If+C6/5bH4M3HMovS1PafEf9DqV8KlSpUqiqKoqiqLkVRciqLkXIuRci5FyLkXIuRci5FyLkXIuRci4uLi4uLi4u7Fxd2Luxd2LuxXsXPBXsV7FXgq8FXgq8FXgq8FZYKyOI4jiOI4jiOI4ikjWTsfixoQ2WotLC0tLS0tLe5OPCU3RLe5TuU7lryUeSjyUeS15LXkteSjyUeSjyUeSkslJZKSySuSqWzl+4sa31OLJSWSkslJZKSyUlkpLJxFJFJZKSyUlkpI4jiOI4jiOMpIpLJSWSjyUeS15LXkteS15LXko8lHkt7lvcp3Le5b3Le5b3LRx3bmKDyOEuogqxLUWItRai1FqLUWotRai1FqLVgtRRFqKIoiiKIoiiKFEURT+M1vYx+EhFfT1PadHhLkzTk7vGs3vRCVV6cuTNL2DVfJWni5KPM2kfRlJLn6TaQnX0IyuG6G0j5Je1ml7F/o2t7GPw5m4oUWfS1fadHjBfV8J1tdDTXCQ3TkvTfI0fYvLqcU1EfDEg20hxT5k0rWaXsXn0m6yTNf2i5eWUntEl46jpGpGFVWRHdqNed8jR9pKFZbzUttI8l4z9rNL2L/RtX2MYynhv9PV9p8w8f8AN5Ib5yfl2fcsfUKNHz8k3SLNNcC8sWr5VNSStZpexeGr7GQ9q88fzZGr7GQ9q8sKXyZqv2/cTXjDe3LzvkzR9g96NkjfGS38/GXtZpexf6Nqex+D8KlfT1fafuj4Nmlv1GV8JypuI0SK+TjwK8S7+TW9hF7l5XFMnBW7kQrTl4a/tFy8kZVbx4rdqSNT2Mj7V4QldXxenFk4K+CEkvDUfxkSoqeM5WxqLkvJp7osi8lUR4pXeMvazS9i/V1KlfCpUqVKlSpUqV8KoqVRVFSqKoqipVFyLkXIuRci5FyLkXIuRci5FyLkXIuRci8nLhY+ZIdDcWm44jiOI4jiOI4jiOLBqVN9yOLBJSb5C05plr7klN8hQyWLBZJcirwVeCrwVeCrwVlgq8FXgq8H/CzFSku4qr4KvBV4KvBWWCrwVeB7/gq8FZYKvBOTUeRCqjyKvBV4K9ivYr2Jz3ciFVHkVeCrwVeCSldF05FZYKvBx31tK6mBXHFg1KtqJxYOI4jiOIcW/g2bOI4jiJuT4RRklzKPJR5LXkt7lvct7lvct7lvct7lvct7lvct7lvct7lvctLSwtLEWIsRYixFqLEWotRai1FqLUWotRai1FqLUWotRai1FqLUWotRaiiLVgtRRFEURai1FEURRFEURQoUKeNBrcS5kinq6vwf5P8An8A0mvO41p6lvFd6FCzubPuKKXL/AEdmp72Pwru8N3panOP3P8n/AD/wbW97GbvCnpz90Re9/wDg2v7x+C5kkP0pe+JH3S/8BqVKoqiqPxHu8Pkr41eC54KvBV4Luxd2Luxd2Luw5cZCXMu7F3Yu7F5eXFxd2Li4uLi4vLi8vLy4uLi4uLy8vLi8uLi8vLi4vLy8vLy8uLuxf2L+xd2Luxf2L+xf2Ly4uLuxcXdi7sXPBV4KywVlgrLBWWDiwcWDiwceDjOI4zjOM4jiOM4jiOI4ikikslJZKSyUlkpLJSWSkslJZKPJR5KPJSWSjyUlklJxfMVX8lHko8lHko8lHkteSjyUeSjyUeS15LXkteSjyWvJa8lryWvJb3Le5b3Le5b3Le5b3Le5aWlpai1FqLUWotRai1FqPxK3rwdEbhWp7xqvpf5H9jT5f99SErq+pJu6iGtRb/8ARXFMasl2/h/xXx5aP0o85mn7V6mn75r02aXy/Um5LUVPK5Uml+olqYITru/TarapTxlqJbhamV4tVVCDpw/w34r48X4XelH2zIe1eSd1NxHVdaSQ5b6IraXS6SMqouS8P83kqJrwckhTi/nxl7WaXsXjLkzRncvQn+ZAr5NXnF+nVeDnFfPnTr5Nl3IwUfLJVNmsilJ7kJtc/B7kQncvDUk1RIi3Qu4rfPrcl9/HThxNs1Fwsg6xXjP8yP8ADfiuS8nCOPoy5C/LF5dSSluRpewgrqssl8yKJLcaaUqtltOTJfmxNR0iQrTeau6jTPfPeLTXwSdItlJNKXMsb+KeLNLlTHi+Rocn9zUlbEW0I6vHTwVdSu8W1e7kaT3yialXqJIWivlkaxnaSlaU1H8mq5U3kSTtRtJdJpyrN+bUjKVKMWjEdYO2vMWnEiqeSO/Uk8eGj+5eRtIUk/Nqy3UXyQjavGWpGjNKW7kJywam6UZeH+bz637V38k3XhX/AEW7xXHqXfC/hvxPsKD8eI4jiOLBWWCssFZYKyKywTcrXuN9IqhV4KvBV4KvBV4LGq0+SO5UoRug3uL+zKvBSUW6F0yS5NcytVRiTXyJL5Je65G0eCtVRilKG6lTaN/BUuRciW6V0RaiL0XI5N0ZPijzFq7qND4p3IqaStRVFv1Lkyqc64HOKI8U7mSaWpvNpEnWaITVqNXkuzNrGhDdNN/JVFyLkXIqjaRrQepFEvepMUo5L45KrJNp6kSqyPgm2vk2uEaTpKVS5ZLlkuROklzFFV5lyLkXoc0kXr7sa5SrvFqo2kcm0RWBpulUXIbi1Qp/ZkaR1GXovRPU4dxCbpvRd2LuxqS4ol6LyUnTciMlH4ZtJdJfklNy3IjuVKF3Yu7F3YueC54KvBc8FzwXPBV4KvBc8FzwVeCrwVeCrwVlgrLBxYOLBxYKywcRxHEcRxHEcRxHEUlkpLJSWSkslHk1oux7x+S5+jq+0/dD9TQoiiKFEURasFqwURaiiwWrBZHBs44LUWRwWRwWxwWxwWrBs4YHpxZYsFqwWrBasFqwPTg/g2ccFkcGzhgsjgtWCGnzbRasFscFscEUtrIosFEURRFEUKFC1FFgoiiKLHnX5z8dTfOC8jinzNku4opeSn8RqexjK9jcXRpQt9HV+D/Ivt/OaldxtY0NKL3yfz+hZevk2kMmkt8pZ8bOK7+Sn7WMoSr6epzj9z/J/wA/nbVj9JZHH8tP2sZXx3+jqc4/c/yf8/8AB5ch0qM3G5lGXIuRci5FyLkXIuRNqsRNbR/YuRci5FyLkXIuRci5FyLkXIuRci5FyLkVRVFUVRVFUVKlSpUqVKlSpUqVKlSpUqVKlS5FxVFyLkVRVFyKoqiqKoqiqKlUVRVFVkuRci5ZLkXIuWS5F0clyyXLJci6OS5ZLo5Lo5LlkuWS9F6LkXouRci9F6L0XovRei9F6L0XIuRci9F6L0XovRci5F6L0XIvRei9F6L0XovRci9FyL0XovRei9FyLy4uL0XFxcXdi7sXdiUtzHQfjvLVgtRasFqwUWCiKLBaiSV0RJXstWDhKRKRKRKRLVgtWC2OC1YLVgtRai1YLVgtjgtWC2JbHBasFkcFiLEWRLIlsSxFiLEWosRZEsiWRLIlkSyJYixFkcFkSyJZEsjgtRZEsjgsjgsiWxLY4LYlsS2OC2OC2OC2OC2OC2OC2OC2OC2OC2OC2OC1YLY4KLBRYKLBRYKLBRYKLBRYKLBRYKLBRG43fy8uTJDfjc/Rl7oi978HoputTdfbVk4KKqRhFqps8PwbS9NuhXyvkaXJ+TUlaqkZXKvpXb2vTl7WQdYrySnSSXmeokKVfPX0Zytt/ipypT1dT2slzOe4dsVzNzLX6MvfEj75eOovqRJqsWaXsXjKNyoQVFT0VJ3UZNVizSdYGm3fJeXT3SmvJNVgzR9hOdtPRe7W+5q1tIuqT9LR5P7mpJxoLw1ecWLyT9rIwVCnENpeV8jSx6Ot7SPJeSpX0qlSpXyRlc34V8kpWxqJ1XmuWRST8L458db2Gm6xXqTVYsl4M+R8/Rf5kRRrqPx1ecfuS9rNN0gXT+EQlcSlaVFrLyNpeLdCsXTw0fkX5z8j3F/1KorLpNqq0HPiiPkac6bj8zxeohTj5dWSdGvgq5R5Gm6aZGSkN0NsheaG6ckSp8nKItWr5Gu/ghJv48mp7GaTrHwaUtxugl4XIWpF+EPfMqvGU0ml4V308KmoqwZF8FSErkSlaVHK6W57iLalStfQdUycnyXycUPki/qMn7XQjCqrUjX58UqVJ7yzDNpL2/JxL58JK5UF5ZuslGo9KNNxoviaNSfKK+TZxpyNN81gcpSlSJqRmlzNDHq6saTY/CtC7Pov8xEPdLx1uS+58GnFuXhp++Zrft+58C4XbIXjq++J+00m68x8iH5nho/P3JbtRS8kZqTcWaypa0ftNKjVST+pX4XhpxjWVR6WNxCXw+ZqPksnDBGpbLlzI1ovG6L3E4qxmi+Egqzp8GoraSRqb3BEn+20iqLyTdF4ctY11uQuRKNjquRqUenUh7V5Jxk3z3Gilv8ACHvmhxT5j50T4SMUkSST7EVu3MUPqNNiily8daO6pCVUQ3ykyl7eCcLVzP2kFXTaNNqhqUceYq7Ihppx5iil4Lz6n7Xgk3PckQVs34e3lyE6+WqNPfKUvCqKlUVKouRVDpGfYuiL33DVZplUR3TkyDSlIk40e80PkuRci5FyLkXIuRci5FyKoqfid0xUfMdBqu9Fpx4KywcRxYOLBWWDiwcWB3Xog5VkVlgrLBO6S5FXgW79pV4IKak3QmnL4LnTkS1E1yIuVFuKvBV4JpyXI+rgtnF7jifMt31oy7sJUfIu7FzwXdi7sOMrqpFJS5l3YsjX5KRtpQg5LczhuuLx++41H7Xg2mmzaQ+EXt9i5F6FK19h6uCFIojRNvJNpxaHJ8PY2sDa4RVvmxSSyXonSUS6Y0qdxu6FGiL4d9RudLSfsoiMty3F/Zl/Zl/Zl3ZmnWNdzLuzKvaN0LuzKSttt+SrwyrVax3Gk3TkzftK0Ln0sq+krLpHVr2lupS2hGqVLRbSP7SUdSXwJahY/hD06/Bsuxx9haeouTKavYsn8spPJSeS2XUWy6i2XUWy6i2XUWvqLX1Gz38yz+xssMWnT5Le5Z3LCUH8C0n8s2OGbLuWRLEWRLY4LY4LVgtRasFkcFqwWrBRFqwWRwbOGBaaU+W4tWC1FFgosFFgtRRYLVgosFqwWrBaj8TDkyMRojGpJb/R/wApDnL0rVj9TZHBTy08lEWxx/rWt7GSE8kpt8jn6P8AlNP9338sm1qLBqtpL9ZX1XOkkv5HUdHF+EZXeXUdsai/gNb2SNzHaiyo4KO5+j/l/wCGn+77+XW/b9zW9hB1iv1et7CLql6mrzh9/wBRdxteSO7Ul5WVnLluQ9OfO7z6cuax59b2EXWJp1U2vLq+xkPav4DW9jLRiH6K/Nf2NP5+/kndTcTjK3exx4CE+FJEJXDaQ3PmiErl53NG0l0i5Dk5OkSk4/InVEnahSn0iaZUuXg5JEZp+FTV9jNL2LzTlaqidUTdF43K601f2/clO0W/wlJRRWcuxVxe9+lKSiha2/luJTpOI603CnqN+S3fU2ivt8ISblJFF5rJL2sUt9GqDaXMTqNpDklzFJPwj+ZMvjyr5dS5LcS2lm80vklw6q+xdN8S5CdVUvk3wohOTlRmpW001Nx5iVP1+t7GSbqfBcxUfor8xmny/wC+TaO+lDWfJdx8jQjvbHwalfhmtSsRaayJJFV5paabqhuS58j9pp3/AAWyfuYqI1PfDw1HahQVOe8t5uptKQT+SMK75czlqk5UjUWnuq3vHfHujQfD5tRXRZpyVtCUruFE3bEWmqc94q7VbzVXAavtgxNUNb9rTJ++ItJ9QtOPpTptI15E3G1irWFxUopq7kacqryeydfg2sMmnv1JeS9VoVQ5JIuTNWlpNq6FRWmpJWio5uo1DNC+OS7jlT5JKCgRmqLeXxL4l8ScuNb9xPUTjShpNKJq8VKFUo0NOXBQhNx3WiclO60lqVi0kab4eRc+kq8FZYKywcWDjwcRxnGcZxnEcZxHGcRxnGcZxnGcRxFJFJFJZKSyUlk4jjOM1rrGNfJuLWUS+SxFhYixFiLCws7ijxs041RZ3ZZ3LO44uMhaUnvZZ3Fp05MenX5NijZU5SZsv7MWkslncs7lnct7lr6hw1eo2c3zkWbuZsacpGyfULT7j06/JZPrHpV5yNjJfuNjmQ9OtN5a+olpN04h6cnGlxxrc2KMp/u3Gzae5lj6i3uy3uW/2Zb3Za+oekmLTpyY4V+TYLJsflM2TfORst1LjYLLFo0+SelJ/J9Ys1eo2eZMs7ss7ss7ssWWWLuWLuWd2Wd2PTT51NjFD0k8i0v7M2U1yZHSouZs0bNFkTZxNnAlFR1FhlkSyJYsENPncWxwPTi0bH+wtFfJs44NjAWnBfA9OD+DZQLY4FpxVS1YLI48KeSlPHZx8iil/Aa35cim7wq7fSXumaft/gaVf8RN2O74NSktOqIOsU/53U9rG2MuFHSz6MeczT9q/WJfxtKmx+FLcJUVP52XJkl4UIqq9GPKZD2r/wAIlyZNeD5ekvZMh7V/s1SpVFUVRciqLkXIuWS5FyLkXIuRci5FyKouRei5ZLkXovRei8vRei9F6L0XovQ5In7mMr4Xl/Yv7F3Yu7F3Yv7F/YT4GKW5bi/sX9i/sX9i/sX9i/sX9i/sX9i/sXl5f2L+xf2L+xf2Ly/sX9i/sX9i/sX9i/sy/sX9mX9mX9mX9mX9mX9mX/1Zf2Zf2Zf2Zf2Zf2Zf2Zf2Zf2Zf2Zf2Zf/AFZf/Vlz6WXPpZc+llz6WXPpZc+llz6WXPpZc+kul0l0ukul0lz6S59Jc+kul0l0ukul0l0ukul0l0ukrLpKz6Ss8HHhHH2OPscfY+p2OPscfY48opPKKTyUnlFJ5KT6ik+opLqKS6ikuopLqKPqLX1Fr6i3+xb/AGZb3ZZ3ZZ3ZZ3ZYixFkSyJYiyJZEsjgtWC1YLVgtWC1YLVgosFqwWrBasFqwWrBasFqwUWCiKIoihT0qFFg/EL6jHvKD9B8hfli5f7FVZ/h/wAX7z5JP0Zcj/ELl/CzlSUV5NS/4LdTrIuV9rf6TU9jI+1Gq6RF+iqq09XU98UThFLdzI8kSlaqlknzkK+Mkn+qckvkvjn0PxfuQzmUXoS9rP8AEv1U9WjolVlNZ/NBTcXSQr5b1uRFv58aryx36kn4QlVeTT90339eTmnuRfPoI1+VTxn7Gafsia3t/wCi9N7WUsGz/sy6yqZGFd8hRS5eM2lqxNpHImmUcpydfnwk7VUXg9o26FNXKLZ/MvHUl9Rdi9dLIyTJRuVBalu6RFNu5/qdlKR/+Jd+41dCcN/wR1ZRZGSkq+b8X+0fg/Qn7WP8uP6rfpybpUTqjU4tVIXklFS5myj3ElH58Ytw3Wslqbnws0rqLd4y5M0fZ6WtyS7iJP60d/jKVP2svn0EW/leOr7GQ9qRrft+/q1oSdZqXx5Hpxe8lCK1ICSx4eybwy6OTVkraGn7F4PUijax7l9eUX47iU1E0k97yTlbGpZcqye803WP6hFFQW41eJdjXhbI/Cy3Neb8X7F4S9GftZ+2H6qtXQc/hcy2Wm7ueRasDaQyXdvCUG/3Gzl1i04ryNVTRC5bn46nskafsXpThcWS6xxUZwp6ElcqEYqJqK6Inu8lSpVFVkuWSqyXLI3Ku6SLY/ulUdjVC2K5ahSHUXxyXxySslTeXxyXxyXQfyU0j6a5GlJKNC+OS6JfEvReibuXycZFRXw2XdmN1W+LLFiQnTcolz6S6XSVl0lZdJWXSVlgrPBWeCs8FZ4KzwVngrLBxYOPBWeDjOM4zjOMpPscZSRG20+SlEz8ZzR+Hg7alsslJZKSyUlkank/EOXJjdDmbjjOM4zjOM4ykyd1pSVIFJ5KTyUnkpLJSeSk8lJ5KSyUlkpPJSWSk8lJZKTyUnkpPJSWSkslJZKTyUlkpLJSWSk8lJ5HpSq3cRhJcik8lj7FjLZdRSXUUl1FJdRbLqLZdRbLqLZdRbLqLZdRbLqLZdRKEmqXCg0vcWy6i19Ra+osfUy19TLX1MsfUyz+zLH1MsfUyx9TNRb4byz+zLP7Ms/syz+zLP7Ms/syz+zLP7Ms7s2ayyxdyxFkSyJZHBZHBZHBZHBZHBbHBbHBbHBbHBbHBasFqwUWCiwUWCiwURQfIj7UNW6v3/hYSoXJsct3M1NLaS7Cil5vxS3xJCH6Gp7Wf/H/AC+pKlFk1PdBfwVZQ3UqcU5p0ol/D19D8ZyiVG/R1PYz/wCP+X1IXfcjp0d0nV/6l+M5RH6Wr7T/AOP/AMK/FfBuJL0dX2j5w/3epUqVRVFyLkXIuRcslyLkXovRdEvRci5FT8W90So36Or7R+6HpVKlSvhUqVKlSpXwqVKlSqKlUVKlSpUqiqKouWS5ZLlkujkujkujkvjkujkvjkujkvjkvjkvjkvjk2kcm0jk2kcm0jk2kTaRNpE2kTaRL0bRG0RtF3NosMv7Mv7Mv7Mv/qy/+rLv6svfSy99LLn0sul0l0ukul0lZ9JWfSVn0lZ9J9TCOPCOPCPqdj6nY+p2Pqdj6nY+p2OPKKTyUn1FJdRSXUUl1Fsuotl1FsuotfUWvqLH1Fj6mWvqZZ/Zln9mWf2ZZ/ZlndlndlndlndlndlndlndliLEWIsRZEsjgtjgtjgsWC1YLVgosFFgosFFgoiiKIosFscFkcFkT8XFJIfja+oteSz+xZ3LO5Z3LO7NSNFzLOKO82fcs7ssRYixFiLEWIsRYjZosRYiyJZEsRYiyJZEsiWRLIlkSyJZE2cSyJs4mziWRLI4LIlkcFkcFkcFkcFkcFscFkcFscFscFscFI4LVgosFFgosFEUWCiKIojd/A6krYl3DUW/9Der7fCM7m/SnKlDUm4i8mrOygnVet+M9i+4/S1faP3Q8ZSUfG5fqtPUur5dSdtvqwfHNGpO2NROq9K5ZF6D5EJ3L1tb2/8AST+ijT9i/Qz/ADY+Gj+77+jcma37fuav5bNP2rya69ouXrfi/wAv/o/S1faP3Q8JbkyL2lamk932G6IhFNVZFUFKW0a+P1GiuKfl/EftI8kcSnX49O5LWNTfBml7F6Oo6RZHTjTkRio8vR0vfND5GnBx+fU1PazS3woabopLDFJPl47WNfJKVEKcWOaQ5pCnV8iU6fG8TqqidfCf5kBvcaTST+4vJXyWqtTW9hLfpGl7F5PxHwR1H8ouVKl7ftQpOtJen+J/KY/S1faP3Q8Je1mgt1TT90z8RWiNL2IqiL+rIlNJC1d+9UJ37rSOpXc+ZfvovQetBOnjWvhtexGSZtU50JSUVUSnqb26I026uL+DS5z+5KVqPqvCFepriqPVpKlpqzrThFdg0pN1qSmokdSvx4baJtFWnl11Jx3D06OJBKw05KFyeTaP5juK7qnHPsjTclK1uvl1XwM0tROO8TXlqvB6qToOW6pCfGxSr8EJSvlUlq0dEqkZXeD1F8byM6unn2acqs0f3LuNfVoTVlJLw1JVdqLZSXKi8urZFct5yjGnNkVNft/6KLrWTJxdbkSnwbiEbVQlKlEuZq/tY9KrrU0Yqj8uj+77k9S2hLjhuNN1iP8ANQ1VNEN+nJGj7PJrb3FFFQ5ytXIUdWLKTk1Xd6ev+VIY/R1faP3Q8Nb2M077VuNL3zNe7/hGG5VY4JkYLasdZanD8Gzr7n4av5ioQio+fVk90VzYtGNDUlalQ2eWOFu+I51020aSpBD0otkko6kKH4j9pXdU0t8pSIbtWSPdq/Y2O+tzIxUeSNxrNcP3Eaf5kyPFqyr8GrucZGtyj3LY0pQ1FZKNBeXU98GaXtf3KV1/+k1WDG66SLVNLeKMVyL4r5FJvkvGWmnU0YKnL58NOrq6/PhF/UkPUkm4/Jso07inwS7EIKz7ijRUKpavhJ0lLuRikjlq/wDDVb3RXyRVFQ1N0oPzajdjoac+DeaXukSj9SMjU3wZBqxEuCdxtYZFqIqslyyXLJqRUpLeTta3PkR1uo2sRau515lE9PnvqXz7EaJ1b3k3FxaIyVFU091xfEvRei9EZSj+0k25Js2m6kUQ3LkydXKLS5F3Zi3N7nvIXRruLn0lZYKywWzuqkS2r+C2UKOgtRvkXS7F8nyOM4ik8lJZKSycZx9jjOPBO5xe4k1H4N0hxS+SqKoqVKoqslyNVq0bV0S5ZNd1SE0kjT3ORr77RSVFvLo5I0U5Oo6xnVfJfN4Qml+44Lq1L45L45L45L4l8S+OS+OSb4lJC1lhk7ZxL5ovm+xGxKlRTibSJqSTcWazUkqFZSSXwRlFKhX6tSfOseZdqnHllI/KbOGlLRS/qz911GfurayfFGlrGpuNGhbUmpbm6ik+kul0l0ukrLpJS1IS7EpPU3KJG6KStLZXXUKz6TZz38t5stRcmbOfyxRa+EcfY4+xx9jj7Fslg4+xs5rkz63YUJpt1NnK+pSeR6U9/cUprcz6suxsnSlRRn1D0ZOXMs1esWk+dxs+5Z/Zk9PlvLO7LF3LEWIsiWRNhEWlGrNnEsjg2UCyOCyOCyOC2OC2OC1YLVgtjgtWCiwWrBRFEU/TPTi/g2cMemzVjSTNOO/sPmWRLIlkSyJZHBZHBZHBqRSiOKrEsjgsjgsjgsjgsjgsjgtjgtjgtjgtWC1YLY4KIosFEURRFEURQoinn11wEeS9bW9hD2ryNJlPUUk/1dV6d3Fb6ymm6ef/ADf8G6eMpW+tq7tWRKcitfQ1faP3Q/QV9VqqoRVFQuTfputNxtUuaZPUUo0SIKkV+h0v3ffzXcTRKSj+k03xy9P/AD/89aiKrzf5n9icL0RVI+Gt7Bcl6v4iVs3uHGvISjHn6Gr7R++H6Cyk7l4M0pVXqR/Nn6Gm98vv53yZoLd6+k+KXm/zGvWiFyXjXzqcq0kbVC3jklzIyUuXhLUpKlCU0l4RdJ/9FJPl5blWngnVD1Y1oXcTif5n9jUnYhOqL3tbWSmol8n8kK03+fVdIMUrdKrIwrvZp/uWPLPdODJStNST3UI3Zqa1aEYzaVZEUl6n4z3r7FHQfoantH74eSTot4tar5eNfFzbdIkJN1T5onO2lOZ9Yruqc/HT/MmvC5Z8FJPwqSnFC1d/LwqkVK/X/wCehs1dWpJ0i6EdpPfdQjPfbLmSmo8zarDF4Rgo+ZuiqbXMdxf9Xt4S1Mb2zji1V+C2k99aEpzVU0UtlDyym60SqO69tk/y2XSaiokJV+5KUm7Yjg4b7hebW3yiiipQ0/3ditW5Urg04utX4SpR1NKNd7/4SjUWmtrTzUprk3SLPZpC0ax38yH5jNTdODNVOieDaruRTlO5mpFbTfyFT49DU9jNT8uAuRp85/fycTlWvJmtyRPfBkGnp7yxfDG7tNkPavCpUqiqKlSqKlSpU/FW7tw9QpB/PoavtH74+R8epT4Q9NNLwcpPUtRsq/JCbrbI1ZUX3IRtVDlr/cnFujXNEdTfSSoan5cjT/LRGO04mRTju+DR3zmzVnTccNKUbNNNR3k4fK5kZSnu/wDsnw0S+SMZ4I6e+r3slO1EdOu+fMstlu5HP8R6NPcI1EnHeaSu4n6U+LUURpNUJxsoUrE0OcjW9hLfp/8ADTatRq8kicaxIOq8ilBse+UyPsNGNKjdNX7lz5d+ZGxb3KrNrA2iL45L45NpHJfHJVbWpfEr71kjqUSVrNpJ/BX7k7nu30ISlFUcTaS+IMSlddRlz6WXS6S6XSXS6Ssukd9ylaccn7dxO6SpQpq/IoakXuGpSW9HHg48I4xqTXJGyZZPqEpopMpPJSeSk8lJZLZdQtOVtGy2XUWvJa+oteS15Nj/AGHorJZu5myibL+xs1ShHSSRZEsiWRLI4LI4LI4LIlkcFkSyJZEsifiYK0teCncvWS+OS+OS+JfEviXxNSSaL1ejaI2kTaIutm925m1WGLU7E/ddE239GJ1knIlbKnYvWGam9xa+CUnuoic7l7GVeypR1oQf06UZCU47rSUpy3W0NOSjKQ39WrRtIr4FqV5RZqakkuRpVjH2k7pL2ldXpK6uCUmtRNo23Yv1JcoijOEq0qceDj7H1Ox9TscfY4+xx5RSeTjpzLpf/wCFk5e5i05x9rLNR/uFBr5LZdRbLqLZdRa+otfUWvqLH1MnCS4ky7/9h6c5Ci6b2xaVPk2fdmxj3NjHLNksssXc2cSyJZEsiW2S3rcW3vctxZHBZHBPTqtwoKm+KLIYLVgosFFgoin87+L/ACxtjLVgtRasFFgoiiKI1Fy+5T6i+3hT9Daq1oShGXNC0oL48HFOlfK0nzFCK+PUSS9dSTr/AKnr/lsdJfcelP0NX4+5/k/56FfDT1G5STFOLbX8Ppybcq+bR5P7mtJqcRcvJOT2iX+m635cvt4P0NT9v3P8n/PQnBSFyNLnP7mjvc338mpqtTS9O6mrv5U82jvTff0a+jHdqz8snuZo+w1d+qLyP8x/6bP2smyvoT5x+4vzH9vJfG62u/wjJSLpRlv5MnNqaivDS/yfc0OUvv5PxC3J9zaRQpKXIboXTn7dyNObdU+a885WRqQncjUlbGpF1Sfhpxcar0JVlNxrRGxj3ENpcyqHK2W/kV3VFq15RYpPp8L0tWbPqS31oRlK62XhODl+4elFRZCSjpknK/uNSilJsSnPfWhdJOKZLTufuJJqTVSPJfxVfCqKoqi5ZLlkujkvjkvjkvjkviXxL4l6L0XovL+xf2Zf2Zf2Zc+kufSXPpLn0lz6S6XSXPBc+kufSXS6S59JdLpHKVPaTibPLp6EvfAXvfkUKybrvqOfxHezTkoVrzKSnJN8j/P/AM8NLnqfc0eT+/k/Eb7YihGMTS5zl8EfqVk/+EVrEIW/d+fW/Z9/DVasZo+xeWvhUr4TUH87zjj81QpJo1uSIyhTdQ1ZRcafJP8AK/4aclai5ZLlksT1G2XRyar4oyRfHJfHJdFrmQlY2e6dxqO50wQ1UlRonOs4s20Mj4tTsXrBf2L+zLn0sufSXPpLpdJdLpKy6SssFZ4KzwceDjwcfY4+xx9jj7HGceTjyUnkpLqKS6i2XUWvqLX1Fr6iz+zLO7Le5Z3ZZ3ZZ3ZYu5YixFiLEWIsRZEsiWRLI4LY4LVgtWC1YLVgtRRFCn6iTanKg5Mv7Mv7F/Zl/Zl76S99Jc+kk3fHcKTufCXS6S6fSXTwOFf2kbl+04ukrPBxVrQ48CuwceDjOPscfY1HKNG0fU1F2LZ0puPqaX2Nr3K6rLZ9RSfUWy6i2XUWvqLX1EtK79xs59ZsVk0VVc/ks7ss7ssRYjZo2aLIkEmt6LIktLfVFG+UCGkkt5s44Njp4NlDBZHA9GGBaMCyOC2OC1YLY4LVgtWCiwbGFSiLVgoUNnDpKf6drbpstT+fQf5kSHvl+jovQbp46HKX3/wBu/E/myF6D/MRD3T/WOEl7WfWpShCNsaf7d+IdJvcN+h/lX2Ic5/f/AMM/F+8slj0P8v8Awhzl9/8AValSpVFVkuWS5ZLlkuWS6OS9ZL45L45L4l8S+JfEvRei9F6L13L1hl/Zl/Zl/Zl/9WXPpZc+kufSXPpLpdJWXSVlgrPBWeDjwcfY4+xx9jj7HGceUceSk8lJ5KTyUnkpPJSeSkuotl1Fsuotl1Fsuo/FxpaXP0P8n/CHOX3/AFtUVKouRcslyyXRyXRyXxyXxyXxyXxyXxNpEvibSJtEbRF6L+zL+xf2Zf2Zd/UueC59JdLpLpdJdLpKz6Ss8FZ4KzwceDjOM4zjOM48lJ5KTyUl1FJdRSXUWvqLX1Fr6izuWdyzuyzuyxFiLEWIsiWIsjgsjgtjgtjgtjgtWC1YKLBRFEUKfxX4vkmMufSXvpLn0l0ukun0lZ4KzwVntORC/i3H1Ox9TsfU7H1Ox9TsfUyceSk8lJ5KT6ik+opPqLZdRbLqLX1Fr6ix9TLO7LO7LO7LO5Z3Zs1lliLEWI2cSxFkSyOCyOCyOC2OC2OC2OC2OC1YKLBRYKIov9Bbp/Bfi/y/+j9D/L/w0/3ff+K1JWxLH1Mgmlv8JakV8kZxly/R6jpGpF7vGc1Ev1JckVlGSq+f6avqa3sYuSGxaj+fCo9XCIzrufP9X+J/KZdT0P8AL/whzl9/4rX/AG/c20BakWPluOGm/maenTf+j1viItyP83hKO+pGvyiXFqLt69uo3zGpx33G1ryQnOu9eLaQ/wA2Lz43q63whK5V8b45NrDInXw1fy2XU0k+wtOq3ihuoacuccEuLUt+C1UoakN1V8EHcq/qtbfpy+w/Q/y/8Ic5ff8AX6mpbuXM2Unvct5dOtgoOPz4zi3yZTW7CjP5fjKKfMtS+DWUVHuR9qJK+6WDTdYr15313F0+kXhqbppm1iXN6tULl4ak7V3ISp8G1WDawFv9XU3QZorg8ktNS5k9NKUd4od/BcM5XF8cmg+a8aaSZdpClX48NT2SKV0CEk4rwj+fKhPhmpeOlzl9/wBJXwqVRVFyyTasl9vR/wAv/CHOX3/Xzhc0yKkq7yH50vFuiNssM2uIsjX58ZtqawXyfKItNt1kyarFkVJpR+PkSp6UuLV58vCcuOO/xe0qfUwJS+fG1YKU1X47vDcWxwbkVRVZKrJcslyyXLJfHJfEvjkviXxNqNufPkW05SZV9Qn9y/sX9mTq3F0e4u7Mv/qyv9Td0EuGSlQU30l0ukp/Q39BWeCs8HHgjGcdxspc1uLdXqIwlEam924UNSPJn1mRhKPyUnkpLJSWS2XUWy6i19Ra+otfUW/2LO5Z3ZZ3ZZ3Zs13NmixGzibOJZEsibOJs44LI4LI4LI4HGOBuMXSnof5f+EOcvv+nqipVFUXLJcslyyXRybSNXvJ6nxEtto4sWq8F2WXxL4F8TaRL0Xl/Yv7Mv8A6svfSy59JdLpLpdJdLpKz6Ss8HHg+pg4zjOMlpykbKfUTg4qor8lJZKSyWyyWy6i15Lf7Fncs7lncsLCxFiLEWRLIlkcFkcFkcFscFqwWrBRFEURTwp6clVM0fb/ABOqnfL7l76S6XSVl0lZ9JWfSV1MFZ4OO8hfxH1OxxlNTJ9TJSeSk8lJ9RbLqLZdRa+otl1Fj6ix9TLP7Ms7ss7mz7s2ayzZo2aNmiyJs4lkSyJZHBZHBZHBbHBbHA9KD+CyK+C1YKLBRFF+n1PYzT9i/hn7kvDR5S+/8TrOmpL0P8q+xDnP7/zc39Nml7F/DSbWssE50Xc042x/ifxFFqeh/l/4Q5y+/wDNa1bCcroxSEqL+GlFS5i04r+JZ+LXGvt6H+VEOc/v/NrTinWn89UqVRVFUVWS5FyyXLJcsl8cl8S+JtIm0iXxNpE2iL0X9jX3teg/zEQ90v8AQ6lSqKrJVZLlkuWS5ZLo5Lol8S9F6Noi9G0Rf2L+xf2L3gueC54LpdJdLpKywVngrPBWeDjOM4+xx9jjOPJx5KTyUnkpLJbLqLZdRbLqLX1Fj6ix9TLO5Z3LO7LO7LO5YixFiLEWIsiWRLIlkSyOCyOCyOC2OC1YLVgtWCiKLBRefXXt9D/IiHun+lqVKoqslUXIuWS5ZL45L45L45L45L4m0RtEbRG0RtDadmX9i/sy/sXvpLn0l0ukul0lZ4KzwVngrPBxnGcZx5OPJxZKSyUlktfUWvJb3Le5Z3LO5YWIsRYixFkSxFscFqwWotRRFEbv0aafrV3jdCMlJVX6VypNInqKLS82suRdLpLpdJdLpLp4KzwVng48DvvRG+6R9Q4zjyUnkpPJSfUWy6i2XUWy6i19Ra+ot7lndlndlndmz7ssLEWIsRs4mziWRLIlkcFkcFqLVgtWC1FEURuN36lv9Bd9SnhOtroaUm47/Re4vk+SE36Gm6aj8Jaii0n6n+f/AIavskfh1w/pZfnL7GvyQuXlnGtPQf5kSHvn5Jye+nwRdUn+lc0nQ2n9WJ1Vf1Wm+OS8uvyRF1SL0nT1pbtZeOj8/f0dTe4x8W6CdfMvd/8A14ShGXMSp6UpKPMurqpo1H9Nmn7I+NTaQz4RmpeXUlauQtXJLUSLqLebRvkiE6uhKajuFq1ft8JOiP8AN/w137UKcfK/Ql+ZEj75eMnRFPps0vYvPGfE0/Wj+bP7eCVDTk3KS/SNpeO0jXn4f5vLr+w0uRPTuZGq3eo5JfJqzV0aEW34aP7vv4vUiiOqm6eXXbU0yGrd8FVuKVNL5+49TfbHmVnBqpqTpy5sjfGW8nqqJCW//vgpppseqvgT8JTo6fJGdXTzNKVDV3asTX9qXcbb4YkeDUtG6JsVst8mNQfKJBNRVSSUZw82rRRNCO6pPi1Kdhab+WKKXI1E6qSIyUkRk5SeDU9jJc4MlBKUUKKXqy98SPvl46jb1aD9rNH2eFfGu/wt4q+m5xXNm0i3z8Iv6s/GO7Wn4OSRtI1p4KcX8+CdfNVze7kR4dSg2lzNrHwk5SdIi1d2/mTTtuY5WwTFXU+xOMbGafsR/n8HqP8Aai7VwRlVVNWbapQ0pdiUpLUXhe37UOU48yu6pSWpvqKq05Gl7F5npJyqa0aWsXIlyZp3PchqcN9Sc/p1FbCO8rfJUXl/ER+TTSsRre6ByRpcv+mkvqTNf2C36q+3hZG64goy1JG5Iiq6MiMdOSNOTUrWSdE2aK3V+Way3VFyXlq9OfY9+qjX5RNOKjHuTf1YM1KODNPZ07m0gS1KRqOd7gXRyXxyXxL4l8TUdZ/8NNqMSUltFI2sTarA5yUq0IvjbpuOJSbSHfLmtxWv7Sak5J0LpdJdLpLpdJWfSVngrqY9CfvgR/Ml4wg5S5j0lTmzS3NE23K1E42KqYuRdKXtLnHUG91TTldElJJH1Jb+Q74Uq/POdotP5kL3x+5KLfJ0FF7VqooUNRTftYoy2vPeUtTdSM1Wsh8dKR8NTTVKrmRctT7C8ut7CNLVQoS/NiiUE0abdGsGj+77lEa3sJ/lf8NJqxE5XcKFuVBfns1PYyCmlVH1ZdiKSVDWasNLdBGr74GrKkSFFE1nuSN1tKkZ2bmSncqI0pK0vjkviXxHqJG1ibWBNuYp7iUqxe40d1XQnKsXuPdp0NoqUlE2qwKcn+0rPpKzwVng1IzkuRC+1biUJyNlP5ZSYoSRKE2qVNlPn8lNc2eo+ciOm72OEqPiNPTdvM2KybFZNSD3I2fc2afybNZLEWI2aLEbOJsolkcFkcEtJMsjg2cMFkcFkcFscFqwURRFChTwlFNC0or9LP3RF+Y/t4T3RZoLhr4KNs4/YlGV10Sa1HHeN/Sr2NP2o1PzD4ND2v7i49TsvDX5R+/kqVRVGo1fGvI2kMkpJzjhF8clfr1L45L45Lltm+xKUXFo05xW6SNrA2qNWTaokQdsUqMv7Mv7Mv8A6svfSXS6RttUtFHVjyPrE4zlR/J9YjGaEpdjjJQlJUqTUlB7yGlWK3i06fJbLqNk7q1NnX9xbOH2K/csm+xLR4e5HT3Ko9JNoenFliJ6VaUFBFscFscGlS6RRYKIoig4RfwLSivNGCjyLVgtWP1EnRV/SNpeVzpqJenWeCs8HHg4zjOPscZO6sRX7T/hx5HGbXMUZLdUpPqLZdRbLqJRdr3kIVhzNj/ZmwWTZ9xaSyR0qNmzXclpJoWmqGzibNFkSyJZHBZHBs4YHpxa5FqwWRwUWCiKIoiUIy5oWjDBRfodf2M0vYvPOdqE6+jpe+Qp8bRKaihOq/TSdEzT1L16mt+WyPJeper7fPrft+5NNrcxVp489f7L9Fqc4/c/y/8APNXeaj4Gaa4F4VX8RqRrFmiqQ8/4j2o0vavQnJJGiuGpp/ms1VWDNL2L1W15K+FfF8maHt9TX/LZH2r7eWWpGJGSfLzUVakpWkZ13eXW/Z9z4HqS3fCOPI5avSaalKUmJJfodT9v3P8AL/zzRdKp8yXHK1cvCCkq1Zqb9VI+DT3ycvO2l6t3FTy1WR8maPtr+j/Eckae5uPmca/Js59ZsV87x6nwkaVbzU9jNL2Ieqiu6pfOXtNObdU/QnOiFpZ5mm6ScScrUWSlvkzTVJ0T3GpdTcTjYrkJz1OyIpr5NpHJpTSr9xeXUlbGpp6t4pVm8I20RST5GnqXNmt+WzTfBH7EZKXLwk/qxRqTtXcjbHe97NJUj5dWTjEXIhx6rfwiX50ft4uSQnU1H9SCNZ/TYknFDThy5C3qpo/u+/6LU/b9z/L/AM80oRkJKPivzmT3QZpKkF5/xHKP3F4yklzNrET87/Oj9vCU/hcyzUf7haknw/ItNeEY2+nKSijav5iaUrk/BycnbETlGdr8L5SfCat1FU/yL7ed8jT1HJvcTaijQ+TW3QNNOa7E0o6bG+CKyJy5RiQjTn55cmaO91x4f5/+Gp+ZBFknzkKKXLw13w0NH2Lwsg/g0Uqy82p7JEdRQ00lzHWOlT5kRilGhSEas/D/ALjWasNP8s0pKKtZfHI6S1UzWpWJHZovjkvjkvjkvibSJqNSi0X/AE/+GjwxHv1U6bi9dy/szUq7aLkXz6B7rX3NWd0OQq80mNarE2lS0ipKTdvMrPpKz6Ss8HHg48HGfUOMpPJSefQ1Ocfuf5f+eOq2oOhBtxVS5V8NXck8Gr+z7iNP8zUNf2EeS8+vyj9xKc/miHdp0daok6RqRdXdIcq+2JpxcV6MY0cu43RGhzl6y45Nv4JRTVDQ3OSNSVsTTjSJq+6BqukCCpFGv7CO+cfsVKoqslyyXRyXRyOUWmqii1+8SgvkrCtTVpJIi4pUJtSi0b927kbaBtX8RFJ/KL/6l76S99JdLpLpdJK9rkacZxXI48DjqXXEoTe8rq9JTVfyOOokKGpJ1ZsZdRspdRbLqNlJSrcWy6i19RY8lndlndlndmxjUekmjYzyLRXyPRafCR0eojpUfY2ccGzhgsjg2cX8GwiLTivgosFEURTwovO4plFT1n6E/dD7i/Mf28db2FVFEH9R1+StDfqPsS360Vjw0f3/AHNf2r7+eqNVXWimqveas042on+VQgtK1F8ELVqXxyXxyXxL4l8TaI2iL0PVdeTG5T5rcSTuuii/U6ROWC59JdLpLpdJWeCs8HGfU7H1D6hSeSk8nHBn1JchJxnzLKreyzuS0qrmS0nbz3kXH5rUsv8AsR0aM2cSyJZEsiWotRasFEURQoU8KI2UMFP9Dul0lZ4KzwVngrPBxn1CV90RX3spPJSeSWnKS5i0X1EtK75Nh/YsfUbLfWpY+plncenX5LO5Z3Zs0bNGzRs4mziWRwbKGDZQwWRwbHTwbOGC2OC1YKIobin6ui9SM6tr/UJfmRI++f6yvnve1t+P0N/Fb6Cmm2vCvnTprv8A0CToP8R/UX4hYFJP1X+avsQ90/RlNR5+Dmk0v0OtucH386/Pl55atHRcx7dmk53NS9DU/Nh6EuHWXcqaddrLyVKoboSbvqRWp1fz7JQqSTiR1ZRkKVV6n+X/AIQ5z+/oSko8zX3xTI8ka/7X5tJvaST9OUVJUfns+pd288tN1rFm0lH3L/oqGpKVySIuqTL+O3wnPfauZ9TPhrOk4lNSSrU053Lv5ZVpuNTTcUm2RihbtZlXPcuRHg1KeEVtG2yUbJqnhP8ANF/B1KouWS5ZLlkujkvjkvjkvjkvjkvRfEvRei9F6L0X9i/sy/sXvpZc+kufSXPpLpdJdLpLp4Kyx4zjuJ7maLbjuOPJx5KSyWyz6H+X/hp/u+/klqUmkVoRlVV8G4t2msvpkPbE/Eco/cXl5fiC5Z8JzUVUjXU+RxiuUiEm1579Rzdvx4anskaL4F6LdDdJGnwzcD/P/wAET/NjTwTt1ZVKoqjUV2ql4Pg1K/DE/HUra6GlNvmzVlduRp+1E4OWqJJI1fiS+BasGJuLdpZcqt7xakluElW5veXxL4l8S9F6NobTsX9i/sXPBc+kul0l0ukrPBWeCs8HH2OM4zjOPJSeSk+otl1FsuotfUWvqLP7Ms7ss7ss7liLEWIsRYiyJZHBbHBbHBasFqwUWCiKIoin6B+MuRNbzQhSC8KekvzX9jT/AHffye7XNZ002aSpBG+Gp2Z/nNX8tmn7Imvyj9/Nqxrqo2MSaspSR+I/YLRXULTgiqKoqi5FyyXRyXxyKSjqSwzawyamsnFpI0ppQL4m0RejaIetFC1K/Bf/AFZe+klWSpaOOqQhKPwThKXwWa2SMJR+DjJQlLmbFihItlXmUlktlksfUWvqLe5Z3NhEWjFGzibNFkSyJs4YLI4LVgtWC1YKLBRFP51rwnvFo79/mufSy54Ln0lz6S6WC6XSVngrK97jTcqHHg4+xxnFCbJrUnGpGbt5oSnN1wNS2vMlCdr3mmtSmCWm3TeWvqLH1FjyWf2LO7NTTkpV5lX0sjpV3yJaKaFHUXOJZN9haKNnEsRZHBbHBasFqwOEX8C04L4JpWv7GguAp5JacZPf/t8ffL7Gl7f++Si8NlCvLwov1GvLhpkgqRS/3SPvmaft/XTu+C+fQRg3K6X+21XoL3TNL2L/AGepUqiqyXLJcslyyXRyXxyXxyXxNpE2iNoi9dy/sy/sX9mX/wBS99Je+kul0l0ukun0lZ4KzwfUwfUPqdj6nY+oceSk8ls+otl1Fj6iz+xZ3LPQj7pml7F/oNSqKrJcsl0cl8cl8cl8cm0ibSJtEbRdzadmX/1Zf/Vl76S99JdLpLpdJWfSVngrPBx9j6nY+oceSk8lJ9RbLqLZdRa+otfUyz+zLO7LO7LEbNGzibOJZEsjgsjgsjgtjgtWC2OCiKIoU/g489Q0vYv1VSpVFVkuWS5ZLo5L45L45L4l8TaI2iNoi/sX9mX9mXf1Ln0l76S6XSXS6Ss8HHg+ofU7H1Ox9TJx5KT6ikuopLqLX1Fj6izuyzuyxFiLIlkSyJZHBbHBbHBRYKIov46WtSVqQnXwlqxRtuzIyUv0d6L+xf2L+xf2L30lzwJustxCTtW4ul0lZYKzwVngrPBWZxnGcZxlJ5KTyUlkpLqLZZLXktfUWvJZ3LO5Z3ZZ3LEbNFiLEWRLIlkSyOC2OC1FqKIoin8TKVFUTqT1eK2PMrqojK7+D1nwr7+CX15C5sZp6KjvY6UNH5ef1S/eQ9i/jm6Lf43xrSvluX6fW9jIe1EdNKTfhy1t36B6sai1ExyS5sr4xk9pJPwbSW8jKpJ2psi7kn4Oca0qbWGSM6vl5NbfKC8NP8zUFW5+E9RRJTlP43EZR5L9VHlMh7V/CVQ9SK+RakWLV38t3nmqxZovgROTrahacSUWt8SMrl4fmPsbJHFB7+XotpLeJ1XhcrqeMlJ8mW6nUW6vURhT93k1vYQ9qNSc09yFtmaVKvPrvkaVLTWUVGvyaUU41YopDdOZtYZL/q1SPqHPUpL48Nd8BD2rwcdNyLYr48s/zoeGjvnN+CkmPTi3Vm41acOa/oK+FfQj7ZkPav4PWlSJDTXyyyK+BK/UeCipTxe1qfWWCurgXIfJmh7WaW+Un46e6c0T9rNH2eGr7Rehr8kRtpz8Ifmy8W0uZtIv5Kjml5Nb2M0vYvGHFqOXx+h/EfBpzgopVNpDJWMhRgj/ADVKo1Em7k95tJ9jUrLexTjRby+ORrTb5lP7sX/7M2iNoi/sydb4yUWKcvmJpXRrwlz6SSb/AGi2x9bAoTrVlZ4K6mD6h9Q+p2PqFNTJSeSk+opPqLZdRY+osfUWdyzuyxFiLF6C9syHtX8HqaamR0KOtTUlbE0Pb5JOS5IrrdJTVfNkVRD5M0fYzTlZWMjaQybWJpxdXJ/PhSem9yqja/1ZSU3v5ej+J+DTgkkyTojRdZN+FUOxlml2NnpZI7KJfHJtI5NpHJKUZIjdFbmbTUwO+XPkKSX7WX/1Ze+ll76S6XSXT6S6fSV1MI+phH1Ox9TsfUyik+opPqLZdRKMqbpFJ/FSOjl7zYwNjA2cTZxNnHBZHBZHBbHBqpWM00rEURRfw8fbMj7V/A1RVZJSojaxpzI0k6yZ+XKsd6FrQNtA21WbSJtIm0Xc2iwy/sxJxe6tCtf2FF/8Zv6C6fSXT6SuphH1MI+p2Pqdj6nYpPJSeS2fUWy6ix9TLP7M1dPh5kYbveWOT5mjBbzZxNnHBZHBZHBbHBasFFgoin6/W/LZp+yP8Fcsl0cl8S+JfEvibSIpK2QpqiNoi9F/Zl/Yv7F/9WXPpLn0l0ukul0lZ4KzwVng48HGcZxnGceSk8lJ5LZdRbLqLZdRa+os/sWdyzuzZ9zZo2cTZxLIlkcFkcGzh0lkcFqwWxwWrBQoU/TbKGClDR90/wCHlNrVo+Rqyu4Y8xKiS/grUWooi1FEURRC9kiK4UU/0Co3uNH9z/h3FPmhRiuS/il7JEPav9Am7Y1FNUufMtnqc9yFFJf6JVFVkuWS+OS+JfE2i9BeyRD2r/QVpxj/AAtUVWS5ZLo5L45L45NpHJtI5NpE2kTaLDNp2ZtP6svfSy99JfLpLpdJWfSVng+pg+p2PqH1MlNTqKT6i2fUWy6ix9RZ/Y2fdmz7s2aNmjZxNnEsjgsjgtjgtRRY9CPsmQ9q/wBJqiqyXRyXxyXxybSOTaxNpE2i7m07Mv8A6svfSy6fQXT6S7U6SuphH1Ox9TsfUyimp1FJ9RbLqLZdZY+pln9mbP8AszZrLNmjZxNnE2ccFkcFkcFscFscFFgovUlK1VFv/Vx9syHsX8TUqslyyXxyXxyXxybSOTaQybSGTaxNou5tFhm0/qzaf1ZfLoZfLoLp9JdPpK6mEfU7H1Ox9TKKanUU1Ootn1lsutlj6mWf2Zs+7Nmu5s4mzgbOGCyGC2OC2OCi9aU1H0pztp6bdN4mn6Gv7CD4BOq8No9rb+iqipVFUXLJcskWuMhJWreXxybSOTaRNpE2iNojaIvRtOzNp2Zf2Zf2L/6l76S99JdLpLp9JdPBdPBWeCupg4z6nY+p2Pqdj6mSk8lJ5LZ9RbPqLZdRZLqLH1MsfUyz+zNn3Zs1lmzRs0bOJs4mzjgsjgsjgtjgtWCiwURT+K/EckR5L0db2EfavSaqKCi93oavsZp+xeK/NkVX6DZo2cSxFkSyOCyJZHBGK4zTStLVgosFF/EVX8hrb3Belr+wjyXhcq0Km0jnzqSfInOn3HtErqkXVJ+XWdIEHK6nYi5S/cW6nwzThc3Viil+nj7pml7fFyS8YNtt/H6Gv6TXfI+CE5Sm8foZwq6p0F6FfSlOK+TaS527hOqqXOTpH/7LJdRF/DNksl0oypWpFy+US1Iouc9TcuRFP5fknKSlHw2uEOequaNF1ia3OCIzbm18eEq7ZDunJ9ikv/jNNNLf5Z7os0vYjT3zlJms+GmSO5JeSU1Ghrb5RRH81k6XJrn4aP7vuVRVFyyXRyXxyXxybSOTaRNojadmX/1Ln0lZ9Jx4PqHHn0F+ZI0+X/fDUrYyHHzNJ844JukSCpFfoZRT/ST36hLdFmiuGvjVCknyY5Jc2V8HJLmLUj6E5WxqLU4Ksrqy5bhcvK5ObpH/AOylk4jm60iiUtZEJVXme5M0oVdz8I1bcCycXwn1XhCUY/JVUqadHqNsujkc4/tVWaC3N+XWe+P3NSVaRTISUKkp3KnI0pxUaGo06NPkc9/I39TI0rV1ZGVsnVczadi/+rL30svl0l0+krPpHtGuRGOqhKa5UNlOtWympkpqZKT6i2XWT9/MjpV5s2MTYwNnE2UTZxNnHBs44LI4LY4LUUX6H/L/AMNP9338HyNDkzlrfcnvkok9T4XM+rHeRkpDaQvGMk/O5yupWhSXxKpOdtPBzbdIlupzuISuQ3RVLtR70RdfgnOm5cy2vOQ6R5TIuqr6DdC+OSL+pU1ZulKEZSpwovlH3InqfCODuzTjxVpQkqSbkadzbSdCUrYive+0sk6V9DX9hKDUYtfBCVyr5dV0gzSVIGs98R8LrFm0k8ELYr3G0hk2kMm0hk2ke5tOzHNtPgZp3RXsKz6Baepc/gt1upGz1H+42TybB/MjYdzYLJsu7FpLLNmss2cTZxNlEnoJ8txHShH4LY4LVg2ca1KIp4yipczZISp6uzV13i5caXpSkkRk38eGo6Sj6v8Al/4Q90/CXtZoPhNbc4s0lWsjTpWVeZWJHfOq5E9+pFCSRqy3xHNI0lzefPuYnbqUXI1PzIeGj8/fw0f3M1PdFeP+YenFmzivj0ZSjyY1pJGjalzJO7V7F8MmrNOiRpyiq1L9NG2iTnVo0pUruZqcXJMWsqb0baJtlhl/9WXvoZdLoLp9BXU6SurhGptKxJrVIac0vcWT6yyXWzZ/2Zsllj0YM2UMEtBPsR0or4LY4LVgosFEU/UqSdfCv6OPFOT9F7iPG7n/AM8dblH7+a5ZLlkuWS6OS6OS+OS+ORyW0TIzVzNpEc00aTtruJu5UoKVFSg0pftEv6Fz6CVZftLZ9yzd7RQp+0un0l0sFZ9JdPpKzwV1MDveDZTyR05RHpybTqU1Mlk8lsuojpyX7h6VecjZy6zZvqZPSfNPeXP5uON8qihqdRY+pln9mbPuzZ92bNZZs4mziTioz5bjZOW8WnGnIjpKLZRYNnFutCWjF9jYxEkhxT5rxcYvmjZwwKKXx+iTr6zf1V9vNrStiQdYr0NF8UvDT/Mn+i1JWxNJUj4XqtK+D1FUuVOZfKXtRWakk/DVfKAlTx1d8oLzWRLI4LIliwWotWC1Ekr4iS2j/jq0/VavsZo+z1lv135tffbETjFJV88tV76RNKtRu2LbNFcNcinFulfByS5s22/l5vrdhzlD3EZOXwT1Ld3yPvM0603lZTe7kJTXyS49RInKlEuYjUpuXyTb3RXyKKSLVLUp8Ienv9wtNJ18IcWpJ+SHFJy/+vLX0J+6H3P8n/PLOdrQ3REZXKv6ac7WvWlK2nhp73Jmrzj55So16jaXNinF8mVIzuJzpuXM+pHfUruqaupG3maclReMq2ugpyXM2i+N5LUt5m0nzt3Cdd5KSiX6nxEi6qptN9IqopT+Ymlv1JebXrdGhsla68zT1d1KVE6o0pOTl5NXdCRo7z8R7URUtTnuiUS1klg1JWxFHUrVxqWSbV3mnKn3JRbaXyIjGMpyqKMEasuB0I2qKJ6iS3GlSrbL1tGx6uEQtW98yXuqhSmK+Mm7TaPoZdLpKz6ROUJPdzK6nY48o49Td8ChJfJZLqLH1Gz7s2fc2cfQ1P2/c/yL7eXW5xJv6RpKkF+m1v2/fw1vYzS9i9Nkt0WaXsRq++Hn1v2+FSU0i7U6TaSXOIt/m1tOu8tjZVbmQrqPiJNRiRjq+4t1Je7kWqlDVhGNKL5J8MVTmQhaTStdTS9hqzu3I042xPfrfbw0ucirbcqVwU1Z89yJK3TdDS9iNSVF3IK3Up282pdXckN6stzoiDWm2iWtXdH/AOzRlFLmXwybSGTUcZcpElX5bIzSS4WScZc4sv8A6M+ptLrSd84+0WrJbmjayfJH1ex9TsU1Mls+osn1EtGVaqQtGn7t5s+7NhE2MB6MKH/4/wDYjoxQtJJlEUKedxT5myiPTrz9fU5H74+ScrSVzcaktyaNoluIyT5EppDepzIuqXn2iuaZeq0Jz+EVcf3EJXKpKdN3yUm/kjWm8r4J1Nb9v38Nb2inFRW8Uq+jKaT3mr+1E/Y/saPsRqb9SHn13xIUJS9zJxhFdyEHJVqW6vUbLLr6Gq+JJ8jSXE5fBr/t+4mqD1Ioq380NWnDQ1Wmk0zb/wBS673csG0gJRvrRm0/qyHDXhZKcqPgNG+m6IlqwftK62EW6r5tC0Zr94tFrfcWS2i3lkussfUzZ/2Zs+7NlE2cTZwwWQwWRwaKXF9y1YKL0LYv4KfxOr7R+6HkcUzV3OBqeyuWacaRPbqMXK75FBvfIqkV82pvdppKkpInH6u/5FCK+DciUFMd8PmqPg0aUG0vk098pP4NX3w8NWDXNkYRXmfJmnvVbifsZp6kVHey6+SwTa2kd5KUbXvNKUbeZdHaVqXxybSOTaRybSJtIm0XclVzraX6nQKL+Y1IzenuaL5dJtX0iep0ldTpK6nSV1MI+p2PqZRTU6x6V3ORs31M2S+WzYaeDZaeDZwwbOHSWxwUWCn6RuhJ0i2aC4fv/G3ovRei9F6L0XonKsS72l/Yv7F/9WPUndQ45NNo1FOSW4V6XIlCblWglqxPqiU8FZ4KzwVng4z6nY4xw1Lq1I6cl8ktOUubLNTrFpy6izU+JD05vnIUZdRsO5sFks/syWm3+4sfUx6dfksfUy19TLH1Ms/szZ92bPuzZo2Uk929C0cmyh0lkMFkcFkcFscFscFqwURTzuMXzNivhsjCMf4XVg5LccepSLX3OS/jaFChQp4z9rP2R8lF/wCE1XoS5M/xrzyn8IU/hr0LldT/AGaqLlkujkvjk2kcm0ibSJtEbTsy99LLpdJdPpKzwV1Ox9TsU1MlJ9RbPqLZdRY+pmz7s2a7mzibOPoPkf4/NqSoiMUvRm7dWL8GaanHc/8ATalVkujlF8cm0hk2kTaLubTsy/8Aqy99DLp9JWfSfU7H1Ox9TJTUyUn1FkuosfUzZ92bNGzibOJZHBZHBbHBRFEU/VL8ti5eSToibleKWpTeiErkN08NrETT5FUhTi/nw1+aIvcivhKSSJOdbkiE7kbS7dEd0KOonX+Rqi5ZL45RfDJtIZNrA2ke5tFhm0/qy99DLp9BdPpK6mEfU7H1OxTU6i2fUWy6yx9bLP7M2ayzZxNnDBs44LI4LY4KL+SXtkR5Ly6kXtUUNJ0rE1KWveOUrIrJGCSoe3UVPk92pQsjjw1qNoWlESoaT3yQ9+okP7nK9o0Y0jUkqxZo+39JVFUVWS5ZLo5L45RfDJtIZL45NpHJtIm0j3NosM2nZl/9WXvoZfLoLp9BWfSfUwj6vY+plFNTqLZ9ZY+tln92bNZZso9zZxNnDBZHBZHBasFP9Au7FzwXPBc8FzwXSwVlgrLAm+LcRcqcis8FZ4KzwVngpLCOMlpykLRY4SbRxjhNtOpKOoncLU1Cmq+xqRcaC2lOZSeRQnex6TbrU2L6h6bapUUZ9RSeTTjPf9ympkpPJSeSk8lJ9RbLqLZdRbLqLJdRY+osfUyz+zNn/Zmz7s2fdmzXc2aNnE2cSyOCyOCyOCyOCyOC1YLVgoin+wrnIh7fXp/vlSqz6K90iHL/AHKpci6OS+OTaRybSJtIm0WGbTsy99LL30l0+krPpK6mD6mEfU7H1ex9TJTUyWz6i2XUWPqZZ3Zs+7NmjZxNnH0V72Q5f69UuWS6OS+OS+OTaRNrE2iNp2Zf/Vl8ugun0ldTCPqdimpkpPqLZdZY+pmz7s2a7mzibOOCyOC2OCiwU/Sv0f3sh/pVUXRyXxybSHUbSGTaQNpHubT+rNp/Rl8uhl0+grqdJ9XsfUyimp1Fs+osfUzZ/wBmbNZZs4mziWRwWRwWxwUWCi/kv3kPn7/x9UVWS6OS+OS+OTaQybSGTawybWBtY9zaLubTszaf1Ze+hl0ugu1OgrqdKPq9j6mUU1Ootn1lkutlj62bP+zNmss2cTZxwbOGCyGCyOC2OCi/n7pYLpYKywVlgrIrPBWZxnFcRu3nGcZxnGcZx5OPJ9Q4zjOM+ofU7HGcZxn1OxxnGfUOPsfU7H1Ox9TsfU7H1D6h9TKPqZKamT6mSmpkpqdRSeSk+otn1Fs+stl1Fsuosl1lsutlj6mbP+zNmss2cTZRNnDBs44NnHBZHBZHBasFEUX+v/vRHm//AAiqLkXxybSJtcei/eiPuf8AuNSqLlkvjk2kMm0ibSJtF3Np/Vm0fSy+XSXz6S6fSV1MH1ex9TsfUKamS2fUWz6i2XUWf2Zs1k2cSyJZEtWDd6L9yF7n/rtS6OS+OS+GTaRNojadmbT+rL30svl0l0ukrPpKzwfU7H1OxTUyWz6ix9RZ3Zs13NnE2ccFkcFqwUWCiKfrnzQvc/8ATKoqsl0cl8cm0jk2kTaLDL/6sul0lZ9JXUwj6nYpqdRbLqLH1M2fdmzRs4lkcFqwUX8q+aF7vSr+hr+oqVRVZLlkvjkvhk2kMm0jk2kTaLubTsy/+rLn0Mun0F0+krPCPqdj6mUU1Ootn1lsussfUyzuzZo2cTZwwWRwWxwUWP5654LngueCssFZFZFZHEO7cb6nEcRxZOI4jiOI4zjOM4zjOM4zjKzKzKzK6mEVngrPBWZWeCsyuoVmV1Cup2K6nYrqdj6nY+p2PqZR9TJx5KT6ik+opPqLZdRbLqLX1MtfUy3+zLP7Ms/syz+zNn3Zs13NnE2cTZxNnHBZHBZHBasFFgov9cfNH7v/AASpVFyyXxybRG07F7wXSwcfov4P3f7jVFyyXxyXxybSJtEXruX9mX/1Ze+kul0lZ4KzPqdjjyUnktn1Fnc2fcsRZEtiWrBT1Wfu/wBcqXLJfHJtIm0WGX/1ZdLpLp9JWeCuphH1Ox9TsceSk+opPqLZdRbLqLX1Ms7ssNnEsjgsjgtjgtWCn8A/g/d/pdSqLlkvjk2kMm0ibRYZe+ll0ukrPpPqYR9TsUnktl1Fj6mWd2bNdzZxwWRwWrH8u+aP3fyNfCpVZLlkujkujk2kMm0jk2kTaRNou5tFhm07Mv8A6sufQy6fSV1MI+p2PqZRSfUWy6yx9TLP7M2fdmzXc2cSyOCyOC1YKfz1SqLkXFyLi4u7DbK7yrwVZV4OI4jiOI4jiKSKSKSyUlkpLJR5KSycWSjyUeTiOI4jiOI4jiOM4zjyceSkslJ5KS6ikslryWyyWy6i2XUWy6i19Ra8lr6mWvqZZ3ZZ3ZZ3LEWIsibOJZHBZHBZHBbHBbHBRFP9TqUKFCnlfNH7v/Aqoqsl6yXovRe8FZYOMpPJY8jgvRfMXu/2qpVFyyXLJdHJfHJfHJtIm0RtFhl/Zl/9WXvpLpdJdLBWeDjOMpPJSeS2XUWPqLO5YjZosiWoov0D5nz/AKzVF0cl8cm0jk2i7l/Zl76GXT6Supg+p2PqdimpkpPqLZdRa+plndmzRs4lkSyOCyOC1YLUURT+E+T5/wBLqi5ZL45NpHJtF3L/AOrLpdBXU6T6nYpqZRbPqLH1M2fdmzibOOCyOC1YKfzP7hc3/G18KlUVRVFyyXRyXxyXxyXxybSOS+OS+OTaRNpE2i7l6wy/+rL/AOrLpdJdPpKz6T6nY+plFs+otl1ss/szZ92bOJs44LI4LVgp/o1T5E95UuLkXIuRci4uLi4ueC54KvBVnEcRxnGcWTiOLJSWSkslJZLZZLXktlko8lryUeSkslJZKSyUeS15Le5Z3LO5Z3ZZ9yxFiLEWI2cTZo2cTZxwWRwWRwWRwWxwWrBasFFgoU/1Co5IvRd2KMoyhQtKFpaU3kUURQoURT/d6lSqLkXIvRei8vLpYOMpLJZ3LCxFq9L5I/7RUqi+OS+OTaRNoi/sXvpLpdJdPpKzwcZxlJ5LZ5LZZLXks7lncsWSxFiLEWotRaihT9F8kf8AWbkXLJfHJtIm0Xc2n9WXvpLp9JXUwfU7FJ9RbLqLH1M2fdmzRs4lkcFkcFFgov4Cvo5I/wCk3LJfHJtI5NpEvWGX/wBWXS6Ss+k+phH1OxTUyWz6iyXUWf2Zs1lmziWRwWRwUWP5Hd6ORfxNSpUqiqKouWS6OS5ZLlkujkujkvjkvjkvjk2kcm0jk2kTaRNosM2iwzaf1Ze+ll0ukrPpPqYR9TsUn1Fsuos/szZrubOJs44LVgov9Bfo5Fy9OpUqVRci5F6L0Xl5d2Luxc8FZYKywcWDjOM4zjKSKTyUlktl1Fr6ix9RZ3LO5YbNGzRs0bOJYiyOCyOCyJZHBZHBbHBYsFqwWrBRYKIovCn+pUKlSpUqVKlSomVZvN5vN5vKMoy0tLS1FqLUWooiiKFP96oUKFF5fgX/AIoz4F/4Zd6D5HwL/wAHqOVCWskP8QPXkPUln0H/AOCVKlxcNlST3Go9/pv/AHKpUqVKlSU6G2RtjbkdWo5F7L5CboVK+FfB+SXI1OfpyMf69Xy1K+FSpUqVKlSvkVfM95LTfwUYoNiVPC0t9ORqc/TZ8/6rUr4VRUqVLipqTaZpybX6JV9Cn6CXInz9Nnz/AKLXxqVHJG2ibeIp1Ly4uKsqOVC6UuQlTzV8dXmaPL+Fr5XyJc/J/8QALBAAAgEDAwMEAgMBAQEBAAAAAAERITFhEEFRIDBxQIGRoVDwYLHh8cFw0f/aAAgBAQABPyERGkdD0TGOiPRJax6Nekgj00EfjVex6PSokLRHUoK3x+Fjrj8bHfj1T6Fcxj6FQXVGi2Evi9dHeX8YaGjQsfTHYtP6f5/HVc0MZBA0+1a7dHro9BH8FfVHQGPSScdpBv8AgC/kj6VRdkWq9mj+eyjoSkaUQicllCH2rpt/8F2hrRGhsEuR9q7/APBi4NRpcgQFHaXT+8XTHrV25/iT1Y0WPGuRptjUpKrtXD+0X4Zfxx6WvGlrRxlhp2kqP7hW9FHYj0C/ib6GMY9PgkMpG0JAqkoiF2x/aK3/AMDZZ0JabCWEZQISXbH9orfil/GW9QgsxwnQbdFUNQWhZiYqQ90XIR5MxHnQhyQIckSHJDklckonJJAlEohySuSBEgQ5IckolECHOhKIEokbJRBbmYymTSzdXVZzMZzMZtPOZjKZNB9WEENajnSiQyQ4Z4shwzxPFnizxZ5DxZ4s8x5jzEuRLkS5EuRLkS5aDI9HPJFZslMghh1QwE8CeBOh4dIQI5kcyOZlMhkG3I35LddW40TYPiUxcOuSZE6CRW6NKBAgR2BnTnMpkMhkMhl0c+nm7dAFdl0s7M+ig9hOBJ8J4NPxniPAeHT7T2HsJwJwJxPBrWZd4Bn/APMRDghwR4ZHhkeGQ4ZDhkOGeLPIeQ8xLkS5EuRPkT5EuRPkS5GRrZmd6RRBJIISU8CeBPAngeHSUCBAgwcplMpmHyDbklyQpiGpqg0yU3IcEIjwYjEYiJiMRKUPkDCYzCLhMWli6qIhkj1gF4dWxmMxmMwmMxmHokhkieTTXGYzCYTEYBcBi0WEwmMxmEwmEwmIxGJGIxGAwEOCHBC4IXBC4IcEIhEIjohEEfkY6WLQPRsXDDlz2rwuxL1rWi6YI/i7LIxjscgyoWmOze6dfgo/jz0mMpYtCTklz+XFH8ZSsY3GoSMT24yXp16iP4vDFKEQg1XZK5JJRKJ0knS4M06E9ck9mYJ9NOkm2k9M9dNJJJJRJOiBKIEOSBDkyGYzGYzGQzGUzmQyGUymczmQzGbsVVUeGR4ZHg8WeDPFnizyHizyHkJciXInyMknyJ8uxvkkMBPAngTxPHoDQYXQMZUxhIgvpR5ZDkjyR5I8s8zzelE1TmXE/LSXfhJATPtCHfkJCXRp1KOgYXSgFHJGUwjCMIyojkjzRGJGJHNEckZUYXSNXk6k5JmGaNuRLkT5HkPIeY8xHljZSG9eRJOoim2zMzI9bxmMxmMxmMxmPRYTEYTEYjEYkYDAQ4MBgIcELghEIhEEIggggp0R6t9HO41RlWRiZ7V4imhZ8Q9B8CG4RW2lsIm7e64LRGgWrS4TnRRok57EDIns3ZiEp1tpKRCShFzK0Cev1f4No1Z0GhSORF2ywhkDIRmg5LNz71000T6L3jQR0I1G1x/YQwndkTAtLbrLRJywkq8lrx0/PhE6NciN8GxIu0daVeD+0qzUIIQp2FhT41+n+ZdO9D2y5lpKBohFbuD1E6+j6N0NUIqzmQVib6Jlgg8PSs26RutsNOg0AsePsFJD6PTI1eRNAacJjSdGWQuWt1/QLHkWhMGV+Sg1ILSrwj/wWZ9Ud2WjZUhuJT2v7B/WIgGmEESiNC7KdIk6G1bojYlvCG7hatV5EOLjRNa3JDz3CksSWjUrlkYRx0Op6KatVbkxWPAOw/3NWTcCPMLAtKCW9ApSauYg8u5WrsxXRbsQ7q8DUqslIsravHhKeoknrnolaSSiSSUSiSBAgSiHJDkgQIEOSHJAhyQ5JXJkI8mYzEeTMZjMR5MxkMhk0MhkHzGQzGczGYz9ATKAhpwLVoTQ3VLS2x4niTwJ4k8SeJPAkHgk1ucfYkJIhKEhTVTERBo3UcmaSr+0lv79G21DNOwLnCbjpeRWjUrp9HqbGHQS0/NG0yZ8yfMcr1SCQzzP0zGti3/RDbaIq3qSDRgTgkJ4nieKPaXlBS1qUcHtHmiiHMiguhqZ8yXM8xPmT5nnPMT5nnPMeQ8x5jzHmyPLIcsjyzIzIzydI7jMZjMenjMZjMZjMZjMZhMJjMBhMJhMJj0WAxGIxmAwGIxGIwGAhwQIECEQuCHAqRd86HSVHPVHT/abO+j0MAaoJQupbu9n3FF+S7DRqGecqu7LO1j88+qwSPKXjY+KpJRfpjogQC/+CjEjzl5G4oyF2xpPftfdL7H/AMDejFqEljElJEJ07jT9ax6FfmKdydJJJJJJJJJJJRKJQ0IcmQyDJ00Y7siJDDZK2WvKJmEuRLkS5EuR5iRaOxVeHc8x5jzHgzwZHhnizzHiyPDPFkeGR4ZDhkeGQ4ZDJDhkeGR4Z4MhwzxZDJHhkOGR4Z4M8WeLHgyHDPFkeGQ4ZDhkOGQ4ZDhkOGeLPMeQ8h5jyHkPIeQ8GeLPFnmPFnmJ8zJM/ppTkpKSngJ4HiieCPBHsPae09h7T2kc0RzRlRhGF3QDbe/fVBMMiV3f/tNs5OTrDk6DJPKS5E+RLmeY8x5iPIjyyPLI8s83TD49DCYCLwCd0NnZUPKqENK0XYQL3kR0QR0Romhs+zGjG/lkLKcGyKaRpHoY0p1x+FuCIJq4TTX4N6oYu5GV40TLPtXQvcqcjt0JlSbu+ldc5KRYXRmLoXpLyn5HNJz1T6BdNuK2jvcyokxarcw9m11+GsL0Z20TrssuMsSPB0MlOWWpDGF8jb4GlSFTDahsTRZ8rWRorsas1pcGNIWr6vQ6HYGMTuuyock608Ni1T6pgzITLgE56KToiwWrSXDolI6Xuq0GpUaSmUvkpy++jtj4FSab1WOLKqRjugXWS0hu80JMQ5t8a0vW/wCFYhShtKyGpqKiGxk07N3wfaxIS6GSq5jchB/I6rrNBMpQFFoQgmpP+kSrjXtG+zkm1s2IlViVhOskzFA4wqFBdZbi0SU0PVyapLCCkGhoJuGMc6jRnOoJWIMvJjE1sxKdUIFRsqZynYWmdkXVGBBEtZuNKXgTIQqW5d9I6tsG4kqyx4qizAgqqWQo0bS0SuXDsx34H0LZbLMxdDaVx6S+I1b7kFkNKwQUO2bpzEhNRKL+3rqzdBzq+wiRLjV5cBejfomJ8BpuxGiHGicKE8TxJ6IAYNahPSzb3ME8iOBZmGQN4bMCTtxwS9hNuoKsqBVpuIoTwSZk2K18lCdvGjtwriDY2EBNu9a/tCH8CfuZxJxuGxE1QkWkqkLCaWKsQ1N7mcbJkIZC+ASXJWJJUQouyKGcbgJDsjrBW9cg6ufYZ0RUZjIZUZDMbhU3yfBKHoNJUDRsMYQk0SEZriQcgiLa7ZxYkKMRRtacGczmUnkjR+iQ/cB1Vpop2YPorZb6c4CVUUQ1yai4shgZFyFzpPMeYqcURiZHhkrJIo3DgcoUoxXC43YyUjkuRLmS5mSZJmmSZJlmaZ5kmX1/tASEhOkPE8Vp9p7SMSOaI5ojkukARmYn0JcEt7kOJiw9BdbB2PQwRpBCIWlCHBiMBDgwGJGEYBjMBjGMPjmGYxs2GOYhiaLBNtgSYGEYRhGENBCJNmnS9pRsKxWMYhikKiyFxBcSMBgRiRDhEOCHA23SEuyGBGJGAQtI6EnGtIPsui0Uwgk7i0dDRqqI9RHeYs+Eq2GmwalgsBKdJ67fLpE9+eqfwcEkpSui534JF4xHoJRREVjRQksbu6msJ4U/HvX6IilqRtIlmimNV6yKdJJJJJJJ1kkn1dWYejaTujDF6KPwf0RasbQOeSYRPaYrvWp0kkkkknWSSdJ9FP8ACWXfBXDVLqsdpXEC5TOZzOZzOZzMXxuSgZzOZzKZzIZDOZTKZDIZDIZDIZDMZjMZtLIQ5IckOSPJEgQIECHJDkhyQI8keSHJHkjyR5I8keTIQ5MxkMhmMxkMxmMxmMxmI8mZGZGbTZUZDCMqMpjGUxDC02cxDGMTom2UymcymczmUymUymXoVymcz9cqGf0sMCARABQIkTyEeCPB4s8x5hvyNkdhHbU1EuoG2PYae0mEYEYRhabEYxgREo3La2MIjijAjAhcCMRhGEYGuWEwrRY2s2LomGEwmAwC4jCYTDruAwGAxGIwGEw6DAYDBoMZg1AwGLSYjB0ADC0GEYBgGMYBgGEYBjGMYxjGMYxjGMYxjGAYERwRHAhcELghcELghcELghcELBC4IXBBGCNEQuCERpC6I0jSCCFwQihCIRBBCI0haUI6Y6Xp9Yub0NyYsLk7P3z6+lYBCoSQmxDkyhqUQhqxMnsrWWKSknoSoelw+hkJCkp2lLiduXsEy6M1dMm5C1oSSSTo2JGT1yPbJk96fVwfIXbY0PwMpUJTyUC7w+EU5VHwSYI7K/pawt5Yvw+iKlDJnZn1eGQDB7QKOPp969ERwf2G1XE5S7DwYDojXJ487LUplgJUlSajSp0WDWdE1EKpSvIoyRcH0rLLA9HwYuidJJLfkb4iSSdSSdJ6JJ0cNECSdH0dE9IaTopgiH1YQ5cbaVo1N9iXdtkTwJV1GhIFZBNt2XCQzYWl6PqCZ3yTKaIlMq4hJY4KRh2FrAS76SQJGxy2HYsXJR4OhkksaKJfTRySRKVmXfAlWy3IbKaJPWRCqNOLPo8jS5YbfbAuZ7MtgpJYpqp+Rpr1zZVxZSZWSHoU4bEwglUUcinV4GFIFb4EqGyZKsJjCJEUFWia6sZvojSNVd6AjVtkVUjJxuKSkc5QJuINExdbWUpj6SGm0DlVy3JuOBnzBCUeSgtS3yYjSE4GsVEziFKq5k0FiSEl0x7BbnEGQGdN0LENl+4YKSV2NN6Gv2zGiDZJiTsNmhCTsvr9DvuA1PmiKuyZGoEJwIuRTZlCS1SUFfKCA5XISTLdbGxQiV7VuKwtEvC12DJuwI612ymS4KxAl3EXeQ5t2g6V7iVlY/8AxglVeNXvTGkJbEzrhky9jbEwEQ6jLYGxEwkyJXRVxTFRv3SpZIw8DL1uRMfAX4+hmsD3ixFJFcISTsVQUEh7cTKuCPYOxN5QWhrMq7GzQUHaaCd5uiiHIdSku/jQ6OVmiVTFf4Fpti3okaetXKVdoBgTexsJybqKUlEonSUUJnQigmpJAyEeTMZBuVxFXuRCrm2VBMuoRmEqlGLZu7GpthBN2zIZDIZDIZTIZDIZDMQGTI3GW1cMolArvBOgp4klOkpCSayqWFr8kUJaSMnbV2nkUqxAqqDTdG9MKTMI2eKFSasTGApJXUjf+ERUSBNzEypqjbmLkk+Z5xR3RqVvwJIiRsI8ociYohK5EkeDqQ4ZbScldKERSRf+CFtglclHcn054sRFLY7V5dy/3sKrBpUuSuQabjFfCwkWZDAxoFZmlCekx7FmmuZHuYTIIVB1rlyPMZ0wQqlbgh/gfoWiaNQSt3z00E7VE4Zbp3NiiKGrGwlGZTQUXlqtEzjMGcW4xgRZAsqqTZe4LghpNUEtzB7jnlrPkTJ2/JEIiAxoRwZA3sVxDFP1LrSA2k5MNuQ33SBEyPIjyIcsjKpjL2uB1WRc3YlbGEwdECwmELh6pY9E2aAwbmmwGMYhjGAxjC6MszjSCRuSs4HyqcDs7fB9/SOxVmHoo6oTMcSKyWiRBCexDgjSgkTQxCOuOiOxH8FYpM2KQYKEJCauQux/4Lm6Va6huLkTovVtFd91XI+slPrnvM2idEyjbpbA5GlJ+nmvYZ9IYNNdioNFRK9lXdQbnAqMzx35JJJ7O/w0SLAu3Q/fpST3p6Ezg2U9EU7dLJKTasgvRJimF0uzGOW/W3MkS1wTBx0pIPPj9ez6ZubLiXJU5fYnqJbXUUR7xUqdhqSSyE9mri2WxtSqCu7i6l3G45aUjSjH3auxpTWKQ0JkZcOjRICZZ6V1ssOkORJ8Y89WmYJQ1YdKuRWJXJ5iNOtVKuNBNEqUTBiq5SEYpkxdmcMZc65DklZlbuIwo8CnfVq9tiZAvfRonZjc02ulqVDJuxwx9+C2qBCSmQE7l/FrelKioE9Dc3IrNNQJZNhkw7CI7BikINsrW457KK+Lbihajzn61jGg2JSTPgPCQJJJRJKJRKJRKPpjVeRJK5JFx4Q8whPwMBSeYNImk1GZaeGKYRk0nokNDEO8N3LgotoobOOrhCoSRYOwiVauJSfmHGCGSTS45kG4Vs0TfwJ0ZkRHWiVC4fVCiLZw0Tr83Y9rXgqU8h0U5Mmlwxp2MjiNOhKahJbvgQd4g03LedJ7HgobVKeCr2bFCb2RQ1Wxc721oNVilt9AyaJRK5JXImtKqMhJGxVCHqbp0GNlBBaCZU12G46lBKlI2BUlUxvBuXGiLrcr5JMhmMw+RMGhGqje0srxPIqYdhKarcRVGVAVHMEjVJmZXR6pKeA8UewjAjAjAjmj2EYkckRzRGBGBGBGB7D2kc0ZUZVrJhEc0NckPwLgqCYhp4hIVQzMjyzIzMzIyPLI8shyENMugm67kQjyIch4dXJWWHsW3m9CPDYUMSxEJbghuPKeQ8pPmZhIEOKAnUJi3BDZdyHePjL0sRBt4KwEnuF0tFzhi1yJ0CIJKhWm5FyCZT5kwmWYNJb0K1IZySaagsd1i3iODiJLTOSBarViN0iZeBXcH7mR/wBCP+h/2DJ8jN8iH+hD/QuxhWUiurEEpuQ24piqjSZH8nl+TzfJJz8iyl0wxP5MWijbJvpIJBLYS5ZsbUPIco8n/wCYEraTFHrRcwxL2kLhEOCFwQhpCRIS1hcwRGrNwr99dUdljF+AlNDRaLsvTWvwLKklRfh3IhVcxVVHi786nxkhuS2SS8EKXd2bn1uQl+NaI07ElLKfYWpNvzv1hUyOHQZXS27DLjIvxf8AwdiT4Co1o4Vew2fYZ9P+SSSiBDkyGYzGQzIyGUwDIjIZTIZDIZDKZzIZdNnMuoQ0PJ0qOU5Y7XlGhGRQ8GeQ8hPkT5k+RLmNovGwxuOVaS5nlPIeQ8h5DyHkPMQ5HkIcM8GQ5EeR5DyHmI8MjyPIeY8x5CXPQeXRS1tplIpdAkpFPotlIpFIJdkiIqMrsoyRckyTLM8yzJMkyDIMkyfk/ez9jMH5J/2HjqryHmI5iNImH8H/ABjD+DA+DA+D9yP3I/ctZsoyifInqZQCH+hkfyZ38nm+TAYTAYNBjGEYxhGEYRjaLCMIwtFhGFpMRiRgRDhEOCERpTSNIQ0uBpwPiCVw6E5qS57F8aH8ljx2I64/Az+SxvwzF+hIYT57DV+D/wBlj8K1NvfoszpufsRPSIXeXVOmPLcDZlyWLvNpbic67xXjWeudZuTCZczgI1JeCZCTmHCGZUz6q5BN29bKcqHjRHd6Lq+of2C9UuEjVBQvaUxnycBYr76tV2SuejxuiHRFS6K+0UpaTrTK0cr/ACM61X0T6RaFi7aMQ0iMgnKTFjkbe3BaWja5GBKtUwy2MSQg0EToaUnpZ1JaMpFqIVOwnaf1CGUKaIruI3xuy49SkaOETa4l4XXLqlCilupVUWCVRZfY+gfZXqWQzVnRkQ2oKI2VRISXHRYhm+R/+01lGubD8UPCdHOrQ7Al3L7TuBdihItAWkqEzwZIyrGrQcFuo067jRJZJivp0P5KotEqMSsmk16yCZZRl5S2PLcaXJmP4CcBWJJd0iRXX4KhpKxblSTcQPW36iApiTHlVEGpoeCHY76GNn3BTIzJfY+uO3lC9DPYdLdrmbDU7gYV40iZ2cUjCUyOVhxy86LRTjcVMVFZ6/WPq9idFKqw1Y53FGE+tLWPKcj6F1VDoSoYmSSiBDkzIxDCMYwhxqAkh/8AgKgagV4JeTkZ+4k7DAJTOwxzHHeIx8KFE6CWHZ6b94P1jR8wiFfQmEJwsIYy2OXpkxQNOgpmDKMzubZkkkuSkMAngjwR7D2Hs0EckZSZWrxUSTRsi01uIU3ZOr744+McISE+RAZSQWKPae0jEjmiOaMiFmlo3JYMAwDE02CYvcv999teOY5g6/45gmAQBCbl1IxCbf4CTuvg/Uj9yP3LXL9SP1rR/rWoP60MP9AuL+pmmeZ/S1UUuiIiaq11E4SGXQm39rP2s/cz/oGb5Hn+TE/kx6745hmGYpjmKYpimMYRjGIYhgGBEOBEmcKwisbCE0oUlwQuCPwW7FGKwyasTLwEEKy6GMrWBKixMiy+znbyX4KPSxJKtAlNyL8BsKsOmzRDD+FhE6J6X0A2ROezGv6dxfi4aiyw/wDiCBj0SMfZujv/AAA/4QxlkxoKSoR+PXPqUP8AAT2pJ65J1kgQ5I8mYzGUzmcz6bOPnMplMxlMo+Qa8igYkG1pKJJ0kkafcMUkkolEolEolEogQ5IECUQIECHJDkhyQJXJDkgQ5IcmQhyZCHJDkhyQ5I8mZGYzIwDCMYxDEMQwDEMAxDAMYwTEMDoSGQyGQ8nweT4PP8Dy/Apd/gw/A/4BH/E/cj96P2Il/iT6AG7NM0/Wz9rP2Mxvkwvkn/UT/uJJ4CeGoPIeQj/MYPwYnwfqR+5H7lockzTPM8yNSiQS6QBCBRKARCIZGeQ8p5ekEmEYxhGMYhjGIYkYDEjGHxBgfEQPzoemYZpLkeU8h5NMm6GkMqkORH/QzMzMzMzMzM8h5jOzynnPOeY82n59afFp4jEYzEYTEYTCY9Nj6ZtsAxDAMQxTEMUwjGMYxDAjEMCMCMCI4ELghELrXp68r7EFLwMkTW/ofIRolBbPtSc2KVSRpSfQ2iQD57j0TRGPuAvgmmp0aXdepbKE7p9MnJifcdJe8joi3Ix89pp2DJ27DQzK1pOjTlV7SSgtHgefQqQ/laJV+yTDSdVolkPp9FLyKU7j0WnQfcYzaXBL4EVq5Ewy+9sa7W2w96ZJ0qGY6UleQkKwRWm2247THNzRiqM+15GiHmTJTlt2WgCSymBq+4VRSQmbMUwYXsno2kpYmQr5E9UTOxYWMobN2l8IpDZMnwpCNC1lPXqTNk5NVDJqehJs9J0jpVEmXDHleOktTzE0rXImVKGO8sXRFX2mLOjfcA6UnAme5spRk+QNyNF2KvkmbGQVduOiarkmQwHYJf8AXYqESSJbHpGXDtLcTymKA/I8sMJGwJPtHLkfsjMCqK02JxWcDFrKu47LZQhN6Ypr8E1pwY3BVv7iaqb6rTyvUQhVyiKhXQk2lBHDag1VShM7T48nugOlFXgjDVQ1Z9NaJU6ffTELiFp8OozdQ4lqIvCbi0yrrSU0rbAmQmnw+t3RKMQmdrNktHyKsMclDfJCJp9glC1aQvJLG2ZyipPIbSoVoEVvq6JtqXBAjkAxGnxsnmeOBlkbijV2ZOGCIomTcPBdrodriaPEh4LI8pjRaIt8LSKQKX7gpCqJSiRMXZYs+EUSBrsXdbQTwFTySqXE3u6g+oCZJ7EHiiROJAnaZcCJNd8CCF2ARWMV5HIXOgpKuxv9cdTDPYJOKrBCKESTbYSRwJ7W3QQJ0U7KQbsGzA1OXEjig5gMmk0JTIteAWN8MalswrQjS1pSfSqWwsewlA3gERwPw3UcZaMCmEgdwLo+WKd9Jm6uKDrt1CxNl6KSXKSobychirVoLwshG4QmfFhDF0I8iFQ3qIgCVIe9BdEijHqLatrXGT42UR7iBeq7Em3J3JUGbSI2EYQzYwhU4JsEWSGcEkO0bCgGlwsL5F0IlQQ5qwOnTaaaj5jzkqlJSKxaQ0rQy3zckE0ZZKJMWcSZWtL3cIcQQ3BKaEfoYmIRMjAjmjAMIwiOS0vFDfEQh0wMmlWQ3hjaBmMhDkjyZjEMg1eXSYwlBPcVUqxBtu7GVB7iuAYgjClbE09NBEF1ZFLRSzA1gyGTWRarUbDYNcQ1YVNCZiCRaU3EVC20FG2ZnMSBSAhJMeBRaLhoqnNeAsXwS1/aQjJtqmPAhJJQIi0acNeEyCFY2ZDSvwTJKu5y4uSZfzp5C5TMz+uLtRkge75ML5ElxUNgtoe5Lue5b+iqWYVlEjmE+2uux5mMGXcUunyYZQU1AoY17CtWcsZVRJf1HOfcJewQcmkatpt5RIGOlr1I/wChm+R5fk8/yeb5MQku78CDDDpq0xpscwzEMQwzGMAXCMQq2mIwIhwQuCFwQR0wQlpHZjRkQSSVF2rD3iSs3YLVpYjEYuiQUohGnom+6GBoG+4wDEMQxDGMIwDGjGMSMBgMCMCIcGAhwQuCFwQuCEQiEVNLMq8RBHcWoaX46EENSJEqIjt2B+rTG4fbj7U9523Lrl0SEXOCZ0Qksma9xk1c6JJd2P7tMu/BtpPuqc25BybEwSuu3Ubh2AJ1pY1F7LSRd57eOole5Qklk+j9ykXaTr7ypMKRqu11KnxBUDHqU6f3H1Cew+hXKK4xQi3Psf3d6TrLnL6ShjKt047lKua9hrS3MdKFwtKfAMm29xdck6TpI7HvYuluPNHgB/g7JizpS4MLjkZJKFcsJpbThzdiE7zY2F1HFQ96Sa86rRamhGuJXxEKmYQLiW2RjiBJaw7CJyxKTOeEhnVpD62MIiGbC1vtjw+d0M+qi0WWUJoT3FXYnI9OKclAhRZCXtMYlQKpEh9j+7piZmoKilHJOjRbk6NiZi7HgymJLWKK0YlqUE0kpjaV3pRomt1TSdh20gUVsoU3U20dw4EjVGUPnsKhWU3GuJLSI3sENVhy5LkP+INKWjBw34F0rc1hPMuTWZJXVDaSlkULiBtrMncbhN8EaKJshLsVGVTZqGLoWr42CaaFnwCdKsVI9bLnztZBV3I0pdVD3EqhQeEnIcwwBNolOy0WYmwlb0BKqW/YQmqriSVl0qRlEqwTA8CpKGqTb7wok+mkRK4o0XwIZRFkJI5yFVWdhZ8YrpFrwTmC1UuxBA6yyIvCEKgoTAMw2On4yUQIcmQzEeSHJkGnJDkhyNCszlQZNlHBcPsP7j6fQvzQXFoEqDsyI3HBV5Fd1sx0au0CE/IagwHjAMuA+oUuwNm2myJpnOwbOD3SuJuxTgd5EVGWXwIdKRcTSnlcVbj3MgkgqffZDN9w2QmlvXQ0/BouuabK7HoPj2bk5tmKLRNE9aSVkpZMCoTMkWL4ErcUEu4Y8sB6IbyWULdWIWbq5JKJXIwQ1IqRfEjJxb2FKzu2IU07CCVcN1BNNEnC3k16YMioMxTEnkbWQuBE+7+BVo/YEtmnA2gVmY9GyTJMnTLAWIcdtobCWqTUsGBqkmQxFNyYRDRTwRFmHG49xb4SUaMqMAwdT25NMNWBMSKaLlGaZo2l1VITqkT0NhKpU80cHOEAl6WIxdEgxaDGYzEPiIscsBxp0EBmMxmMwuJcjkeFo+Q8ophM9CpdyHaWed0TjcGKTpZDMknVOkUac4DydkpyManMN0oECPYgR1WhRUR3KAeBasTRE0ARFOmyiSFQhpToKO0UlTtC6DiEpayySahPETx0EBHMRzEEwhwZwsTQ5l8EU7R4G1GBqV+Jbon71pc0zzPM/Qmiab3JPcI5btZD9AF2uOShkuUcSDfbGZ/kLL8nmMZjGjJW26GiZluYlrQFojVDl0ItphC4hgGBEOCFwQiNII64/IJ8GLq5IxjCjCMYxGIxIVANLAhcECCCO9nGoAYgbMkxYjWBJRJYlI7TRZFHdggcQ2fcj8UvWqrdhqLoN0o7K2dg0T02EGII6r0s+iXux9LsXOZXaiGlH0RE6J/wxluHcdt1fZi7HC7NbiNIm507IeghVtxPtNmSiwJ9LNlv2bRXa7NI56UJ2D+5lIvBBJIkkkePOhfwtlfjE7KCG673FBsS0Ow4GplBMsvfS/QBao5SDhVFUsJSWzZMnXIGk9hdAImSgY1DLi0kS0yn2GpSL5JbtvcSNxLVAnWY9G4NEzWRugPuGy0lhiSbHZC242ejJRBDiq3AgxV8FUaDkMt2PhMhLkqjpEyKvBOtx+CnokklErkgSuTIjMjMYRhGIYGoGQyGTV8DIcM8moUizDIMwzjKMgyzKMozDKHyBxqhstqon2vLRE9P3B/jXRZihpELEV1CQKEsiI8tUpHl9EoW7PaVWNKXgI3sNgtKoVDbm517WxSSIzN0Mc6zolckCBKHimAcM/8AuF5pkZbwyIbIRw5lQ2pqG6yUIwhP2Caiki4AhOLXFoA3OAliKimcqFLOiCixQUhThaJ5GpkZAspLSjMM4yOkZnAJ4CeAnjqryEckRwEcJ+1dGgyjIMwloLz6gQDN8hczPMPOec8+niMBg6BNhGEYRhRiRDghwQuCEQU0Wsd1jJORVjjltt6Dy6KRZBkGdoxyR0IFzy6/IiaIOqYSLgj2mSeIRW3CtxJG2kqe3WoBHwRXUCRBQQxqJYTf8Cs1CyLf1wZJnGcQKsLecilyka2tRo0QzM855TyjimGTpqqYiKNOBrRAQOp6JkSbKYwzwEtmzBMQxjEMIwDGEuUGJFWYEBo9jGEiVFH8MYyKcblxqRHR9Zn9HvtJ3XQuDsbi2k0L7n+W2LAJC7H02fc7y7rSaqKvrY5s6V3Eq/lZ6MtcMbv2H+MGT/IGJRlFe7sbf4k6SdJIckOSHJmRiGEYRhGN0xCZjNpeY855zz/BiZi0RHUCloRmGcZXQN8EwCeI8dVRzEc0QSOIwDBMHsW3JNkYzNzKGuzfY26OXZntyPVkkolGQhyZjIjCMYxDEMDo22YyGY8h5TAzEyIebXKfIzTOMzqClOETxE8UeKPae0jmiOAw+g7ZhlGYZhLmeXRQDIzyHn0cRh6AJiGAYRhGMYEYCHBDghfh2Mgo0jS6ozDKM7VD9rMMoN0DSoXJ4Dx1RHIRwEcRhmH8dMkWQZ5naBLWW8xHQDM/k855zyaeLpmExDAMAwjGMYwGAhcFOChTRfm0XP8ABJM+Bd0LpLvxU+hduEU6zDpLS4i6PRtchIrJ0TyxbXyJOm76dJ6eE93P8QhJisRo9yRolLHt/cydY9WueGif4kVJJOs9NCbjQbsSb7oKWiYKa4vRVZmJAiYbxo9rCRrIBoasF3mxmCEkJRsKhUZxjrdGkUqPV58knstWvaNAWsrRZ0WFLbttilPVFZ12KTaUs2CgxbwQvWfomINFuRaL8LU6C5cvEE2vXkeJpnzqyThjYyCZPx6o4QSUJCYRdQkpOBLWFYMafabS0nVlSNBIcMM3fSt7CaSCCcJ0VQEVubbORkZBlUtYI7LycCknQ7mQl01WQb9GTyXdGSp0nyereTBFaPgRY2n0CijWRMCKi8a6MTlU0lD1n1SidJJRKJXJAlckOTMjMjCH6m4d7fiCk2BrceSkti/86yDghuFVwSqiNbtU7G+/cWZz2QxBcEKYQIRJbdpXBRooyC0jeFKK9hvGkJqqMIVWVxaNO5aRQYbdgtiDIYhjGEY2uGTQZBq3HxTKJQElkMr4FLdiPLQMjVhMpA53cg5oI8jKlNoHKrUULItDhjkmoiqhQOWhoUxES7iFtQWEa4HYohBCTqv4GcZxmE+R5dNEo/6GT5GRnn+TyGBmIxGDoUjBGeA0Ir86SSLSdNmgkL0MkkkoyEOTMZkYRhGMYgnKogS61XvwNXlXuM7BKOY/SNLyGJkeGR56aegGYZnSFDPETwHtPaRiVyUnpUjgxWScel8zNJ8iXM8xHkR5ZHlmRnnPPpYukATCMIxIxIwEOCEQIIXZSkNMeHAvwzGIeYZXQNP2MwTCG4aKYKkEr6XmjAI4DD6fEsozTL0CQTLzkNIMjMrPLrGMxdMA2IMJYVkphGIYDAQuCFwQiPRrPhK/ww/2vwsvoYxqUb9h/mxjaSkrpR6nXderuUC3xVrDkp3dX+IZI+F2HZ+bMyUC7qZELj8MihB3KVe3Pr0jn2D+n82jhqpDH4EvRySTpJJKJRJKIEOTIZjMjGMqMIxjGMAyGYymQzHkPKYmNeQ6nJ27H02fd9PP4CdJ1nSdJJRJAhyZkYmkwjCMbSZjIZ9d85gZHkeY8pkmb08D4JgGATwR7SdK80eIjgMPqPQGUZGgT5nlIFAIcjMzMzynn0cRiMRi6ABiGMYRgGIxDANLghcFOBpEIZO6nv2H9bPsLonSdJ1nWdZJJJRAhyZDAMxnMYxjA6Jpm0fKeUwMhwyAPOTKXMzDO0C0VxTCMInij2nmiOIjgI1ncoySfMnzPIQ5EOWeTXcJgMOsWEwGAwEcCFwQuCF6CyPvQokQjbshA9KP2VoexXJp0Mkfv6ZkccwieIbYScGLJEc0RxGHp/2LVLMM4zCfMlrLQCPLMzPMefQwGIxagY9FhGAxmAjgiOBCI0oQQR3ZXShRPoG8dsaMrrhDd3ZZI22YOOUa7Dkdm9Nygme3vqEnxDEze7F6SrGFUu8ljofaif0Oj7qMiL0t8G+ESBCE9U1Semh3DJVgc6dSeiezNnR2ZavHZeQVYkko0QjbFrK6rz02gRI7S4Nki6HKXwJCsCedGiuxocRJoW7pZKpC3Y0WCrexc0nM8sY5lVDxQbfA6FstK8N0hLcm5RJPoZW+yf6esg8FHM02N8PWxrrW730A1KgQiSHi2fenqujJJSLLREe3pq9w9olTkWoc9DJE+q9BlmwqEGxuCdKbd4KSR0pVwQrhqaPcaJDLF4E8AVhlMYqWAUx5TGcXYiPvE5LZIZR3Ey0TArwKoUPqbM6wNNXB7kHi998G5UaFvNh0b/YuexRXDmVJp0sZ2VewibXEeDQNX/CLeN+aJtBwSelVq0lQSkmS1pdD7X+stUBXSg6XgHo0hqlbKa6Q9uNJJJ69pBIEtC4fGklI5JENWJ9QktokQkrpbSQ2yaOYrqW00XQVo0nNa7LZPAmruyGQnAzeClQshm2vg3eNGG1Jka3Lp0M2WR0OsQLs9G9E2SGaqCHsClUFsVRsP1E5P2FwFuWCjxDVaORDcW5BBuRjuZU4o36Yo5CkPBP3CVI3sX3zIrQkz4Y7l7aYncYUU2IagZB5FnmD4DCeMLmqlyCO6Y8swTpQlE8rsXlkVwcihWq4pCi6Y0cpCKiEcjgVsocvWDMZjMQjulR5FlO4ttojQksxCDNMfBeRXlD2GpNQaIlNwIc9DNFyR6qHg7D7B9BaOzGOryIM2wbzEI1KlSEcuNcTmrORMG7zUgdOBiW7kiYlTOAz6hNi6lJlk++yckRJixbq+RVUtshqBRnauNmjOEONVK1FW4iTpJUUVcbhEkkulmmgXgIElyLctAzKBx64tkK8xU/u0SlYmr32LBwPoDNNXAjV09hWHASkJJUE0YsLuIsk0LrLsqpLFpe4pgLQbtoMhkE1JYvGNW5trSVhCRNORKErC3giExShVYSUqEJVjZHFprgkDakaoUFKmKEu6hIUJonYaqOcBLE0kPAQSRWnFLjSOAjBssGcJDlNIy1ttO4kSiQ1IbGQZmZ2eXTwlVONdIfaGJYwTDMAi2aLEjEQ4IcEOCEQ5ozwklZEELpjofZ+zqzS8EOQalMjW0hfGqh6dKWxZgkeIVe4i3BYcCunUxQSSiHJkMyJEFG0fauGEQuUjXZcAE4roQ0DW5BuSxCbJehGoW0wyTMGZqTERPghtAkhxoLXaona4jmiaEFU6IGOF9uiKWLZIbDYirwJNWKwxWQ2xFWSNibCyBR2JjIQaoxNIkONNjMBDgvodTBCI0SSshpNFqDbdBI9QS5hOUn6O69Ltha7LRGlwSeAniieK0vaJXRcSSqkRxjUneJkmuTNPHY5c0cChxGUUKJiCcMPnOhk+RC5Ykktnk0cRi00+wxSGBcYqTCTEMRgMGiCASLLWNI7lBOn16lMUifPYZcknBJkxamvTSLhFZivdn1u55jrehwuJj3OiE16giuBF4SLw6NDSmv4iLDUJqs6x0J83ZT3UambcaQ8SH7uld6ylcSOz0gTp9YjLz3X9Vq2lfRhDdRDLdTtlRaVu7ImtlDW3TepbSlsOOFS0iV6ViDsZJyK1FsLvR2oLbdB4rC7EoUDpJuBGqdkbJJT28dUEZLie40UJvakXRG4hJtuBXUd9I6YI7djk9qShdPOIfIFLLsRNy4FZ2fTIKcXdJZDANxxotyDFV2ICLuwhqa2GMXawmf4RFkrBIStxTLe6kO10uVxMF7mQ6qEbu7EO2qqOl70QiUKwyt5PJV38i9yHTfbXglOD0TI4LXdYgtso2oqtz0yFcosTwNB8CGjNqUy2JsFPjMgyUFM+CptPAdITft5+Oxf1jfBdC1rxoeTjsBSXCUKdU9RnEPrVyaInDIuHBlGb4kXVavnRKQue3OGV7CHyNnpxEuxIbM2ekwloty2VRm/z12hmTdQNlpYlZ3HlEaaKRgh8cJ/cHzbVfX9IRztRUCbscIUwmlLubIlKHsglTs+pU/EKAlxUpVKiJQbQRCWkmVNWPKqawWQRp3XnREz5pubNoxzC0GYyaPIt1WaB02ZlsepoIxCIO2TVJwwFbtTmps3FEjMlZCkuYF5GoI1oT9zMMnjJ4h+J7COaHwu1SV2tgNUcd0CYyTqtJodw80O4ShWzJ/aLCsdbwWovgImyJayJdxQpzfAimTJCW79mSchTW9h03795dlNCGttLSL32IqburKX5HsyKUP7RlhGHJmRjGMYhiG9SUBQRWnJiS6DpFN6iWidCEDG4ViotxsvG9JJcjIMrWJmVvPMZPERqJSNlTKFxiJahph1FNERyJVoCQ5CNIJdczDOMnVKO4X1S/HIgo3NkwsE3aRr7DDMExhpNBTXZbxjGJGIiQuDAQuCNIWkCuGhug1QgjofYZ9yE+5jWzwRRo2DRKsoKQv2eAJEXNpxWXRQlcmREtZUJ1HpFSThInxLbHUpVhDjKTuNe69hDUtrtkMxmPKeUxMsEQyrriKI2sE5Uu7ZnapYpgE8VoewjkjCHxyHlWMCe8SyP6bVVyVYJcx9KsbvsJKCT5oXKpgMRgMBjMOixGAhwQ4IELgbFDQkuUpAjWO7HRH4V9h9GJxzCJ4o8EcRgW7UmEYRAGUHLkMqZluzEtRI5edAUd4lIbMjESIhkZ5dHAYNM+GJG0wBzSEraYmixIhwRwIcEIhEdMax24XTgKdtMdYntR0R2YIIII649bPS9a9j+yXnj1jRNJur6/ZnoWkcOxuFRJC3XAOSfz0CVliVYN0mKZT0Y+2X2OzE8mJjkXYume3SW3WWfF1ogJG1oI8ET10MJ62kCHJAmdE099GiuzMiJMDDohqGwvUz+EbKrnEQ0FJzTcUprfSdJ7G0r2IskMkz3Gl2C7MLoYi46Z6oYCotW4E5tpQ3KHXbcy0jEilEwdpPGhdZbU0aoMiFh/HSc8G0XCLzZfprtxIIqRUxl4I37O5iOvo1pIV4HSzE6FpJXEhfgJJRK5IcmYwjCMIxDA6AJnMmn5zzmJmJkeWg8ugZhnGV0ZFvvBD0U9AT5JDXERod9gq43dGrmxojbELTSRIb4EpoXB9bRLELobTG3SBNshJMw07cFwXNTJm11tBsYVUh48RIc9haSzdqg7lpV0ZBEqIr3W+iEt9jJoPGQhhDtrdtRc4hUa494YOORSSFvKsLKuCjBpjAaaSTfJFjZDMZjznmIcMScjznlM0zugK4BhE8R7T2kc0RxGHrFkGUZhLUUjyMzPNruEwaiYhjGEYxiMRgIcELghFNKdtKDIelMJY7sa0RrPWH93o+p/1oGBse9lpVe0q8J9fQNhdEQbhPcS92MnZV2EnCRDcZAhV0ZkZjIjCMQwCfnkIQxBUVE2eY8p5h8DHsNMuE5IMgZmQaUS4HE1vkiXS1uLxTaEk8UbSEjcQ3Q6y7Tt1yhZwn5nmG3ksQkaOIfELgkGzTYxhaTAQ4IXBC4IRH5lA0SoRPO0jRkD0zNM4ztKtFVPqqCShbk8RPEe0Uq1Ulqy2IRxQKdisFFmqLjqOI+imCKvtZnGUZJPlpkBZQvi9/jQ7qXOxRWM4oRu2xI2MekRMbRXJDYInTVxQ03EnBC4IRAvNLCSSiP4+0iEtuxHWn9jokuiFBcCBuabXap3rDcYYX8rkfY+kWvL9ckE71sZ8m9vZfxOfVPcfdwX8TnuzpKGnJDkyIxDCMYxjE1UzmQ8p5TEIh59NLkZBldIQOETwE8FqHkiH2a0MGUS5DzkeWbfgSJ9PPWuuSSUQ5MhiGEYhg67ZTIeUw/AhoSYZBl9GUwzC1jyRHEYeseSZ+kS0NAMzPLoYDHrlgGIYRgGJGIhwQ4IKepfegn0E6yiUQ5GvJmRiGEYxiC0AzGbR8phZHkR0tPkZhl65Yo22wngidA8BHH0LTKMglpbMzzHmMRi1ExDGMSMBC4IXBCII/D0WlQLZEnRnEy8ECWSvR4mQ5HkPOS5mQZumSpV0D24BgRPBHsPaRzRhdB+yTLM4zSXM8+kjyMzPLr+IxGDUTCYzEYiHAkuCEQvwyJhATGUEi5aTQtKfg4gKyK1gtBKNDh1GQM3ZCOI7qehekIgjp3sn1RfhZ0nqXNYJprTYEkrnWSpEk+nX1jcy9FY3XF302Sl+C1Mh6EiR2es0vGk6agi0lTYppfROSDGgMpPHPR7n0+0InG9ItO5EKSLqWx6KvWz7B9f8ACNG+hFLrYku1XF1KTwSAwu9cQVvc523XIpLQyreBnYmkmlxPsTphEi08zqstkdpk10GNLZ9F/wAn0yB0ORp4IkNZ9+cvAlKKzUoJgXltjygpJag0Bym7FfCK8YoihFHliQnGk6dxWCC6KvFp7iLI8ybliOBA4XBd6SBK5I89j7LPr/g2RK7I958CsEEuqgVooRpK6UJHkGKThNz6x9o906sCj9ghHSPzLF2GpcseBJNHk1olkK2MORklNeOhJJvh0bSVSSxUC76SUwiuKvqMWHDsW1IcLigzoSE0glbMOilSy1w04UMmBRTTbzy/BgfwRBnoAOzLgRM2qzPKumT5EUbakROPLMMwDwROBARyRgGH0aPKMglz0mZmZ6U9TPvM+n+DQJNw0IXLQneSM+Z6N8SayG2ENgbk+sLPkYl6CtzBHsV0iImhM1EjkEkawmxHYRwdwkEq8EzErkyI3DQ2qo/WxLDRj6tPiljQPpPJ9hn0tcEKYURPSLLP1vQ/qZ/0idBeYgGN8H7ETbxN5GyVUebEKrmMbMGlh0WMYRiC0aLFVhcaMBC4IwQR6d6PR9ew3zM+r0L1E6zklcmQwBLWRzqG9jETOyS6Gt2h8jYthCPIeT4MPwP+ARJ0vthxVZ6dNLaThaFOgPIRyGHpf0IyNGkD65OCShUKITtcjLnszHosYwzEMIxjEQ4IRT1rj9D170kwtI+QyGYzD5BRPLYr4jymJkQ8x5SYZhmdMVq4JPETxR7T2kc0RxGD0VLIMwlyPPpocjIzzaGLXbAMAxh8QSdhHghogp6SrMRIlEfY/Bz0ILIiLVVmZiBdifUMawYRcJjMBiMBgFXuMV7JAhaLsx+UaIQmbKnyP8PvYW0XoH6Fk6T0s++z6P8AAJQVxqsh/UopJW9bPqJ7c6SSuR8w+MPjDBnHzdhZ99n0/Sz+LaTUMfSl6ueudJXJkRiGEYpgGLq9mPMf8wiUtCM8y9fscniJD2kcBidGvySfLRQLOzzmNmPowGFdjM+wxvh1n1E6STpP4OemVyZkPjGKYZj6bL9Hm+DH8CP+RPSb9jP1swPnRPE+Yg2B8a15mjT0B/0DO/k8xj1WwzEMExjAiFwe3aUxhoJ+hfZZ9pn1RdmfRTrJJPTJJJDkxDCMEwjHMPWzy/Bj+B/yNLLSjKP0swvnQJ4jzEGwPg/augQX7WQ/3M/yMb+TFocUxzAMSIXBC7ihTuTKXZ2C7JntKVs6C2U+xP5FE8C1NaJrQohdt6MekrkyEOTMZkYRhCSq3F1Q1AyaHlPOecxMh/hqt5yfIyDL6YC8IwCeKJCQ8x4DD6GLnkm/oopAv+gZWeU8hg0WMYZiGELjGJEOCERokR+Fb5T63Z+pjSzHaQkMnPw7H0xSiNIzFaJr23o9GtHBp4tJg0k1IG1cGFpsRCIXBC4KcFPwbU1Lv6Oe5PaZJJK56PNGJQl2Wj3iR4tNwqNEpkwhPqUyKFJS1kVQngz50zGaCjfANtj4GDOdwta7bHrHZX9r1j5YnJJ7CnoWiaU17S7ViryJ0PAs+ynsNQyxKKuetkCSSeuVn2aKShB7Y7jheR7m4i/UNUouuIxvDdRpH7wu63Qp1ZjopJtxPwLZSPlblyV8llCENIsxTVU1inECFt0tLwLGYV+KIpkuwuEXRWG7G8wRXjHV7cShqNIyGZGEYhDs1y8xgZApvcZ4yTxEYEcQuv6hfXDaWG5J1wQ2WCcZFu1PRJOkDs1Z6T1ST23pDzsENCr1arss4yxCEjqtLwGnCYn1zApr72NgSEoTfobobINw6Y6O4/XGVhxGCDfU8rBNcg1KghBwpHI1Lgi6/CKXu3bN4oMyvBFsHvkCqrt6yiVyhFFoUk1uN0dcj3JQTc6lzAUeptgn/MIldeB80GLk9CsnQ/uZNKPyIYpAmiAlVVtWMIx9PnCwku4GpLpdTflkHJ5CHYxapYZiGFEexC41p0Mpx1LRXC7SveBa+R0sBojyyBmmsqtxZT4Kq2MmpQ2qDdGyVjrnGDdA2zV7CcnzGZFRJ8G2VVxcwVCKOB61g+B0UVCvGlT2hyYdhCSxrVpK0G6kE0ExlF7rJ2xyiP7GJveQemRkE1AtigWKk3LJMpeRPM6UbIXW1nLLhQQnpeeCFZEXdxXDXN0NJqF9x4sBq12fsRHb4xQKqijyJ/8ARLEpaU7wzqIkl0aM5wkViSsX/YPN8nnMIxQJNz5YuIYRtxiIEIhCagSbNie6UlqvVni9pDLHtY8aMbmnddg+5o/wFZ5JoRiNux8oHFVoWRUQKwsW0RAnuL71G1eo2lVjS6pMrFV9FkbMSjtVDcJk/IyvZsULTfPFBtIhF1yuTl0jW6DONom2LqOgSEJgHMB+xHDLJ004ESOpgeCsMCaJiZgYmMJ6WLnfJ+pmN8khTqaWIGUlfwQej2Mj40iX+5yfOch86CLgI93kxTCMQwIhwR6h6i20SttJ29G/Cqi7LJG2K9k2ELWFbpwjGMYxDE1Aq1QVz6Doq2Lw1RVUIuUdTORC3MSlcLuvJttQHKBZVXqXPsMIwzAEVDQe1EryakiwlGCJDn+o3poJ45DoyC5WlJw00FkBANXcWsRQ/wBj/uHmMYhOtkKQyjhCiKAyLyYw0rBtKlsCVeWWZG/gkktLSMxyxJ137TcCEld6hTYLpbMryMY7Evl0aeHusknWZ5diJneujTuNE4KvgurCRscsUaaiHNo3uQEuNfcs9WAQMGixrTYEKUVciMbELghcEIgjpj8I1hL657E9E6T0/RJJJ73tK6kmp3Y7JT6WUxvke2rj9gIid90kASem1glaqcc9USYZKCgrFCJiS4ZbzfCP/LkkZwu5yRD8Ghm5NCs0Ktkq6EaSJEDHJMsEwNt50qPai1bSTbsiv7W1UJGi37MLpoXFxbmxELvyT1QmKMklK77iam7NhvMFrkVuq3aPuLZgLAMaJS3QQzhOOSiRLjoPLlCV1KDLJSkfUthMkfkRWnWnuVIWQiEam4JawF0tjfWjkjxWzECVZQ8nqdN0JDq4zIy8ZFcgZDtNOhk1yLKdkoGhG01FK8BckRKIPmVz7EBMkElZLqhxdrIdxy/0JEG4+SwpCFIwOklEAaWx1YEDlVsctPI0sjbeCbltPwZL9h5QaeiSn9zEY0CYHFS0Ih9XmJoUUZBmFVyhyPJ0Lou6iVhPLlIgD0n0m+FokakF2kTUNUPgtYF1XLnSHKLjfgmql+TgeR0k9Tae2w6Wah6pRbEiglRiXyb8lwR4ETXjDqAqoiJdjkyhKA1nakShRU2Ng1QehsmKww4QQEpLgIlAJj3WQ9XUI6NiORBSORvKrlHBOWHGdxi6CHkTQ5FNbYRS+ASVRPYHUXaJFcWLLhciauilshHMYOiyRv5ll82CUm2tZFkKBBHkbHPklq+DEiHBDgjqVwhBZv5EMpSuCElRavVpdi08j+p9CUFsyTx1ohK6EJZYoN3wJ1NJcDGOvbA3QcmrzHXRb4IGEE1JcY0hg85Ejs9FrKNvQ9uRQcBWx9ckictw7cDuyWgVA62paFkv8G/huk2FxRJvBKFqujbq9k6yjYULhcQUNQb9L4Qq9ov2blMMRIlbHmkqpvHAKCk/As0zhQfpRKRPbuXMGRqsu7GhqU7CbtjViFwiwQGW4Pwm5ka8Y/6Hk+RcehxTDGqkFwjEiFwQQQRq2JaMSKy/A07H9hcdDhNqw/uBYkuCkPdjdPZomqctYZy+xAuJH1RUiU8m4uRUNmpAiT35Ln/0EzNcFY5rNS/CgLiwyRKuQDlliBQuqlmCU1ngjc2I3UIbZOSY2DFBYSVMJjtYjHMPRZzz/Bj+AsazRSo4zLcxJeKJip9xzQqjdD9rMT50aeJj/IYnwPhO/YgNtuPczPki03AMUxOpBHVFZ7EQlzgYp8vx6+c855zzGJiGKGO/DPMeckC8HwNWq7CE5jIIqQLISTQ0/CEroxcMwzCJ4rQr4KJSR23GWLaJSgICAeDxJQINzMyROlQIRylaBAq5FrYEw/UyH+xnfyN9AHNz8TCMUxzBINvwVpgYRgRDghcEIgjVbCScSXBZER+EVJ1ReBJXCSQl6p+hekeCHBDRAhECfAbvggjSZzFf/g7aG0Zux9I/8+uFwyxzdE+x5mP5HJJK5MhhGIYeiynl+DG/jVVm6XHMA8hg645+sLIPMYuxcIpFZdNAV3YW53I6J6FcgoZIjaaJVkrSSdJ/g8ohyjGP+0Y+g8/wfqRD/AnqJcYlttF4jB+NLJv1pZnpY9NhCJjRgIEC9O7H3C141RPuBtJvsISGuC0lkjQ7iSWHcMYQtDI0zNiR2ekiZIsIVL8jdvtFuqtSAmrfkciMLRsXS5Po/cj/AJerzi+xh/OjSfmMD4P1oztJ/az/AKB5vnSIWEYhiIRCI/ELpkdi0yz6XT5FA6GhUpw0yZQiO4QYERrNg6rWSKkoIjO8iXIlKDm87MryyUkN6BuNi6FkVZEHwNPj0x3ZRKMhkRjGEY+jYpg65ef4MHwP+YQ/zJ6aZR+xmN8kl8jH+cx/gyPjRJ/6n/bMnyMb+dDji4JhEOCCNI9bHr58jN6/2b1fIR+gYJgGENjTdAnihpLiRHdDalUI5ojQlEf1e8DFk/gSNWgmr3FZHAw/gXiccsVrp55t5EEkKRUpcDBMMwemxTNMky9KnoD9TIf6Gf5Hl+dLDr/jmOYJhGAYkQ4IRH8VfYjW2OmOxC0auJRHYj1C/iE9qUNOTG7U/t/mMkOTIh8QfH1X5j/kaJgZet2CSSeOgjiMfT5+sZr/ALGd6WHs/RLnn+Mz0SQ5MIxDDMcymVmN/BH/ACMQyOhhYPwTf5MzSof7GX5GLTIi4pjEOCFwQvQvRJ7K+gtfn+EyjMjF+TDMDT5j9iI/4ktEv3MxjwMf5DF+D9q079LP+weYx6bAMQxjAUKEfhHoyex/5/D6dZ6ZRkRjGL8mGY5gj4+iyH6kY/gR/wAyX+emZ3yfoZ/2DxMFxvg/UjlKYf3s/wCyeb50yDimGLgGJEIjojux+QJiwmAYETxRPHYxrnsPNHmiOaPNDXERxEckeaPNHmj2HkPaJ4nt0PNHmjyR5jy1BHIeSI5IgkcRgkcJgGB8GOY3xo/0LT55lawX6WL/AGzzfJhelxzDMMwDCMRgIXBGkd1/w5/Qfd9BPrJ/OL18oZPnQxPkIbBPonoboLJJOkk/wReintT2JIGZGMYBgke55vgx/DUBk6lYR4DzEc0YujzTN0mRoYjFooQnSeiSR9GSSTrOkkkkkk9Mkk+qX4ydYcowCHbpcpgfwQ1gWTo/2MwyeA8hg6HK03K/lrLEMYxjAQ4III9Cz20kkknSejySSSSSSSSSSSSSSSSSSSSdJJJ/JSjIjGHxTH0Xm+Dg+EnsGaY3zqFgfBn6BAPOYTCMIwEY7EeqnswTpJOk6uVzwSSSSSSSSTokkkkkkkkkkkkkkknRJOk9Ek9Ekk9iUQMhiGMYZimJovJ8GD4EP8iejmZ8n62f9bTgmB8H6kZmhfuZlfyY9BjmIYhC4IXej8chLVKYzGjwkl5WF8nmjzWl5nmeZ5nkjyR5I8keaPNE4k80eE8JjWkYxjGNGEY0YkY0YF0ACeQWWhRw/BGur+1GWZevVMJFI/0Mh/oZfkeb5MH2Y9EuOYJhGIYCCP4ZI+iNJJ1nWIIT1zpJJJJOkk6SSJkk6SSSSSTpOsk6SSTpJPTJP5ye9PYkgZiHZrHBh8vRzw126rwhJItJJJ6ZJ0kkknoTJJJJJJJ0kkkknWdJJ6JJ6JJ6J9BP4WeiVyZjAMAxzKeUxfDSTDLP3sxSjZaEcWrkuZ5DzmIxIwiHBA9I7El67SehdE6z6ae3Okkkkkk+pnonWHKIdg+Oec/4GkzT9LMf51A8hHGfqWkyDJ0hCjy/kwaDAMQwiHBCKEeifbv9OLSdaE9Ek95d6e3OkkOSLdGGYehyH/I0LP8AkwvnQeYw/jVll8xyv5aLHIdhGCPVz6Fkkk9M6Rap7Ek9c+gknWdJ6pJ0SQ5MQwjFMQwdFlPN8GP4H/CEn+ZPTxf9J/0ieJj/ACGN8GUcmlIf7GX5GDTYZjEeCNI6H66dJ9Kz3I86xEpEDx0JCoJ9ukx6KRInHVjmZBcnUIMI1Eo5nmj2ntPNHtPaewjkeAjQW5002cgyDIMsXL6MhQCPIzP5POeYXBrtgGKLgGJEOEQin8PYyPJEgQIEIjoiu6l/EH+EnpkklGTTMT5zEzJ0k4jYJLjlPs2RqvWokn1K7a9FPdnrkhyZDCMYxNVsh5fjQP3ImGVrDjk8Uea6BdkHnMz0VwGMxELqqLsWRX+tkXp16yeuxkRBsMYYsHw1yfrZi/JPERzGD8H7EZOtbI/k8pj02AYxhRiIcEEemerU9l2idXVPp51T6J7C9dKMhhGHouFfAxF7TGJ8nimhftRzFEvNolwzGIcEIjoj8Q9H2JGF7RPYnvJ6rWdZJJRK5IckrkhyZDOjMjGMXUDAMLo2/N8H6kf8rQSLNP0sxvklthHAP1rSJlDf5DyaZcMwhJwR0R+Zc6z0Tob5ipEeSHJk6DokeDxPDoB2EngJ6XkiCjmRxd4SFHv3n5pPmS5nkP0MhyMzMzPMefQwmDQYGgwNJhGEYhHghwQiCCNI/gaYuqC3EhlMZDIS5J8nlpgQIlLnSjwRMRDghEIgghEdK646Y6V+MXoZ9ZJKIckOTMZDOZdKOSWyZJoTiXIiYTAR2d5u8+gntx1L+DUIGZGAYw+Q4ZPMZHQBZ4Ir4MLoL8+Z5jMPNruMwmEjwQIXVOk9neb/AES0jtwQIX5aYMiMYazmfwYvhoOFtJgHmP1IytA/UzI/kwFMQaNgIWseuU61cWfi12Z9HJK5MIw9FkZxfATDNP2MnQWD8aHJJdABsEXGIXHXJL9VPcY2PkT2FcWm2iF3F3J0nrkklEogQ5IcmYzGYwjBMYxjEMXrPyQsnxon/IMNCONz9jJB5DG+DJJO/wApn+RjMIxhcSIRGkC9KvwsjJDnonVi0U6zrJJJKIECOlkMhBoeJ4HmJaE9KJiJ4HsPZoy6j5BnGQS5HmI8syM8mqY9ZMRgGAYhhGMYWmwGIhcEOCFpH4dfg56GOW5EiQ6f8RNDGRozx0wY5kHIZhZHkR1jAYDELgIECEQhJfma+mntP1D0evgiWkdCERo4jRavwqJ/PSSJ9qfQvSeqCnTPTZos0nqXql6GO+vRruSSTUnoTJ9Gu69JGq37JtNmiKd9d/jrXoI/Et9hegnsPWNXARoRY8NdhabLoX8an07I6p6ZJ1Gmhuw3ZUaBskv17FpwK2q/KrSe5v26duR6vpUlOmR6SSQREeRv0xI8jKI0GOOSlEyOVl+JFQ3okgRbRsuDGSSX1zQsK9tP5jb0861GgmSjYlDESRGGqytOUEskbHqnTYnSSKNCAxkJJtkOGSVhNuK2kjYySS6JoSypMu6PS3XtNgtZ7s+qXrJ612TYgI67Ey5CZEjbK6vSSREFtZ1eqemmjIymhLq31nRlRkl3UZJK6J12i0IXStJ7E5J0knpntT2p9HJJJAlck6ICSljiPIcYo6CmQpbG7sRzCtySkkiYxOlsebtz3120bsPq3JXcZZLokck16SGbEl8kHr//xAApEAADAAIBBAEEAwEBAQEAAAAAAREQITFBUWGRIHGB4fGhwdGx8DBA/9oACAEBAAE/EFOahKzUSaRw52NeDoR9BU4fzRVfQqKY52LyINeOMSQaEu4hJCTO+hLRKQiGh70LUOXxgkXA0MQjUER9jZEcMg43iEJrgRtqDTEuo0IJY6/fEEmRPkRCcEIsTEj0sRIaaPqIXGEstCvxWGvIxUlbYlvCS6khDZYTviKCINcC1RLyaIQhN4kQk4NDwyLM0iHKkEOCiQrEPyx8kdEQadIh8YkGfwNsZp/g2d5Ebo7BvA+SDooQveyCE5EJLsTZyOp5JQE4IusRDkJc6EhY0NCFMKZ02QQuSbxqiVzCCXSCQl1wmOBJTjkgsIJEeEidhLMEscHA8LDFsS2RY4gsQnwWXSIRNnUa2dFhKkfwQhEQiGhI0JZSwkIcMWIRk0sMXI9FIeBkxJhrsQeN6KmOozXlQkJCJKPY4NPyUI6sThCsSyaOe++BJaYk8JEFyaI6LEEjSIRCqxMPCSoliH2EhpCR3EGJYSwsXCEQ0WJifNYaxIsSkxMpCOpBf/DoJERCRkxzyRD5NjFfihdiEpGhiXxlOou0w+DWHiCXUazII5w1iYg1jqIcKK8FnA8cCUIfCWj64RrG9C02brrqKkSQkTE0aOqhDg1hCJlLZXmHgaOSLDoucJE2Qhrcyrj7YiyiaLlKCNRZhCqZSeFhIWH8PsPC8n0JCC0TRM3E0OLFG8deRYhMbprLJlHXMJog4R4a0Tg5FVj7HkbIQeXgxj2O0eLOTxo2TE5RIKCFWRoWWSM5j7icd4wkLCH2gkhpjWoKKd/GEuCV4kOcaZE9YnBCEgobFxcKHbDHmCxw4FmZQsIjGhr4J/8AB8aHhYnw64WWJEQzrCPCGTDWdlmOpCCXw2dSk4Hh02I1MNaEiRCWho0Qngg1pYTsQaIQY4HomhMOCGhzwNmUiE3iZaxzezG+MWFxhEfIs/fCRC4gtEEkJCEhWyk0S/BpQRXMHBnGOMQ6GsJidxrCWFlS/wDwXT53NOq+NKcm8rKw7lion8WIY8xnUbx1Etj5y0PkWX5JMPgjGscs0NYmGqJseIvJyH1GrpFTGtiR74QmtEhVmyvE4E2TZJCzDSfqLgSZJhKM+xNlEoiC7CTpMNZ653Dhm8dSGhq5XMKliZVGtfFCxBcY18J8eghCfx6nU0cMizH2x1NYuPtmm8T4zLgi6G/hvM/+DQy84ipBp9EK4hYxoaQ0Qa3wMYxjQnLka0fU7tj1GKtRBiWIsbETDFZXd5EJYRMQZGfQmKmJZUIciNFxCEw0RkPPxSGUXxQsRlraEhYWLhHTFwmUoilpMT49Ph1wxDJo6EbEj7f/ACaeJomXi5cGbuFzmbOM3FNIjIxpqY3sY0Ma7DTGc6UZI0hqmnCQhK5DJJVpMSxTgmxU653+mW/WQlrFiot40LHB9hbFGIWNoRycnTKwk58FO2Oc/bDELkuVyIQhfBc4pCvHX4Q+2bhHYpc9RHUSGL5dEXCp0z0+SmKXDRHUQmsoUwssaOpDvhIamOuYx6GOCQ0OQfBunwbjhxskm6NQSq2JZqHUREoaEiMSwnotPnQX8YTjMHSMdRqvQxL4TVR2FwxCWOmJoQstYlJvPQYTWYdC6WFiCbCOhwbR1xV8eBjQkx56fBE2T46wk6TPZE/+Fzr4zF+MXwmx6ZR4cxC6OhCEOpziIjsSLCJYFtw80N1iZPRdNiynBfB94IWIIZCYf0m7rsOKeFcrgrxCZVmZG/gksrH1HScZ0Mg0NVEzRsJsQsViwjjHGW9FKJ7xS6FmYVQuSCNXK+VOmHLjp8Ocv4JXMw8Ia2QZyNFwpibYkREJR5Tw8R7INM3nZVHdk7hDGiqGJ8jSbPRQ1OCFVIxIiwtCfQh6ESNxeEJ4jWODrhawsuC0JGxcCbCWETEFoNInZDRNDTkw9YeEISdo1hNYjxBZeGLEx0EcMXNwhMYhYWIJZnw2PMH/APG4VF8N/FLLEI6EGdiCHiEIjWNsWTGcMOAxUQdhklVbcLksceprRCtttq42cZlNCnYg8+gK0faKoILC70vwQuJlCE+TexZ7Z6DZyvjCSMaH0H0NwhGLChyJlKIeExtfCYTzSibxcU3DoVaFm4WWaOmbjgRrGivscFIsJa4INZ0K53SfLj4Mg1olEREHyQWGMeGh6NCH8DCL9YSOruW7YYmRbguDqsI6YTFBlU8FYOL6IjZPJs4KfcuUzawlogksLg5WdfCTMY+DeHwhpjRxjgZuCxRw8JfDWOuLirGoPKeXornOEaKXCZNoeXvD6ZXGxlU+CpP/AILjCy8bKKDwsrCKUmEMWINlWOOpUNjiEdyGzwIPY8pRSrNoafZYkjkWPereK/k7bNw1noLqu0hEmPGE6aC7I8g0vgPvoa5oLui6aEQpbQ8hImcog+UeY4toj0HHoPvo8qPOeIeAeY855BTHkRr5NvJ5xr3EQauo+mHhC7AXbC7p4wu9j84u+efAih3FF0VOnA5cnFlh1R5BBNq+sHV36J9xQ6i6ifo08M8T9Hifov09DxP0cfPoXRXoW49Al6ejAT3EJr/kRL/EK3/UX+Ahf5EfiFX+J4DX4Dueg7GCNWbu0c8F5pLqPPNNs8sfennEesXenkD787b4CaIh4iQGk9kSooUl8Rw4ChwhPtRSb7UPcqdiTajyI8Iu8MwbS8U4TBvsIa6ijCXyaAxvbRdNYbs9zfxj16S5GroKO0S3odmkdyStNHo36aF20LxGtCb1PMKsqiIw8x5f5ERUqc8sfcr7nl+yPLey3X7PK/Y+69k+v8m7/R5SBJk1yedUXfXs7D/k6P8AZ5/5FI0RfyI6Tfspt+wdOXsZo9ERegQr9keUdaiLW0LujiYsuRpDfehsqoqBYSkJvkaEk0JHLRIIdUeZHQ0eRHkQp8ibxj3F+eDwfweJ+jetOfQXRb0K/L0ed6FX+oX4I/RGpf8AIdv6j9UdEKdT0H/ohN+If4o/VYLVir9Ed/Nxrvhd+d0vKNvM808vFRtWTlUFQxCwNaaj7Y2rU8Ib7Qk14L48CXgTvR9EffQ3dUa1s86HMNSNA5GE9C44tFLBlUoJs6P6DtBFrTIVIK8hTjSNvA8EpwkEgeFFVwH2Qq8KxOUopKBElisQ3zQ2sKHDNfDF5z6/sVLWKv8Ao875Ni2zQuR9Gj8pPhCtIQQUOC8qFiRCQtUGsvnHlHhZohzc+yPUONbY19W+548P02gldI9+p4Z4Z2MfbniDtxLPajrxPDIdIrcTkqmjieOLtz9cKfA8M8U8QXbHjHjHjEegr0Fk9IVOMaXsQi7EXYfYIIaIidkQmuCGiCSITCXghEyQm+MJYeNvCRrEI+wlrEEosOYmZnjDbw0hjQxxh4TqI++K65wcmNRxsqQ1RwY1b+wokcDWOswjliekj76FWlFhci44xBLWDF84yY0J55TwxYeEI6iw8cwhCCRuLoJjoR5m8dMRCQhCSnwaxCfHrlIiIJTGyPXwYkQeE6iaJjlrCWhIhK5lHOEQh0JiDSEQhNUWF8Njw/hwPDtOpe+xZxqkNsLCIxX1Qgu1KJjWFzll9saVvKFxhXDrC6JsmFVhJEIPnMQiEZUl5LnrlHXPBRYaTRywkcZmhJ4hBjRCEJl05QtExBE+MWYisWFhDXwSx0/+GhfBfNI5Y9YTw/hfgzTzFhm8NEGt5L6vBj2PaQ1MngLNSBt8dsIUER8kUFnP+RCk7iEuToR56YkIIjG6Tj5buec9sTC5FVhDUKJjS+E5Gn9hBKCQ1iEINX4xm1hG/hSIQsL6HKEMmFhMZNXPTeF8GbLl5WKQm8bKIY9fDnOxZZXiiyxmxscHRnQY/rDskSRBO8E93YPSiG2EmyCEmsbEQSq8DS3dHBMX0GiQSw+fg1lDxCMSfxQhBCYpj7ETwjkUwhtYXTMKobFwNMN6OXmfBPGlnrlQ64eJFhZYsNfCD7E+M+EHjiZUGXHYQ2ss0MdgiIsE0VFE6IfJvFw+BjeOBja2MXVhT0NNVts1ISUm/WHaRiXuhd4c+RcVSrmiRPkaXTKNI9hn98sEkE1bSporG9lXUTR5HdRM5+bRBJTQsQpUcCauXoWJlGuxwNlEKjkOvQTeCZUUqGE0VTkomhNFEw4hINBJcSQa9xp3F3EPvk+qE0eVGuwLtBo6RdgU6CWpPDNy1PAF2mdvFF2h4J3Mc8LcOzyn1RO7jvN+j63o8DGnYfoDXy9DT8QkBp+I/wDJFu+yYVtUE/4REbAtgDWTOfcjR1YPm/DIPBu8vsBvsD8EP6CcdDOqjuEOueiKr2I6IxUEWwayX8jpVi6IeUO2mEzqOgU950FTUoYzbiG3L2WBN0q3SGvh4LoOauQ+/E7rErlzcthadh9+ed6F0ymFYMQVARwU5GViI4fQ0lT0Jeo9EE/+B4Ho8b0eMeBjvDFCfwC6noN39GC3lAPuBzWwwNm4FCt/gWfT9ipT+oSFyNWg8o0chYitQRksFFA3bHgEAvyY9APpsZ0v2DwWpUuObbH+YF+cPri7TFmWKWTPgmzieILsRT4ipxH254p4IwvEJdIr8DYtDwTTwPEJPhCV0R4kT2IdER2RM4IIvBBF2IuxF2EIiI0REIQSJtj+H2NEGsTKQ1GsMaglQ3tVFkkbNlIOhpcnYerBhzBcCOwtTEJrEo3oeUQYkuQ6ubT4DFhzhNiShp9yFNfo/D+NSEyisIJdRE+mov7jQoSxIRDdukhKJoS2LjaKkGttJ8OCETT1CDRGJOEOBNFNCuIhpQgzeOOuNlONkVjpoWFo1lwbhbZS+qJqhClpq9RDSxyNHdnEn3ROPE+E+UxMpEEQQhjzCYmhixBrCK7l46Z5FnhfLg6Ed+FGPD5Qxi/sHJmwQzY2yCG0cL+BrC+M845CKehC1NNDu33DhlgqwI0PDajL4FIN8kyiL8P54RfcZthDOHlE2ENa4CRcLoSJRJ1HAETwtuYsrFEURdVC+xH+OgsQ+wq4bSgSpXLisp8CFWS46I62NTsI3hkxavFCz63NiWq4GaWnSIY0bSC4x/MnRYTFjp8liDykdMLj4dfhfj1N5j+c0Mpc3HKFmjrh1C0Me2MpSIg30HwIyXgGjjVd+w9aNg2hRJ4TEQhwjRDT70IpeKKQjjFSQho0lo8R0gmKC5KsryOiF3uJZvo8JixBXYmJT6vYnhHCGOxoV7IRaVtjhvCg0fWahC+L9inwuFSSuImfSeym7rJ9S4aSNZOFXshNqarU2gOdBLCpja7CSHO+Hn0IS0NC+C6vIr6TCWUrqhN22sStMTfKEGLB3ct9Ri38EUWEvlM3Os0eNXGsIeNb+DRenzhBCL8KJiYsXGilY8tjYgr4es1B4Gj2ew9K6uwtLBYUE8UqYkzajOl3QZQgbwLvfSlV8s2G2JyTT5OBXqRJheW/IyrRcCb1hJUraiJ07vUSdY8JjVLqhSCkCYx1E9nIyU2IlSRag8rgEJ6GrskSvhEGVmkRyGx5eek0KI1SVqIHsiNGZQtRKExYY3d8xwQBabaEslh651g4jEkhYUwm1wPcLaH7EISo7oXHJSRueXy1CygoJIRDSv8A6Jwolx9HE+qrKJoqKJ4IJo+5UUTG0QUqKiHUqZHdDgQJJydpnmJnKPIjyoXdR5keAeAb+S/VHlRtHhD76H2QuwPGPEF2Zo4Eug8I8Eamop4B4w+sp4B4R4R50eEJXQIriTCjwEy6FdCFoZN0o78seAPymwG2IQIS2ONTgj6ElZokiyrQmnAXsFriKvE17K7E8UTuT4XsbmdBtutWiEoITC00xzYW+jID+qMevI6Uby/1n7YdxlXZsU1XQl8OLvx98K3M8g84808sen2n0GzPV8MT5ciY05+WecLqueeMifV7F3/seWsu4kLQ8n2JfDjNT5H+H1bXdnn+zfwEFnvcbVsNagN0Q9Ebj1cv6iYHiDyRPW5Chyp53sWzM4otODPqYrbWn5F2/sV+G9tCKA8P2Vun2X8oqdBW6LlMSqI4TYpSSXGimBmjglKJJC6/8TvsLvR4TKxAqDSGiYNDRXjMCl7pN/uLf7iT/oL84fsD9qeT2FHr7PA/Z4meB+zXApB64NEC7AsQPFi4MAsMajq4iQfDPBN3E8U4Kpu4mzgeGeOeGeKaZB4R4Z4Y9Gvo8A5tDwjTwjwo8CH2DxjwB1MXDFiYEb0PhUaSpJkEaaVEhXglEoITGzk6PiKb8EiLsaEJEZCREWhDWIR2J4IyG4TQjQyHUibEQSQhD1c3RiILSXQqEqNCVGi3XMsLngZCENDEJYTWrQl4I8PDwljQ+1aO0wvCCWEmIzQisQvg+ecqC+FOVMrMQ8Mb+Cvz0JHGOgszOsU0XENJYTF6DJsfImw5F9w8RoYnRChJXUbsuhX9jYumEIciXgagvIsLm0EtjQhfBfFDELQ2Uoo8L5vgXHwQjshnPw4RRFwt/DXwedsWE8QWph/FC+SJUIuy43/8LKXqN/BnTM/+FxvLNT/4aw8Qg2NjHR99sKtWc7DV6oSUENshBYVEiEaGn2xxht2SIRtCWEyaxvKd+CxcRnGOvwlNDYnjguL81hZQ9JYXxvyT3hCeE1C35TCx2zBLfxuifDR0wsdBYmbhm8T4dTx8Uv8A4PjLSxYaweE+3DQlVpOi1OHUc+gbenBCx2RrjFalOpBb98WromkKt5e/gj6ZRE8LjGvghiOmEx4eDYisuemKXPAq0JzB46YawyT4LyN/BuoTwlilRUXkTKXRcUTLrD0WDxS+S+RMuNFRSlKVCY2MqpQ5rFRc1FaNwbk2UicjeEYNH1IXUhPkjuLyIg1xvvE+pXyh9sPiDJt7QlHVC0NJEMjS0NVTdolNza8jS+R5R3clmYFqf8QhG34yj1LgdzR5f0H/AIo4hHVX2I/EL8QNfxiX8BC/yH+CGq/yO16D9QV3/CJz/oOx6GNHT0F+AP15+gErn/If4ga/iFZa9D9ILres1f1EfiFvP4ifxiOP4yHPqJn9Jv8A6CSv8Anf4H6Q/QC/ACh/Uzt/iEq/xI/Cbf3o/wDBCf8ACNvxkfhFX+Ikv9ZP4ief4hr+Efd6x/onDMO337mLuR/vD1WfvgLs/Zo4+zxvZqv8gmcr7E/zh0X/AGK3+gknQrUR+Cl3BLvsneNJs9smJNH9Bv0vofb+h9t6K9Ho8D0LsPQxb0F+kW/Ef65/6IbV9CmiLq/xFxBd619B90ecbeQl9XoffDf1+jzDyhd1hPNH3hoDz8BcWDnhoSHQy+RX5nDfvMI5/wCj6ns+uPmjIdDuB9scnoW6RK6SR2Q5fIqkp2EluuMaka8Ic2RPsRYTO8KMaUN29kQib11BBEvI1sRgngSRLg1FRo6RQImhJdieFhqCS7EIIRa0RBKWrNn0Gq1VPYSrH2JXCIrwJCQiiROsGRCgkh8IS8C+nxSoiHdCEE8EWGRDQ8n8lO2EdCYmFjplYUJhLvlrDxC8YZ6GOo7R+BSax14z1w3lvGzriGxTDWJr4dsI0MZu4exiDGK2tKbgSvJab6ou7XQVpG3mhefhBsQ12HwPexiEKS5pMJEhcJlFyUao330jz80J42QvXz/Szxh3couF3KeaA1SeYNY8K/aFwJFOX/wo38U1liZCUTNaabSOlQqfwjGye6KK3CeaiiZc05IOWFl4EJabeiOWDxROo2J85Q43ZoT/APhvCfynzmsckJmaNlKMaHxEJ/IJeRa0h7lEVtJMsqIRyLCwsNpj/WyGovsxN4YmnsCS7hxM0rb6vohbKuw3NS+uyKa3GiAKf1GFU0xN9oKENE0rs3yEcihM47QsoN9jWsLPqTcEt4ZoOU0HWtsFrY3RYsxU+Bl9t0j0CrL/AE59j8fATF8GiNsayS9jtJCYpE1tM4RFipF2NxCSvVTYhIi4VN8IftTb6sRHlcp0nMNIPdRM4Fx9I+U76JwxSCzrhRD6uqKO+R37IYsuoa9zkOrCzuk17KcUNODViuCnnylTOQBhNkEXOE2IpqEEIfJc2fJs0PQ+hcLeGsvL4GO2dMMdODUNv9RsUa2Jl7BWpDpQbfWcG0qdIIUwhaZCaKNG9mLXnq+7HIdkkXCTNVyParZr0gqKrbtdxQ6HZN2KrT7FoeoEkI6huq+hdWLfLgbgLIzn3qQ0kjSr6hd3HnlTYTSb+4Z+wCZFg2lOa7DhSuJscEJls6po3/lqYhLgge6YhKnDIZzrhCKBUsXJq7NRJ9GNxN9hyPVRdWIghRrujKm3ZU3aFy+pse7KPb0rYi3bcHUUML4ikSqUl4ZT+A+v9Eu7HDdd06N2lLEL4xbFWhCMzu2LfnjmjmNctnJXLrERN8iQ9yy0JC1HdHjAo4xApIYRbG0J5QVjlkp5gvrjbeR1yhtOb4SExbdboJmqvbQ9Il5ZTxaOPwO0KCdZ0YR0E6Jkw9ALQqXwPSrFXZCS8JEIbiY4IJi5T+MIQeac4OY1hMtw38asMo2vZArfqxA2lPsdMo6tYlKYKECfYGraR/cXPHs4B4/s8U/8mbhGu4luPtprfJFczyTyBL6hsUcmJtOaraITKSg8YtTS4pbW19hO6hCaFbZWy4YkHWwZW2iGDEjUILumraEFalxRH3uTuGoamanEkFdiXshcpbyXV/0QvJ6Fw0WrrfvifdZdGKdBMW0GtsJpjG9YhyJQVQuEUjd1Whp0itCFCbvkSugkLsdHZpDZ8UbG1b7JkhigfWGv3ndmaar8D3EqnvlihSkhodMScGQk61r6hHyRdOiolLa+zw8F4Yn9I1TqCGtnYO/Na0ug1l7CBQTl/YKJzDdFkk09joznJPgYsdfIhQJtpijwF2R44jROiHTz4LRGnSi7cj0jYlMea2gpFVOtCZs3VMfnCgJOd2hykCtpLacFLr6GZLj8MYRuyG+OAblnZejOJfwD3bp3FUPJ6En8ZP4SzrJnVCeqvQL8EfxzCIs/LnI2NKXyccu+iY5ugamXrBRf/MZq14PYmvIiMJGSeBFoB9+V6jXpjtuX2eWnV/ofbYj/AGxPsie//YfgvZzk9idKHlDE7xO/9R4x1oH2nobun0JriPCkE2KxNcDc5CY+9cijU9CaIO+zXcTwpibru0iPDTfpCdFhclxo0LTKj7YmyRaNEV4JfKQkSQ0uyJnA+0hdhCSvAl2or0HgEHwNtgt045ud/gFygu19Eek5v+BXkGeSS+AS2tYck4SHpH2NZJf+RfoF+PFSTouGhUkOLEfrBc69AuP+AoGtFBFJoydnqcWLUxPkq3pPoj9INK36D9YPxZwCf+Aj/kW5Utz6j9Mb/wCo8L0KvAUxpMWxBeFgm3n1Im9I+wlcJEXZE+CQiIuwh+aFK6EhPQE2wsHyR5aG2lLtTgT+rEaIRyGiEtKCQk0yE3jyxImNEeUNLCRB5Q8J8IMY8IgxmxJwMmbcTkWc0ER2dxwJ7GxtiejRoT3hYTKkxqnuovWxSiNmUohvFGViZdFEylEKhtPFLwLBtFKvksQkQ/ksJZQnulOTj4TYhEMWm1G1bSdu6KI5dOywnyS+EOcqE3dmug/5sodsBWsQJCaKOPeidhLEzJmEGqJDRH8JlqfCCueuXwJEwsr4NIY8VRp0fkWoXeKwaJRBBJlwNadNTkTVGMUQi7OT+KFdWPoJ5eKK4pdFK8O9BI2Jj5w4Qn1EG4gvgFdGxaYQJsu+cUpRNjymU38NoTG/JSiZcUTG3l+8Esr4r4bHlCEUQ15Iu/xiJKJKf/DrhLHXFEdTqJHnqVCeKvisTDOghrHGG8TT+Dt+D4Gjbk5in9Viq7ORoOhxVijp/DsKYmNhOuIprFKOcY2UeWa+NVLhlKKlQmNlFg2R0CCCgkpUQIIUQpUJ9DWGX5I6lxRC6KXFE2XDxSlE/wD52Qv/AMJiw7YZMQeGah9Tj4NGx54Xw0vi4UtGVLDWCrb3E2tdXEW2UQkjUgieBOExDhHZRIfE1rQXY4Og+KeMNPXCzbOmiEhbUXai7E1cfZ4AtNUXbi7E3RKeKeMKPE76C7I8Y8IXZnjD7cXbniC7gndA19A+2JrgaeAu6hd0ffQ++Q6niGvgdaDr1HhHgHbQ8I8TGXbC7YfYHhHiHgng+x9oNfSLsDxfZ4/scOBssngi7I8cTyr/ALE+k8T2NBbePsUgf5o8X2OPB9xdr7P3A7/2HhHh+z9gM7cHiG/SHjHhnhnj4fjnjnhGkrI+8p5yT5fo871jeYdev0fU9H1PR5H6Evv6HXl+jyDfy/R9Ugup9f0aTys+seVnlE3qxxEs4efWKHRj8vo+oQnIj3dTwv0NfRnjZ4PQjw3ofeehp+Ajn+Eb/gPwAU0PcyFoffgcuoNRNQbbLknafo4JHHowyAXkDxBblI/xAvwwtFjDS5iUfK/qQd5vNWiacDFTSiE74KQeEeMNXSX5LxsN4guyPBHGQK/A8A0o0wr6xZVVEwhaeXsfbZw6eBPg2Y/8GIUOBrx6BLEwK5QuMuma0yrcR9sQ6TxSCUQSeg76YpX4mqEhkZwAjkVp0X6gn/mfrjX/AFn6Q/SFP8j9AL8IfoBX/rEn/A6P8R+oFLgeMUunoV+Po8Y8Y8A8AfbC7A8AnWkRBHjCJ9BoHgEnYi7HgIuxF2RF2Q07ISXZEEXYjsieyxPAiNykeBHiRHYi8YI7EXY8CIuxOwjsiLsNcaFKRdkR2Ik1UQ4eTGjdaYSKPdFtKKd2SU9od3xOps0KC4EriiH5Yt+sFX25BoRVdY/vQUZmcfcULeu43YTj6sRzmwqFJCXtO9hCofJIuSrlizUOfGhS04aEj+FE+GP8hWFzjYxs69GUJ4mliYVvaW0nt4TFiZhsXR07jQ1w6+PQh4dO0mxPjGylI1b37IvHor+ApBG8TuFxRMpeCCNcRYlY3spfJUV4sE8+MaFA3lT5QgjRCY7/AB6/Fjk5RUapMvwdx4eZghtxYo5WuglKFcPohYbZz+gvLGtlRywqXV9VInIkJnAnm9C4/UbU30CfByKT6aExRPyO6u2IQ/heVS4YhP5PhisOH1GDYPloNitVsQuBj7Iap5IS+EBUkndRrc6aMWxOcWYWajsRD0l0IJ1TCwqJHQhISXdDfSMJrLbBK04aohD1VJwSKvRMIdm8aQ6YbKthblRNbQgql9RNNVZTPLzIfc9gzFEUuCZthbZ2D3fs+G0EFguFKUljgkSt7K9UcBdxYRjjlMiibpNCaYsHB6cIc2UbSbQvhxyxVmz6i5atoylXVKiplOYuiPGCZcfb4sYmh/UWwtuVTQ1qJDWr4YkcFsJi+gi4RdnQRqJ0ZSGSipdTgK1iTtBtLuFnuCt9+GFyaE7CzwNzQpr8JUVU2VemOmljqNEQm2sKhTX4Qkm1rRTb6H2oqle5Qrh4ZEXOaSTuxc7ZL6kVKMa3J1pT8rHG+Zpj0dWnVi6RaHEiutv1glO/AxNZcSrJDpryIKZbKrYwt0xCavvquozuiQiiSVCUSNNPjPGGjxa1E+yWiMbeRaEkPMqCiMjtqZT+FGzFRKk0QdEuUXL5WvQgyEbb0zWPeKJEqdQnPY1zB40PzodNDpLpROkj7BIRTddL6YTa8pVjRLbgtUEm4IR8US2a2/YWpU0KfaOBSEeoIzv77mJP1DwcCsRSlZXCsT9l0NhQBiMW9tBj6dgI1SBQiy26MimrE1Rj9XeYqtbKwXruCiRpVQj0eqEqRse68pibliymyjNQFdDO5qWnR7HruiFxcr7IS06XXrRy02DjuCD7ffI0242ayhr4sovSBLqNzVHI3DGJqEtKr9BImxciNkGinosK39dG0dhfogpoeYDzaISLcuKNPCBuuhqER2z4xEg4WNwvD5ThVt8C3uPeH0K8A1sSqVK4x8iWWJRbdSCWjQmx8GyEnrzBFCTWPeq7xIyblpqzQVXBD5codSW1qP7YqtnL5HG80N+BwJIMpOmnDQUTxJRQgypIfWaE71yU7oex7Q+3bAvIqvEqOqGD4bZ05ilWhz/lc4U74vKq6kl5ZqvlNn01ILfbz7EVfSEJW9d7JqJbSbfUkvxEhcEEq4UObt0bFEbz6ogQ0NAkrMUEoi0/X3FDaj7B7Q1uOojiUQVHcmK6toW6W8bR9CGa02CFCdC6Y0+8bkplTYo7NJomEuqNxu0l9C+Q3whVJvv1ISrcEImupr49Rag5ITG2rtsUrrBE2vEH8nnfAqs0xQ5I7lQ+pBqZkiHsdXENrWjeg4KfKJdAr8BdqPsSMai5O7DGxcydy0yqdRIleRsXaiWq9EQ6TomKBUbIbqISRPpPGPDPDOvB4I+2PDI9JRyB9gPvoea1otiGInA31WVt12htsy+GeK/uPRoX6fYl9PsXbezu/wAx65Z9P9xrXhPVKFb1UX7RxO/ZuHymOgzilFYpVWanWGBk4QrVVH5p0GJW5peRNNNLk7rioo4VhbnTinHYbqLFx9gSPuhI6sHTdrOgwun9CDEqf8I30rqc4FFux2ERdGSQSGb22jgfUUn1m73I7SFFAv1eSmqbb/ExK1RNTQs/OtmyV9Gh07n2BvEyfSsXJNPOsY6Koa7C1ZmdhwV00fGi1JmXQS7akwpiprWhjJ3Ix6Nw/KP51zRwIXkCqegxfiGThqiPZyhbBE7ph67pB06IYtqOPlCm3MtuMgJt7XYQ37jq6FUW0lQQBJ+YRf6B4aDUeiouWhwX6Al4+WoWUrNdiiyvgBaONdisJt1rijJAPougzd26Zb9evcPa8Scoemi9vrCJVJd0PVbkQEvoV1GEVIpzyIKj3c0ZBV3ILDbPqNyZlJRoa7PqE/oCFFrsKpKa+h+qOo0Hhej/AMUOa39CRNvQ67Z/Y1aZfYah1tdYhlRxZM0km9oWtRX5s/am1/8AcsH2bTZZS7I5NdH0FIrgmPKyV4gl9J4o36foEHUEug4dDxTwjk1EjpHDDR6F0UJ9OI14I8M1AyH2g+wH2RFEovApXfZiHE0hCQ1QmdSv+samTpihEJHTgUKRMrHvwlLrMFhOC7hcyrg10p3gkl84uxETCz0IiIhdCLsRDSO2kRdkNKNIdb1+wn0vsRCOyI7D0GjElaREdhoSRFQlV5iFW7/oQpFBJCSIJYiHREQiGJsSIsJESHKJMcHKkEklohCCyiEwlshUlhkJ8FCL4NxlxrCFjWOBqkPv8KLHUnw6iwvhCdjgeGxiQto4GzVaV4GbSVCaQppIWVFWWswlO5OZ274rQsM8HgezKqY5+ZfBY3i/BP5MRoT+ENiFNCrgnRUmhZeKQqQoMOnesRSi+bRCY3loRSp5mINRicaTVXOILD4KNO4vkncL4RF7NaWcqirvIJ/CMU9EeXFmfCYS+D8CXw2i41hpC6jGsMg8PBl3zI3Y7wTm3uuCRupuDtJqa80prCGhr3EPrcxHYSxKa+UG00+GmJWdpqaG+BNFLTqLDQ0X4lkVT/4XoFBeHWCFMu40U5gikvYFlsYVCesQWF8my6osEQadIlHnrBOo0a8ieVBzbhKsSdV0G5ZAZQ+DkOYqLj4JUJyofO7p9RCy7CQXbsQbzxhOf3WE8UZ4aTLwVcZfx3i4nweEJY0QeZ3KNsbENZhvoTsI1DHVNJklWi3tbfWveGLCy5hoDj2XhRbx00y2s3OjWmd4s3N16N4VUQ1hIflidHyMQyiONDCxGMdG+206CNsacs8sI1V+mMPmtMelpoaS0nk/s4xiZUnsdxOhMV6XgZtXruU2SCP+r0U3ZQWFmfW99B2VZUtWaV9kbpul3Ivai+9BVfokHy5tokhPCmhqRVXwiofourZYTofViX41E+GmMVYRv4s7/ourGFTQ5Qwqq2vqxleq01RHZfWIalpYIrEVG4Rzqh7ecTuHbLC8CsLa4YhCwhyKnyVnz6XLJ47MRGlOlERBo3vKiFKaULKtiI+8ENSiKFhIa0GbC2PavjKTyP0nIxoYlqLq13ONxqiUU5MTuT4CyVWnLsTTo1ORO9bOW2IQ/gkOYmKcYeKiYi+Tx5OQx9ljEz2jTcthJqKO0N4STJ7j1bROtnkPMLuDR1Ro5Qybaivn6gl4oiNR1+L1Nj7BWVesU6NaR9if1HKTdBaTtiZGsQmagq4pAmpSrDBo4h6cDaFpm62RJ+NOsfBAIVpLhFPqikdyClel9xXaTqui3QlVx2NENES7s1thuPhHTqdfUcq5WgrmKN3uKq3GTvKLWyvpiZUKCcKjStcqEkheNPQladk6CQivek8Ueuh1Wr6sgotUc1OVMbFqI2JRtkQmlhJPuW+Pf8mN0WmNCSdrUqPqKhuCxUVDSFR0dC8UdChaTuIqiI4w0e8FFDNrbrnQ9b4G2+wmJovcX2mG0nSieqq+xxjTVSZKVi7AXaCKL1BdgMS6SFiZoZ3KRikU9z+pLHVeGKqLug9GWsjGE74MKOPuIdeRwXYhcOmqrqbHHqRtUXb54RjhbSQ7xfI0bS2bXoVeGGhC4KVobV1UUGVEE+UMrQTanBRDa22uC9ouZgF35/5sfY+x9v7Ni/6Fctlx7jG+4Vo2E3ukjk+XAWa++eSs6CgsEp5O43oRMrwb9BdmMh49KIuAyuWHFco+hZad31G5Rb5JxZn7M3/3j/Nng/uJ3+5t/vH+WEv/AFNchOaNLaN+p++Elf2n7kTJKXTXceNpHATaMkpEFeBK2ioi7uvcfoguw2f2TaqpY0dHMbrgKkVocHLrQiLKTgc7jHJleNDd0HOpyC0lX2FW0NL71RspsjpBrM7t0If4Cot0m0PlT5Whn9FxBsTlXCRF2kUI6kV47F7k8DJAsDLf0Iti+wzvNPpCHA0TT1gjjXhKIatj3pCfCIz5DFFffQl8PZHFprk31iIglE1eTcU9gSn/AHD9sJ/6saRxB9RhZ/cSE923wQMgpBou6dtQmnW244hflR5fcPve4am7D1i0c5KVCJyJvPsC8/7jm4g5A16IXaDw83qhrUZPKF/obwiWam/j3OjW77CXcvvoPeX1MSdL0kKm269DW04vwO21QS5PUdSB9geBDSaaUYuIpdEkQinAnKbt0SJEosTwPCb5EzfjKhomWxhDx0+R5ZNiCbKoSDRDtjlUyPEUEqbFlUimSOl6Er6zGIRCCVyodCZRGaFBdiLEFWhpUvwUfB9hIR0FuqgvhERHQS/+Kys9sIhCa+KxbjrifDoJMz0eItTeYNYcvC5mUaxPjr46+U+CGPHGOTZsZ2xORVEfxrHh8jeeGIaGtlu/Yqo3IyaylrgTyqT6kSW09phCwkJGh8MZGSO70WEy4hCE38ITGxCcLR5uEfc6EEuMMhr4LEEiYomplC+fH/x5x1F8qKDrKNDuQKwiHSaFiiN//CfJfLWb8YS5RRkNZRUMuET40kGh4ZOzvE2rTYzhKC20uiLlHTGhomcl3kjJFKyJkNIaE0swUGiCGaHjVysIXK+a/wDhcrCOPhCDWb8ZhEpPmi4XJMT/APHdMusX43NQmU3hck+Ca2VdjWFzltr4PDHh6GILyHKjgaepyOjYzTlr4SF0fcvgsmc68ksR4ii+DJxiZpVjphiy8I4LRPN/+Vz0HlMpfg/nETCKUT+Cw2kJlEylKISKW5pctlKNlGMuG1ioqnJHc8xHqjxjxDwzVxPDF+eFHieCJf8AoL88d1RdJTwzwjTxF2Yu1PFJ9JDpNHA8c3ivUVx9l+jZI/R0Z6H1vQ/MNPVot1Z3RE4bE7HFAk4DSdBLG/4xcef6HD+s3r/mP8Tgl+BFHb4RmnW2xecK6IRrdv8ApHf+Jc/qP/NEfjJ/Cf8AqiPD9B/iSPwH6oj8R+pFT+kn8I0l/hGn4TV/WL8GcP6xJ+M5f1lL/M/QlL/I/wDFCb8Bun8BX4ivwDY1PUfpjdP4C/xF7voG/wCM/UH4JFfgOj/kV+IX4I2f1H6IXw7sbaGktBdUO4g/96N396PylEnP5UP86j9qj9+h/m0am/50S/2NH96P2CP0w8z0Gz8R4Idj7gTb/Zifb7s5lIM/HYvw7Oz6GfpmPAqd4y34EF11HgjvFut+jz/R+iR+qRpjFz2V9Sjr7B/nsYfWEmL+0Km/5DzPZ5/vNKRNMIzEJ+sIf4C/FCI08DgvqykLroJJIDxvR4fo+rfQS+PUV/yNdn0eJEdkS9CIRNDR9ERThHiQ30HY/R+KHQek0IkiexorgWakilIMXwj7DGNrk/xQuCCS7EIhCRAoiIh0xERmKERCbIQ0Nf8Awivwba+HAjeUQ0FsmbhiEPHbLw2hMpMQgsxYpc6+E+CY89BlHBtIs5s+oiDZfIt5Q/nonyeYIaINHXDxGPY7gyGlyjEyRroKMadfRiUFicMmkdDikPqha+r+x/FwqvgsLEF8IX4TWenwbrwvhV8G9W20nQ++US1KppWLWyRWFo2kJ4QscFzyxDJg2N4WHRrOw3Jyo4sjhDV3hC/+Xc4KJK0QhKmnl7BVNwo0sqpfhS6+BHl0hRhn0ifLFVxJSyKvhIp4z40JCpaqIWXaTCWUbmJmZeENQ6Y4IQ9iBNPh51jobIpgEKot0bTRi4I7khMZcfyQ20vun/SILjn49MJ5mOPlDjDEx4pFp4YdWdADF5o6nf3s4YsOVBXuJnCCdExnjEm1H0SIcy4ZwfVEIkEI+2Fz8HyCkKLCExTXeCtPSD8/EVEiHWrrKC8X1aFJHjNNC2/i6KlrReUO0r31dE48mnfLo1aPa7AqehMog0mh2BxqNbgdXiQ5ou6HbSqjNY2HmxJiJBm8VXJJK+kfZ1eEhLDkbPoIbLouGLd+qO4YgNrhfccERH0mUPFeVi/BCXfL+KRyPk6xIV1uRO1noSi9WTyhj9YYxpjHCJvlG7RD1TFCltiF9RODZ9hQafVFT7khI6CxZiCxo6k6nbN+L+BMdTUcj3q7XDF8CGFqeEiFDQhEklwVdK+gatW73CY1poUvjtppaNqSU221wSwU66mJlPH7j0ncvCWET49LiSEaTdaSKIolE12NhDbB8Cj199wYnf2bubzxB6BQtQmuyMETKQvjodWpJdWUETKmfDSFGqhNUTTLdV1oujuqexPofRCSHScn1dCF+z9xZkiiW+Bv0p6KPYy9kh9Jn0HOny1EM2lQ0Vb0hXaN1RYPvp1MSlqy7EXkrgkNbVKpeDlUWvg8XKexzNwhnX40Q1K94LPMXQT4jQtCNWadcuBjsB+yobHBkhKJb+x2BBwt5KKLN0XeHlgs74GUQmhMqFxhFKWMoniouYRcNjYsQS1KrX7E3H/mvLGEUpt1TYmW3ZiQtW+yJ/3r0PGx3bexR8fxoomn3mpoYq4OAlIyLj4FixSYjqsJoTRSlUKNrCmw7lZF9PrwoVI23W3y8Ca7lxUJlHTRMVuNtuW5YnLmIGH6jaYgnuS6i7iIrhgl+QP2AvzB+0FYn0idp10sD7K+lPtBIYrp/VSgiX9z98OpdeppwSEHcBJEXbkZdf29DahbTVGqNtxL9sJ536PD6seZHe4SVlu7TwjUop/wHB03gb30O1JIUwa/LITuv2f+jP8AyZr/ANnieziq+zxfY+19i7T2buHs59J3pXo9kun2ftB9H3l/PF3IzvMF90I2tcovF6gihPXoduo6XoWpdhauncb6o/8AFDTwno/BCH+o/FhdYTlRDKQmmyimz9iJdpj9Sq/DMuml5dYPaQqg7ALr4iXZn6wUv6DwPR159Hj+jxL9BWVT0eJ6PC9G7a+jwPR4Po8b0N0/4GtL+Aal/QN/C+jwvR3fQfqDff4h1QbpIQ6d5bW2V/zHvMDBRP0C7IT6Bt4B/oH/AJrBeR6G7bekeZ6E+v0LvvSF3noN9dQX1tIfo0JX+KF+LXwLcZPHMAshjO5WSn2OoP8AdH7oT9fcX+YTfmJJqBrjC/eTpv8AmHP+wLvfbF2/tnhYZfjz9CJf+Ypf0n60/QH6E/Ti/Bi/Bn6xG3+gX40/XC7Mv6jPgda1rR8GjEv5OyC7QSDS7EnAiIaIsOExMx0jIdBJjWVCTDy1hPCEVzgIjEmLRtEkOW3ivnrBCTERIg9mjQWkXe4e2aRA32DXtiQlZjqvg8JtAKCw0hCEQXGNQ1hLEwlDeH8pmsRyR4JDXx4Oo9L4LKJiEEqYXT6XYrt3DwhBQj+NY0iOvMILn4piIx4uFi43hpNk+pXWvEon1cBPl4WKL5c/JvEIahHiiZrDy8UVKIbZext3Y2GMbGMNHO+omEGgpbUj6s3jyW57Q0L5CEfT4qiGN5XF+DyscYY+mO2UV/HeKMqOuKJrPUWEMS8yTaw4Uq12RCfGj4/+VOuEP5MYvhcwnzn/AMFPhW8N4uez+F+Oy+Rso4MeFCNw7sQFK/kmO0o1n1kJYWEIWbhZubm4pSlyhixSleU/g6LjFFm4X/xomUT2X0F8UUWOSfCsmV8G/hctfBYrx1H8lik+DnwSIvjc0vwY8jqfcx/VRWMhoxP4XLx/qi5iOCm0IohZZ2QoXFEzrhYeE81YTFsaeKUpSogqwmilRYj7ZRSnUpS0bKJlHM05ZXF+FRcUvypcUuaUuKUuFRUIo2UuNIghMqKUTRU+pUaYUqvI0XVHkPCPCPCPHPBIcqQ5U08Rq6BdqVcRj08TxRpa1PHOGlOxDkH1Y9DEEpa/oWMQNCCpTZHckQ1XoEMUvdH1C6zR5keQ8wu+LvHmFTk8ATeqEzqW6nkR5Bd02DwCHQLuofbDRyh5kLsB9l7PEFfh7GRdseMPtjxvZ4fsh/sPsxr/ANj9oTW/YL84fsh/mD92L8gKX92epHIKYeWx2vicWozf+aYu79M870x972Hl9hv59wj09xE17h0/vn7Fjsi8CUZlG7/MaNfxiAWIFN/2R5HoWXL0P/NMAURdbEw+j7Bfvs/asu2j9ZkCl+G/hBwPGD7MIryvSLf4H6BH6XKu8JVUWwKDof8AIf8AoxLf7j9wJH+gvzB+2I3/AKCRz7yfX2O8/Yu+PYXXTf3PEPEH2GUZK/wF+IEsP1Q/xmG1cfQ+r6h2/owLsR0r+xp9TLBy+Co7sW30F9xq9s5/IUNNrkUQYE1f24Yla/nF+TIf7i/Km3+0S+X7Cjz7ClP5RU59iL/0zw+wu17G5f2L9/Z40+5u4fs8T9ncPYuw/Z53s49vZ5vsv+Ykfmzz/eDo5+yWj/7Nm7eO8Aa+kfYjGRy/DCQ1/wAj9KJH+RKf8Sbv8R+oEj/AX4wU/wCo/SE/8kdb+IX4JHi+jwjwIXYQkuyIpwTwOdjQ14OR1IdxQ0XDKLgRyLWF8ETWbnMcDQM1LY0rSVC+CfxR3LVi4jGpPMpoVI+KiN/LaN0aql02xoqTexa18qi84omZE69/QV2IniiNiZ1OR6HRjIGuSzuwu4cuuYLxh4vfyhYKRwxMm4sI9NFFJNTfdiacjE+hRMrSExMTQvg80eFilzoGspBUuGx6Sk3FUpwUon8KxYWF76S+5tQ0QpPwlKUombKdB4oJrf1Ng1xSiLhjlasTcNyUacaOBK+GsNMUQT+aGb3wkppG5g+mFBcYgxbWJjSynsoniiIHcLOcdI4xvLwqq9DQrTe6Q+kGmOvtBMUaWLNXchGjOEJ4ovi08cMQZRk4UTFnYWIPCP8AoLogtI5gEzQ5Zd6UObvLELbNKJiejzRQ3e90KFTRehFEyiZyLNVy2UbxS8YqpRwuSid3aJOFRRvZ9eSMYPhENTwPguyiZSoSEIZJVtJDaqtcbN/kVUHTk7BPXI5BiOgiEGPEcif1LVTFW2Mt0+wvpiHQRw8WDeiCcUhTM01R5tmnysplKL4LDjyJyodZNbCKJMEjEUHpkS5Yt6q4m4ZRYrGbWJk2+wh7r6E5eBsYtDyVSfUcp5ysXRCpUq9DJUk5casGIJRMbyzYxITh4mGKkOOOPhlNCii1RfB02LU7qs2+nBCxNa5TMdr03AdJ62ifat9EhAxUjXDKP4UeHRR/hNM5Y/fKz3xo/wBVizwNRlyF+3B9KFknZyHa6xI2SUvIm5LGj7ACXUsqnBhXC7A58tHGU88dgrBYpoY2uokb3dtcYNEuTdIZYmPZ3RpwdFjmiiuoPx+i7sfukRFoD4Nj6u4j6tuI5bE9qpXBtI9kdU8m0iRtGi2ldDTb8K6V1TXr7fHUxD05kmIRtuLqx6SaeGhylmp9BMTwQuKnNCN+Rrd7oYYtLcNBc1B2I3zRnZJVbN0/YEX13E3BMQzuKqZV6Cgqu+cOMqxdwQ0WV2Upo9ucHCGZ3UVqGPeuKS2SlF3ZbYzS7CaxHJcIaHJoD6iSKgwBYhCy2PVn6LoiIFywRpVUExpWKuIOk7iqJRTarqNBunkKQhCGFGk12ZY6dBo0kjuuhzTvlgo4+AkSFC1E7iELa19sbou6OaBxJdl3HtfEmWJNtB/FbUiIhY5C6IV2OvIdsduhdhW1sTaoajwH9UJdvSSFdyYttyqCEO5ogh0FzdqNGi6Qigr2jO/Q6Quih2DF5+DhDYx7QxiaIw7RgVVv4QufYaN9Uw6YF0ZdwuzrbNCFBtT0tLQvRzgI0tlCIrO8Vmn7NIVSQV79Jw6pHy+7EhfDfQQf1T2QlNXWxGa8MXRn9Yjm7XPePZfA/AtP6vY33TlHpit5BD8mRliaShiMa4X0IlfXaPNxS8ssUrsETlXPdi8Sdw1EIpuGxJNVEEuLUItK4SvoP6baCiraRT+ggvASQSxSVqQ7uCohCZocfqbfcfQuCvoJUnNvRpre6OzUftHEkq46iSKHHF7LbI+v9BDMtFcKa6PBCpzVlsSS1KFSpSnSHQp4aZYdJfsmLkmbbvdLTT3QqqU2lfvR9+lo4Eo/LpREPtjZKi2ivq3y2JWuNkL1jeMXolFG5yND8XhUVCZCJQNPQhPaVeB4rTKjVF3teBayaspqBVDGQYvEXKFY08Q4e3nhHZPZ+0E3/YYhat7ECnuKKoR1W0yzis/pELY5DncPChmKnHXWxcWfq9F9Dk56fUW0BDGu5Wx5H6PI/TFV69Bwaa2T6Mt9Y02miCURxcIiMopWtIkqM606i7829Cn/AAFd1JCbXqRsDrWX6xZl65ojMl8tPYhuq5Kj7hjQq0i84JZ3TXojcusfrj9IPfD12G/ySqP3ETkzJsTFdbbHziDWVi4GouwPCJ8oLtxrf9h3VIRK9o4Tc5f2EIj87ucNJCQS4SaWwoGtSXYqFA6lDq3IhTKGsDPkT1EpaJYKtgTOEPFE7pPCF00Nk9IwiVUyUVitOGL0yq1Tg1XXTYu1XdNCFZJItCR1fpjg297U6DiZtKmX1JLFtoR6icbHSYtgk5NGqjIo482Lg8VNsvIwbJbQU0IiUJUq3yktMcsVG9FBku1ODQz7CNGlULqwhpxLA0lI9MJX4oLvPaOcQo9iNNaR7aQkvByEpFpTACZU5mZzP4ha7/EJtfzaxTwjDem3/MR/8WUOY64mOX9bFjtVtYTgD8v50GnGrS0F+JE7HYxUobSlUd0behBl1Tm8dRvkqW4GwmNVeZoVEcXb8se/8Avzo3szmfCEOX5YdKkk/kPB7C6jb2xtber9A0Faci4h/wCbZJT/AKYkyf6XR44k/wCYkf4Ev8hfgjf/AEH6c/VCPHrHr/4Gs3XvDw/QvxR219HiC7Ai8IjshJdj7IiIhq6mlBKRJL6EVOBoZBpndDy0dqG1hPxoTy5fVi0kJC2RYYxkQxoRNlOguLoxsmkPfdkPqHiftl+r2LH/AFx4WNUJW0JPqWxdqNU9Lg0ku0JMdCOX4r4EHJb/AKhfiB/ihI/wNpS1J4pbS9R+qFp1PB9G3geMdCBdseBHiLdEJblsgRMxRqJF0IEkREylMQQyFn9mjzwohCJBp2ZPIS7JTBKMmUsTH1OEKW7JNovUTNEJjriIhFiZQ9k+FzDSFohtOMXz7Z6FtbsUXPwYvimLNV0moX47KvSIpk1IJEqeii3eVIUEnDKvi0NWEGMZwEhqttq8jDasS4XQrOaLCRq4ZNj8fAVNF6MSIhMJ4WGIjx5wxJAbXKLhMpcLKYnsQmWpIyMQdWOGsUxCxCEGsUbg9CVOEcmPVQfXLUuDlaSmISvh0YXyp0KUZRtH3lF8e1AYivibgqjKaxfjRMpfhSofAxOun9kxiZo8tlH+HQpSwpV8aNYqOH8gZqJvuxNOPMGcw+STXNNOoclnO5US/pUefSCRvTysPDEy53FXyU2w8OGvqQi35SfGIJiKU7CVPoOB2TOiFDdHo1h5eHyNoJrCcM0sQTOCe5oa73GL8LhstaFS4ZdmIIQsLLuzNl7YYmOPlCTx6CGy7MKurTaIQmWyjY8FwusGSZ9kV6VVYLLppeiUbFcXss7ugmUiyq9hMbEdcI5oUQWm2+g7OPR7VaEllTIopGwFCVE2u1ngpdVQkXWidS6qEaSJ7HDZpdeguPglytW0NpJt9EcAbE9rdja4RJG0O96Sg11EPQ6wkbp0uGIU01x1pqXFFBWPtaiO66cqihzjlek9j6c+FEVMd30GVKprLYx/PQwWuBCkx2MuUn5NscZOmw9NI0EQvfX4sY8OZN0XKCbbpNj9nw65ahrfgafSYsag2SIKkTuJhdBobpNFXoWg2L3tyeEL0VNwY1U6DcI8QhxSW6LNCfDOHEJqHj1T9lhCJP6iaao2Tc0aKxMsfA0dD7LbENOXjMTFtWj7lMtrwNFPAJi+Tsb4E9M6QDC+6LYhEow46AvTheEuTjgqhVU006NCRu9g3xfjEE0YQG0e6EvBVES5IVVwC4ndletidELe8JRrGeh0NrdwnghaonkLCU31eyFZokRw59ZRJGltzIU0k0INGpr7Y91nZN8jGuKlhCmVS1tyTJNJC6vTRLBZuT0IGahI49E9EN7RonaCMSnDY4tS5ChJCQsbw9vo1ivoRfVifqCX2yvm1sLXQkEjdXY5WKrRdKm+iCRHSdYbRy6JyWJqFVOaIruKNw0MOO4oTb4Cs8pSlG4xs4e+EQS2cLRcvNDZslymRrLO+iw7eh94Pq9JLqVXIuyO8h4J4Y+2PENOIPsh9kM9UMtdpLY6thUSdEQJleJfgkLOifSPZ9woRCQ1zXnjqxWajVQinhEA9Kxcv6X2Juc/cE9vAPtRPl5bu2I7Q1rqaT6iS3fD6M1C9fhOy1aZxXRDF2jbPohoql4l7CKjZ2w9Dd0uyF2C1dcM4M+D/wAQjPqTbkV6K3CXa9x8Icora6zZIdbjpBRdFTssaGuFT9IWSELPFlqdf0E6NKrlpRU0zzUG0TyCJdB5tJptYUQmbLobQjkkV3Y+ptlpDdqqQuobLLMLehl0TpsoW5CHZVKNCmktrFy9z60dMNSeSO55karA9Xl0xlUTRBPQddDW0u46IVBSi/qJNa8bBskVdW6ScTb+iOCXsg0BI6DZpCJRRyO+An2eGn5AVQNsjHDT7us17l4LJpHR7DQtcGgkv1zWizwTT0LiD9yj9yj9ohy5+0Ou9k1eUIj7ifVY19UnW+IRKGkiaRzGhTdEl82sMSE/lCekR9xdX3lBy7Mjx/Swn1F2rIn7mn6M/Tmm/wAJxa+jw/Rq+NTgistBciBJp9Bd36HmDNxiWmrS6mjMjqPLwkaTFrRy+VS3pjTg0U7lscfW+tPI9i/bG0dkeIMbuHizdy9s7p7EnJx0ek1FPqq5I9Bs4HjHhiZ0nQKpJGkN6tj+9GrgXffoXe9BR/wNfg3S2aFL/QU2/shIWiOXIhBARzQhy+OBfiBmprOo2ZKKOM7PQc4YzOtHA1GnfA0P700o4J162lcFHe2kn0G1rQSaOMleBvMfY4zFrI9rbr+4/VbmFYbmutN1JdkODRaHwmI4I/oxkRh1ZZY3yJ6TS/ucM9wl2ewu4F+GF+OHf+geuesW6YzkEum3jgDRRlyi3bbo0QS13SCuL27ciiC7r0dz0fDZvugvjlO6CSXP2hQ9cnPZvzSNUUNJ11wQ5gn0okv7hq297pisk1w2zvAWbcpivK9mLufbPJ9jb4U6As0rk5YsKNIXbjcSnVeRea3YhcX1k1/Wfhh+sP1R43oXaHiQk7IixiYS2dSYgxBJ/GEWWNYmIyDJ2yk2sTDIQZzBIhENEJnUXwY9kGh6Lq+yxETZJjVzDb/UfrhIX9R+oE3p9Hj+hI6RLRbQR0kqNXAXbRPZEa0hJa0RdiLsQngSRERHBKJbREhwh095ixJThxSN+dilEohXVnuGIQgnJKdmhhUPsJOhCCWxKYm/iUp/QjWIQ4ENLKIQgYQjXUypTZBZbFlYYiFlrR0+MzMMmKazdfGEFlL4pYaHg/gsO0QxnT5L4XNY8MY410ocK6tmhBqdcUgiE0LkkKU5XYWq7MxTsLEKKCExNqvhD4FbWkaEBeqvjWspo1h8YSNCwuBrF2JPguPg3/8ABDT6D696xMTy0Yu7qEYdITh54SYmXDGo6ryxMXxa+LIQglPi83CWFlZXOFjWUTKOpMzOjY8N9is6YTz1wsPY1Jh3rhlzRtLuEbUsWsRoWhecUaKqrtKvx/YUUwvhS1bbGkKICUom+mGC2cXInopqX09jQqJ4cQmnloVwgnQ+DYhpNMpToPSo0Rts5yp8INiJQCahDh5oiHuoTKIuxuGuQjl92Dp90SHgxJCMDQUw3w4aqiFlMo0awhYXymW83KZbi44OiKJ6y/jsRfhoYh4TKoPF+NE8N5Y5S4ZoLC1U30WtLM+phTCky/qJVwOnq6BXDkGtAWM2RNqjFNiiN1TEcGbrohOqitWOzb14dRGjND0TTtzhbJAOcj/EkWWB1csQIxkYvgmJtoxkelYkurLuMnGn0YgatCEj4GPaaGyytsBCgsspgi45o/6ID1myXAqNKWVjeJf0FJ2afZjuIitjHqzuIVN1fAqcAyUXlk8Rn1Bi6W9wVhSrrI1CrutjgTS9OaO66uB88pQld64uCrI0b7i6owSaiSrYzM5tL8EX4t4vw38ac4Yi4YplFg0Ku4p3E0nKNO5HdHmPEPKjxvZIkN4+QBhb0HgEugfam5YjzP0cnPof4kU/6yX/AJjh69RT0vUL8ULE60jR437wMZiO6RMJ9PBpQrYmiaYu4T2jwuTL0Y0OQnyXjeKW/rDpZIUGqhy9XVT7DmyKKa4XlnZeucl5HvVZzX4RITT1om3yqZSHkdnvUbVMJKjvX6DydW10fuQdxdNk18Vy4TxcM238kb+w9bSlEXFuhDX46sFColdSJyhdoeRCryjzIZy+k04xtIRyn0Ck0Za1JdoZ8AKkS1ghDVptEuxeJhCaJLfsFV/kFq0tfVkSQIsNaQPpONoaVWoqYjYqG612gyy6pNoVqVl7sQrvSpHUg9wUExCbMVc6IStL0lX/AEn6oRC6OM+17hd97O1/I/8Adnh+z9kL86fvcIvEdASvYOBvX/zL/wCB4I7/APAit/wEzlvQ/wAdjF1BSuQWwO+faJfzE/kH+UG4n5KLu+4x19xftD7PsdWP2K/L2WUKL4AldA+yEZr/AKD9Ngpr+o8IXZCVuDxIaLoSOCcoRERBRjQoa+DWhojwxxSicE4szl0np6jXX8J3huixCxasm9mp6RrvAqL9s+i+4qcfZPxdTQiVl1dFarxF/cI6vMoneEK0/lEqXVCWVtsnYVfQRw/cVjdiRr/3FuSJwQCtakOrv7IPNfc0Kk/spaN2/wCBwVvRb/BH6bHuQtTjwzjTzhEyHw9sTe8KIfe/7i6vsF+fPN7nd/kLs+wm1EXca3GlG2Lmr2x8GvVnx9DdKfVvSFzuDZVbUYbevikeJoZTe03hju/eMS1pOOX4QbP8xL49Ik/4FlP4Bpu3bHxioQQ+8PCvQmjVok6KskJ2RBCJCYhCFxBDx0yvjBKMZCHQSHmYgmLFOgvi/ipB/GHURCfFr4sjI6PBbIOhxHpIkVd0IhHY5c4SQxG2dg2bOqHBoSmEQWOGRDQ7hHDDndER0Gk+gk6lRFiEJMIuTBNNJjRM+yEvSsgkTCRMpLKUGXNGxE+FE/lM8sYsL59Mr43NKI1RrK+NN4WEK06lxRv40T+HXPURfjo6ZY/g1rC9D6raOYNMoisomNDOSZbPvSURcTEQ9P4yZPEF8GsoaElRQQ7A9kVnihc+nL7sSII6EzRMon85/wDS5n/zWExHX49S4pcUmW/hSl+KNfGHGU2bxfhfhSsYi4WGlm4Mboiau4o2PbbZTK8JP2Rjpr8iLULgS53hCZvO8wgvlGP5IuNCNZuep0L8V+S+V/8AjSiKUbEc/GlL8IcYQhMryszEw/gvgh5ZNf8AwemIsKUTzM7Gyj6jHyMVC2rqmDY0+wrhYQilGknvvxawnLDeKXCF8U8UonhrDwx4omI7fBMZv53FE8UpSlEylKUpSlxcPCY2UpSlKXZSoqKhKR3RV3RHdHgDT0EeVP2wvzh+8P2mMVwa+gXZHjERfg6rXpj7z9MXe9CP4Hg9Rdr3H6Uf4I/RCr/UNfxH/kjp/wAGIWNavHuF1X9i/cPH9i/MH7Yd/wC0TI32j6w2cYP/AFx+rH+CHf8AoP1BXU+h9j6Hqi+jxvRyX+A+99Hd/ghjr9DvNBDUBSsTELL/AJo+W4KJ4sGxPBMpRM2UqRdChfgaGRPc8yPMjoQR6fY+xw37g/YH7oeK5o6TxSXQNZ8v0eZ6JNb9Br/A/Sidx6xX16Dl/Wc/6C/xCfxhvs4CXf8As/8AJn/oxdv7HeR7P2R+9x9CqMp7XC/pSn+B4vo+i+x/6IbybyryaafcOvzi/YP3R5/7nn9j/wAGLtv2LuPeGo8DwhK6DbipfhBfhD9QJRLt/R4R4XoSuiIlwkRdkRdkRdkREGa7YmXjQoPx8NDEiEx1zc0Y+MMfOTQ1k2lRbJXGqAK6gJnD+yn5C7cP80Ogk26Fp0e4lvgK0BNglfI7PqF+NO/6RfhccTej0a+Ho1f5EhxuWJWx2usXEv5hPf7hL19hC/3NH9x+wxrdz7mv/R4PYV40/ZPr95QSugXbYa5fqiP+BL/A/QHi+hdj6PGGu0TsROxDSGWIhLCTzP8A5K4RS9ilKsrHAh4n/wAX878ltYovTUk3CjeLhiKJHQWFxhnVLGif/F4aGMYrvkfyQtiPTEl2FKfR8HYfkIVJIq4OGLMyl8ki5mOg8Nxnb/5tFzCx4wGm3nXCF0571eZhnFXsPGqvsJiiF8OBv43FwsNM2hjvqkybKI5Gt8JDng9xCYCuELCzS4eLhcE08sitEq6FxcUpSlKIq3Zos+8qxrVJzqOG7QgqSfgamJJKtkbZcdAtIh0EL5M7E/8Am0NYY0NiORcn+YUNLV8ciSnxSo9Fq7LjT0LCZTkRRNfD6G8UqeEXQ78FlioypjVNJvHfgTKhpiixv/FWV2m/Q/il9EyRaM0Fv1q5H1YrlHc7XJEx0xM8M5OCsqKUQ7j5OZ9EkNkldlSCGpK4Zxw3RI8mhsYQhYsVNQYll4hyS2muw/tKlbDkR71tdEapSjlMTqxO3ndj8RpsTZSjpda+w4TfZEQUSdL7YYwj9p0C/oTM0vIj7TTLU8pEvqLrFXvingRKiG62EvoU6ciO506uwQXu1X0F+2+uETDy7F+K4xq4YxvkbKxjKSIDomfrYqyP7djZMm8FhM6C1ohuZYWEnhPCEylOuLirCZTbysL4vegESnAbp8Diqw9+JsZmjfIsNnsn0PBvrproEsIaTVoqIEvAgItIoKB9zSwYo/do5vmhIQkLDw8NEm1WU065SKmxtyfdCpTGIaebVCSpv6QVY3JsRep6kpNU2WkhbR6rcJcN9BOKRMqfDFiGoxIljWEPLHpuXHsac2+XhIkEngKKM/4qkda0Sg/gnYdC4GLS7Vr6MTQ0mcmCfDEyoZ+BNSi7tQR0xbp7tK+mSJqpJNdmsUZwewZCcq9hSmyjXJNNdxU04tBCKayx2KVlG13F3Bp3LRI3yPuIXeR4h5UPthr6Bx/uHaP3H7ATMqgrbN4KsQl5FcM1D8hhpi5zS5omLCNjymIuIOiEhiHyM2Nw3w0Ebfm3Ir3uAnjcpzohtRD7CfX+IQ1CW7CUw/WnTh1MraQ86EAE70EaT22SKt8w+pwnJEIQmL4uCBwVRYlRnDrtIZiEZI6aE+lijqvsUcBDEjaQWOhNMZFEhg0a9hG5hyQzJMiXCPFP2h+4O57MI+2GjowVzxjpm6c7I/ocJ731kltjPXdpULgf2w3Va8oX4Unp6jkbh6Fign2F5RuLueq0ghsExdN/ZRu/Ihsu19i/NFJamo9jkjHeleBx2s8MUo0EVnZWZtIOULn5gEQ4W9No56jrZ3U9C66+jRv+Jp5+i/Ud0u4fewyu/wB55ewer/oURO4T9qLvFs49mfsGOXL2f+jHyl4G0yDZ1NnTlzsnrHtpWVFYQU6B8DWzmuX28TFKXQnS4WxlRcUpRsTQkXUjuT3PMeAeMeAbi7AfsB/lhfkiESRt9R5O+bpC7Sevq2QE0fcp/gSEtFujlEeE/R4vQvx6xr49Zf8AxJ/EPkWCuyb6Bef7F3Xspx/IU9J7P3RZ6G9hvGFdws0yDqjotmhW2ryGh41RO6PWL5J5HoXVxbQ5fJy595+3P24uv7Sn5H/sxdh+8RJ4QXbHgHgCE/QH6Y/RHgnhC7SF2ENeyEroRCSIhwSJirqOSuU0Nqe3DgQSIiE+G6LWZ82TRPgvlBwbGx469C0iTn8+xQiFd6JvH8zxfZ04D/ND0v8AnOFlYh0XZu6Jt2EfuiB/Vi/GEOn0bv8AAo7/AIHko/3piUwdBXgIL/xZ+wFTfsNL/wC4kf6nc/kd5P2JHR+xfs4aQtIeEeGdpRFK3oihL0T9AfrB9v6PE9C7Y38BdpEDSnAkhJEGvhogsPwIYikQurpQ+32ElhixV8ZmCuFnr8khCLh46ZYkVRfdvosQ4cULC+bwxZfwgyY2awvk2VHIbGay7FVYhLFFznuOo1MmIR0xysU4yjkRcvCQxYWNfLWN4SvzXxpRPCHh5qD1B74SaiFaD7C+K+ceKXFwi/BN4XyQ8Ig9CBIxkhERzwD+58q7hPCKhZpvFzSlwsIuegnhjGNjeyY7yttjF8IinQafVH8dhFE3MLFZS/JwbyjZcXCENlcKIuEXeK58KXLG8M6FE8UuFh3fer9Bk1aqhXYyXyXyoncUQvgsXN+LYsouNri6d0bAehvfyQ2UpTlilOPksrOhPCZSiyyjxzaxoxaJyZ8YUf2Te3YQQxHOKIcx9DjKKITEy/CwRRsRS4WOClL8Fi/Biz1KXYspiMJKn0Hfc6dkIXxpSly2IbKJlKi/CjYnlYo3RJ1KUpS6KNjZfhSlGylOGW4QebFHdHmNPJd8DxR9RRr/ANsR+yP3B+0P3gzPHGN8R7YduXof6BscXoPiXpPx0Y6slRGxtc3CWWjQr+GEIhwI6YRUJ4txSrCWExHUogxZQ8J6FilwphsYtCx0w2XFIQpSkFw+5SBPCknkRPdHkR4wyv2h30I5Ix9oS6cVpHlfo8j9Hi9D9OfrSHIaYUGin0HPM9j6P8hdn7P3mCeF2t0xW02Iefin68ov6TwPQv0z/wAEVu3o8n0Myp9AP24m/OK2/Yd73H70VP7z9of+jG3p7HjfsnNvZyf3NBcD4x4Z4QgP0wgP0hw6+sJyanZDwiAh0wKzXka4FHDRSspVj3GJFG9LFMQb84VZJruVEDaE1g+WyRd48iHXgeCMhc8+x9j7P2g/zggujB0oGJ9Ib+X6P/RHg9D9CL8OfoDs+kQXbNN0DAfcez9keL7P2A/zeB8KfWYFAL8cePj+fkOQ2iC+73n70/eHnC8ns8b9iEgeGeIeMeOR6R9qLszxBcEC7QXaQkiJEQsprDfwYuw4V5OOMRVTQmX4JGh56assHvxFZwgMQsr4IT+CxcUdGKl1H3GgGymaCba+DrRzoPL9ih/s7P8AIr0+z9gdn3njTgehwdobVNiD/Wn6c5v+B4PoU9qP/dC4r9Y5eXEL3TVNu+50/wDQl8+w2J/zH7cvz7Tz+x/6M8D9nkeyQ8cn0HgHhi7YQC7Mg+AuxF+APEOvENewkkyBjQSEEsrL0UTLhM42WGmaxtyVxCZS4UEyiwhFw4NCvUBacaJD0LUyhfBCSiS5E0n4DZciazfgjqnankuiuV6hKiaeilEX5UVVtGGJIcHFFho2dPlqDLjhlKymxjYyQ8h21Kbs8ISEh6wppyJ5i74UhFs1B37SJDRRibZ9S2PBAxFLhKMb2UWacZTWLBnXCtENDq6kcaDKJkHyUpRsXw6jFlMbRSl7iw0PfSraE6XOr8jKeoTZ2Og6nBcE9FEW42yDH7kiEKmrwxplFE/hB2pfL7CFBFpCS5GERJVia+piZUUuN0e9IRFdGuGISrcRcN6E83KU2l4RHiopMc0Vr+ReO0S+KnMxwShIajJhp6lGrVJroxPKN+6wULe+hClrtIQly1rOr0+ghN9IrjqKkFVILi2+GyjUTVUjZUKgk5DLQN8awxu4KkVM5FhI4Q6SotJS7nF8BGjw+xubWT6srvCZd4usMhke3kirvhYmUIZMMhu7JEM7hfUSUQ6VtNj7ZbwoJo38EMbgkfBS4bLRCmpXuKoOhvSE6O5dCRqXWhCiE1cJ9lB99rGThoR6xcMsLhpyLUW+GJwWFivJDWrQmTSh8n2R3gSFHjSq6CqM74omJsTGO5kC0S3V9B6EfFDjuTNOhckc8qar6D3b8vY2n6vDyTXl9PlJiS6fZQwp6rvSKp1HBg5P7CbXlfohOTE9PrIJsu2y8C+EyqsT2Q194bJdMe1IvphbUabV7nEylG61s5fCFEfzT4Q+OohR8O2gsdRCKbI4t6J5Hdk7lfQrTUsj4rFa0F4EKWod31Ykkq9ruhERKntdUxfJpRTqxkqdizKWz7MeRuVt5ZND5xb7HBUyiy0MvbhnQY4RSRroICrmV7ibOOouCouiiYpHKKjQ6kXA8CCwmrluHEgtGbVR0HuogTQ64HcnhRC0UuyFlGTfFGiVfRFlKvYlKtxCwyrCwhgbcSW2MxK9heSwtsW1KQ0rT2+RNODpFNBCstdPuY+zlJdhC21oUtaP5J4qdExqm2NvxGqUeyjkcGDsLWi5W0XlVciu4r5QzzXwLux51XPQUxX0HbWthTbSIhlr16Dmxu4Xwq60+WGyJJRBb9FD19nGLk2sTRlvRljnVJfcbjyr6shuo22EIWFbe2IRUaC/9AbuBLZiOtcyDdXSq9sSxOUM7CCesUpyt3hDlXNQTikSTYyk5djz4WGvI/7l1DGPhSj7gbYSnix5cRiQq7l7ilVE6682OP6lJ78COzWm4FI1ex71FcanDJC2VK9ihURR0bC2vwNSJPsMXSUWGS6DfIHU9UskVTeJZ1Fmdm3oU21TRNdfRpUrukOXJpQTW6OJ1FS9tbIm1CtLljwdMqERSKpRb/0E9X7G7hPY+29jXEkmOMRibKN2ORSXi6Jxzkd/A9h5sSfLGRptOcG8NIbirjS8s066UatxOXGY1Nncb0azRO/uGp4ihfwh968Y1QhZ4FpJXiQnec7OiFpQdPpTdeLR+oorTqh/XcGz7pxxW2sMxrGLybXQqq4q9CaSb2IJetIUXA1HVi2tITFhjy7lRHS0CL033JTu6ECU2tNIfVsaTPrFUSNfyFv2xL9o1GQ7ea9QtBwkFrex5mAmlKiCaHydJgU5x8LqLom1WOnJrTHQ3NBAhrY0gjFPUFkWr1E9IL5ia22av2x4giotgngg9y23Zo0jajBdgITkySehYqtlwMZza4tGp3XLHb1tqNEPSRE/7H/WhtVPYoqL7E//AEGNRODXIkiotVVtU6ai8A2LiFLhQZOs2r0P9BislCJLsjoUOFJPoh3BEtgoQ6ygn7Sw73YT89w/zO3RC+i0lEqODFPyQi4fIvz4vzJyu+x437G+Wxt6D2Z0oF2wvnelQkSaMdk9wlf5n6Q5i9R4mOi+J4ZvWh4B4kQDGFj8GJohIicEuiENPERRBoaokI+mNdjyLHC2KGjy6hxoIiPRxzmW3JJ9VB1+8gmhOwwUYkLA9dY0QlZeT+4gsacpN9mJF2HI7Tj0wa9q3S7ikmBeFtcEdzzHhHi+z9kVkmifHRncGjUvDTiRJbzT8vsQ5QXILP2kxGNmrhk/OBHJrTUXUK7CBsXstwnOuWJOnqE1JBdnDVhDIbNI9+GUKglHEXSOrSd2QxO2rbK7RKrixrakV7CWDSIXqSa4FUWjyhWntDqwT5Qzz0g4xjOtPyMowEtJtG9lykugqSYulYbwU9piCRpYJJpIVVHHULtBdqhdqLsjjy90Le592LtIhdCKCaIQ9JrT5EbUKS259jg0X2IsaOomJr41Fy11EniGsOFxw8rkUg4aqLnrhP53Gy5kN0q4vqyidwx+ptfcrHl4cNCB7Fun2fvi/Puyat9o5mkauIlpHC/GCgs5aEEUkpwb/wDI2yjhX8BsjtJ9C0anqD0iR2DfKxiSCPai82xQsrhpiKOCKfKrooHHOaJF/sxJXD9mrkIviEm3ISCdnRb6C6SKiaRcwn/geKS3PoSOkXaH5G92+otSShpdkREEFsJY6Zg8JEIN9U0SISwiDSZEuiHJVrgivCfKCTNKPe+Zu3SaJObVhxBNYSfyj+VEXCYssQqtjLDQjj+cGbIKjtT7oZ/biebisvwqFVLU29PlCau6GumadJCXa02VHgaTuxtcNOF4OBmhDG2Nm6xJCQkNK6OSIaGaf4CUbyVsRFh9xJDucsQ6/BDl35ezpBhETcLCaTSTEJIaw0TK+Ew0QaGjjLWNiwn2ysdDYkQjEafrlRFFR7IJfA0bh9C1UnYIhMQ68lSHO0scQtTb0a0+rYrutin0MUonjg6Ynw0aUKNXDUrJeWI6p/QTYui0xcBNCVHdhE7t0QphfB/Bl6Bf5z0JHBvGSEIFnYuUIdiZfi0s46ids2RHLEvDeoqzTbvEHp9Iq2aOIVk5IF9hEcvNGm38Igpix0w0NlGOdi9kKkxMOBoTt6To8lCR1IOj7JV76j+TlJKU0koh6xbWI8XUTa0bNl7aUnaCWKspBnGzRfClysQmBq1WyggkNOiGpdDdKM0zkmZvi2zI8IQShMkIMaEiYeIfejbjsBMwhy0x4HHqBuaLuUWfR9kL+uLR0gWzRQZkiOrXAnpWytIdrrOowhP2ITEXLagrnXREOzX1FLauX0Dw+29dxnPA3HCFOhS26Us0aUGXY2AmWz5GTi/bEA9RdsWwRsrKQKrofTE4zUY00K0anyFgkS55DgJx4aGwlzkQqRJ+hv8AYKM8CrqQuF3VW88siPkxTUz60tv6HDpqO1EI5xQcbUM7NdHRrhUhBLqpiH0JPJWCOsUdqjGKrqQUOnrULHM8scICUm95YhvD4Gh6GNV7KT1X0ILOs6p8Sad1/cQphHL0PU1dXVCwtI1oRD/jO/acVpcq+xC4IIeIk9pUvuR61LZexSij4E3qX1QhqdWFlIiLinE8ZCH4v2Gh4olwIGi0bpi6jk97lu5FIOD9NnO1ELgfOKOIXwvn6LuJW4/hlC1tQh+by+mTF9wsVfBAF8jjNLNLTQtLAsrDFuOEqJWC8MYaUWl1bFJaSqfULSEizR4XURK+BVtuE/oLE6p1G/x9YmLKKafWFwtpIhDiRIPe45G9tuGthCjiYtKf4kPyOCK20M3Xtiia2aEIqKsJR97Iem9I7oF/UetNFujURtToiNdSSFoTYkkhMakdD41Mz33o18ody+P6DxlrqGSJ2929iETi8YYfP+yYiDd5WuqKvC9DqIxdhwNS6VYQX9Qvww3GVUmjU1YPBdy6iERbLt+BBE4V6aE7fXlLqQskhr0NZT/wY68B+6HefynjfuNPBddTwl1PrFsqeoJrCxCIZDQ+0T7QWJdEhyBNhUV8iKI8403ymNVGKXAxIuYiJHaNGXdEN7cqEsLMFuvsfoUWM4OYLSwiXoo5T1QX3nS2I2r5lo2hNqxLR2LmjVmF1a6U4lkbG4St1fRiE/Ynlb+CZRsuqTxZE6zS9FUeGhqPw+pnWj+cFaUwV70PCTYqburgPCoPCI/7H7gj/timU5CKIIIfCh2mu86y+Va3pndLNBeEk7CaPbWtCj3ViZqhW7/LQo6yOqPYGnBLufZo/wBiR7o0OSjdbwWpsUJeG25LyxrL3CSGSpx9yIqsQattt2IuFMS4RfYUkltBqxcqbOlx7h3P+g3pphPyJfAnSjkkhOG3TaTWdxdtfLHF23RijdnouiNoM7q7rGSQS4JxFjQvWvtTgxvu9i/EEeC8AfZQu0LKNYJUiIgaXZCCECCm1aRVfYKEklEkIQgjkcYYyjiGUKCW8JikFB4qATf2URdpQeMuwhSNwkXcY5atov1pDaRM1a+wVdAiNBIwttj2FFShxBNaKu6E13Re5E+g/ZE02V6KgFCYSLjoOKK0R6HbidG+pNKU4Erp3MSOk8Aaip8vRPq9FeP4Hh9S/HrFHTXRrkRUqPiuRuqSScECSdeRZWTDf+jF2Xs/YY270fAJdxQK7P8AYY/wHAmd1NKNo3cJBJ5sjqNVWrYKS/6i9RI9Njamq4ElCpppUb2l5fLEupq1yLvBK1jV2Iu3PHF2B4IlLj6F2R2UPAhdgNSDvOBFJRKEEIQQhJhE0IaIhHTFCRMpiYfwhCYiIIWFrOrBJE38FrCIIZND6DOh3Yg8ODQ2LWVev5iutPZ4/scE4fc/YjY+H7lpDRbh1hyMiVNv9Q7f1Et5bwI9hcVDdN1cNIpHO7iAiEh0rTqU7xN4JJZXliWiRXkvP+gl/wCp0r7C06d+p5nvEXnDXJcESXSaai8JnHglf5EtpBHJfQLtB9kLtoXaEvY0VCIciKEGJhIhN4WGkzQ3baTEkTLY7JMEUeEQSIM1ENxBNizCEGhIYjIJCghMQjWZYMQMLBCYg0TBIgllLCTEiEeFzi4uHCrWN4pR4d2NJGU6MY3gxvsXoJMRDWEiFc3CYT7wIRVh/F4iYhCPvh+RPF+MRwLgKkXeFysQemkWxYmWMYnwU6CxqZRcW3VE9CYvgxRPLTwE5ulUVCYnlnboIJzC+fSCJ8+gxMpWJ5h3ETY/i04UaIn/APGEzsjx0LseEPDo/jx1HsZ92P0yH3EUTQ2ohHh8iwrlaGbp8jru0XYWeo4nlFZ8Ahj6nXQwhCwkLhspcoWL5EM1cUUGIcy+mokL4MZHlPgZ2iR9mM6bW1EiaKUT2UuGXfNCCZcQaxMXpIynQUFnyyixxH9BOI2CEJji9wlrs12Q7+naI0SXMQrSSbuEIr+LEUuUy4Tzctw2G8JlGUT/APhcLFKITLvLYnhlKVIuYJvwM2b2FXODHEJroM4AkTRRht0jmoXyaY1yB1GUhHQpRsrE5mm4WZJFkLlGarcouLCEc5HfXyxO4ZUqK+HSrNKcSVTT7CJCx1E8noSibWiEyN6oXkWNDz9WinwxNJ6ujgVB6dXItPtM0KZ1pieAS2YTE2o58CbYj2tBcKionAsOz8qE8ZMiCYsdBWXzrQ6I3IRWXKowm0l1jrVLndEi76oek34NYJOIhBRNpjGlXQVrglIiLshCYsJ4pz8Liv4XF+FHilKUbIPMh9oeIeCftB/kBfmh/kMNp4EugXb4fmejXy/R/wCiN3+DVr1nen9CnHrOmeobzXrwDllTl0H9nmez/wBWQkgEfIy2mxGydGavDUw7e9fQuuWntxXCRcuD1XYS3LuwkdBq1evxTpEKs4cWWjZAKthFoUYeu8RJAV9jFCKLkJuv6CmsfcSDE36Luxo3vw0JahLvRbaTTl7+cLCGdCR0SaGoGOeYj6OC+BsTKXQztiRXOd0ZoSV9AbS8+lEvAuwlL1HwEawOsxS4Cdw0zoCSTERxJ9cRptUITN1BFRI6nfkWs6OsU38koyMOPL4DqkkkSgPYRH1NbotXbVUoprkiGA0g6hNOF2x3+uJnDemf+CHzz1P05+GjToN1Q3i4fSb2f+TKPS+yy17hfkcZe1ReZ0/1l/8AMtz6j/wR5frHNw648IX+Qjr7j9idz2nn9iPf2Ltv2XdDKlLgPtPhCY/xAu39C7P0eIaZAu2ODSJ2I12EhENo6jxM0SGOEIPYhY41yJcaoypphBOEFRRM0U2f2VHB1iThtISb+38YsOG4vY/lEvsZVN/SMbRj529CbIoKr7USiI0E0JqmhU4aQjRb+o6d2lU7o0TceGL1ErwzfNJu7dNFBITVr3EunHKO/cQauJGf1lJ3GpZZomErHeKmzzegu76E+nqcD+MVVLYlE1XRzGI94NnWi0sXmDe7N6mMO0yMYUbP6hk2m91uBWKLXDQ6UQUqIf0H0l5THmpjFtUvoLrD1Z76b19R9z7HXRwlPCxEZ5ViTf8AzFxlHjYhfiDxjxRL6DxBdgeIkkwpmYWF8FhZXyWL8Uy/BlE8W/FDezqXFeaVig5IRbvA0lky0OtCRaXB1QlRox+DUqC1QuJIEI+g50f8ij6fuKLDjUKvTt26fvRCO+ijbpLHOaQWlsXcMuKJJN6GzaarNEEE2kEnHeE5LIJTaHfcuMXACdjHj/cJMj46oTYXhKwf1OBSEc6dHUCuGmK6Kn1rN8Sm1i0roEugjslPgJY8jhiial2BLY0rYR4Q8I8CEnYoPYX0RJH2GhZZIIaFi4YsQgswuViYg0JR5nxWV8FhZb+TxRl18aUtwxPFynijZcNl2J7w8SiEcFwwdgG6NkKNDTEQLkRpYZy/A5p1/wCmEMfBWJETUkHdOimJJJCIDa4ZoSILCVG0J0QlViwiDJlJUmW0Ugj98SPD5RExS46icR1y0T4Uvwoi/KDTzMQg/wD5plNZXyvwuHi4eGXCxxlOFEUoxlLhjlLioR1ENlLo3RnVjGzsNB4+cIWmRTFmL8UGv/o2JiOumJYWUlbh4osIbxyJl2ff4UuHyaFt1rqNWmj6iNImuwLX/wAroTyxp4mNmy/JPNKNleaXWKN6WLiopcJlL8KUpcUpSnBS5vyrEylE5mzClWKcFKXeG0XKYmhPjDcKkUiHHR6G/JUugs9Hsjx0OmhKTDJ+0jdj7sWsdMOc7E8pLFKdc8DwmdS51hMbFv4Q3hiKh4tE8NjeE/hdYXyRSr4UpcN5WKUpRMbo2V5uFxeDqVF3ilKVQvGxoVdzyIT6DxvZ+6P2h+4I/wCmG1/3HeURrcF956Z2/wCB4PU7XqE//A8PSf8Aksq76B36/Zqc/mJk09nbT2V49x+5wdngvfmht+fSNL+obeUX0Q/C+w2kqH1HjfaLOR819zYT1x8GlvCVvMhp9/8A6IQi7Fjrm4XwuKcjNYpcLnehspcovx5xoT+CDaRS4bLhRMpSlRHcg8w0dB4vsa1/Yftz9sP86eCakP8AxTF3Hpj8/wCwnPRP0hxcb9sAi/2Aug/sX7Z2U9mrXtH+RE36C1KhI/rF+HF+CGzn0R5XrOr3/cfuCvyHeZ9z9meX2PA/Zplexlh0ngiGgSzkd4YuzPAIXCPoIsNHA3DnHXCOgvgyGh/UZobuxl0OPSEISGhj45KVhJ9EvAilRCxSlQmNicRTnCKUsGx7ITVKh94VuUeEI9BNf3Yxq/0P2g+1HZxrfEnidvL9G/8AwfqTfpv2F0vQNnsu2K6bTb/YLoe7PG9i/PE7/sJ3TPCK3VBr8Eq9o+wuSPR3f4i67nfB9U68+4iR+w7j/uR6+4v3BWCWe0gu1EgP1h2fUeOeN6G7oNXCIGmGxNFXYk+UIQWNzDKVFGPFLmitKjWE88F0ioTGxcQ+RKQz7MQNG9RUOhFwil0XfxeKODGNIfP/ABiftekS/jO4WWyZEnF3eRQpnB9c/Z4vs7S+xN6fZ+2FXGv0mNulM/zP0QrcPWP5iGUn5gN/lTaN+0a/mP2J+wOpfYfkFXh4C6mNXbCU+B21EjhTfxH2Q+3E+gfYR4kRIQiGiIchMz4MrnweZBZpRZfyc+BCEvDIC3UfRD8xpIrdGuUJiF8LoTxMPFKUbKIuLivthOFx9SmmImHSczDkPmC9rgLO2d9lFHtpoQCnvV6Dr1JFeh5yFVPBqiWVhLPQ38G+CjFaxTRIRIaTXBEQX3P+YjoRCZ2L6/G5bZCDXnGvi3hYouTqQmKNlEExBvNOg+OnUxAadTPuKnQ9BO4Rlw0XLHwm9qJqJixBDL8W/g2UTvwefURx2JlDRDH6TRYL4wiwy4eLosELlppDORfZ6HiIbghTVNeBODFn57uD1IgkqNfVQSlaWj2sxYbGtZBxN+EiATjloSy3mrYl2Jbm9h4tcEY6NaWysXY50PbnI8eREmI4y12EvgzQ8NrLaH2T7iE4XCuKHvgc5HGpr5N8CsKxFHoRdr46+NxM9cJfBs5BUvqd4eFsZKnrTGK0PCNI3MUoqMJ3DN7aqHKx7N2Qprd93JVc4+ghwRPldhkkxKk2tS8nKmxdO6GJHIn1RSMTWE/i/SJCg7TWLb9FRNjFJU3ejnJ8GjoF9EJr2dsv6BL+hEDjOiiRkaXlQVglez5YsJlFlixxlwRlpx1CqqpGRdNFSCOrpvsi2teBnUSdTvX6IYtxZSZWrS/bEkmVU6DZOhImVtCFTuFIJL01capxjyhFBI+iD0hkj4cjdGlYhJzpymNaKIKJEhZ9JRKcw4rvmjZUPFHjU5KujGxouogfaHjYUqHiGkxtHbbL+PEhTC+SHBMQ3RYuLmwbuENiIaIxYaGhU5+IaSb+4X0SVoacFkj4ChJEcGlgem5wSDopvTGdiyNkuncNH9E4jZ+CEhi0HCdSLNc2Uj3dIdZzEL+0hY1iZSNuui7lEuPbSiGWHpkRqkL66LpNK19SSDZxJti4z9E7KOwc20SVbOACifcTC+NFmobWG0a8Kusild3EPhDS3SfQJ2q+RwXEhNdWcI/ZCAMdxDH5lKLTRJFbdCx7SNW2lGq/rsbxxYQ6FE3a9Q1U61BM6z3CGhfc7ZtZ3wjOnpryNYQ+5InptvgULD7igl/OJjfZLZ2H6sTEr6x/gjZw9Dc9/wAS/V6O687htnJtPzD/ADY3vk+4vL7FAoTCZTgShnn04mXKeOhwT4KkxcV0WKXNmLsuLrHI6i9xzDgNDtNbUUz1KJC6kp6KChWPjvZRE7pfAhOt3YvD3E33QJlfKo0KOiUqdv0SElEbcDRG3DQ3Rz1i5QuJeNCqGaCVISJhOieaPyPwq9USra0LklEroEpKq+5/p4oLZ3ux9yjtLu7dEBHoPO9M5D66Jl6Grw7Jv+4hLXPWjkSVqdkLoii+z99o3acPi/6KcKLdIPhSS+H2bf4s/VZQz5XoHyicI0lXVkQkb45Y3Ov2CW9P7Eno/YldfsSujJVLj1DqSnrY0/dPQ2H/ABC7E7aEdg1nCEmmkJJTSGt8E4HjSG8PCQswg0TXwbwZA+T6HilKLDeBfGvSQqFxhopRsqw5cJrWKMty8PFGamFoJ0qXUhcoeMOXEl/oLm04qRHs1wuRjWSXVHIH2YI9+A0IcfQIkJP3GhT59Ga+MQEzg19c63ol5HVwIQvrqQ7aHTb7oX7AuX3Mt/oUjP6VI/8AgxO/yP0p4fo6jL9cUBdf3jDK3s03Ri2kXKbjQ8rfluBPp0BBS+gXfhfgCf8Akdv0CVx6DqT6F2R4kJdgohoiWIQSIiExDgWVDRSEQhokw9YZDzRCRHZRIQuBFExFxRlLhjfGKIbRS7uUIrw+DwIO0c9UhGLsBDpEiangjpOZwWHgta9l5tgSop6Cv/Qcf/AS/jH2tK8AuYdemFHLFLTezd/s8P2dmfcsuATxvYZ3mvb+h+rK8+gXZ+hNQfc+kIq4q8Y1d+85K+wUa/acX/Y0K/yId39xTlCuErUQS+PSL8ALb/wPwI1CR9hdmPsISJcEdUROhFeCZTYsaxrGkQgksoia4G59onlJGmasNENL4dMUv/xqHlT47wsnSMYQRC8t9Rl0qzhJG/LBUT1hMuJk8PFR3xcdiw5wzZS6hcN8DG8MXYXNJ2MtdRdmLTr6OpA5PTgeqkXBtzSPRHYSEl2RCItYihvC+gh/Ey5RwbGhYXIkXFxNYoiYaGti/wDgxSkRCbJClWFhFLhuEe9RiSSSL6SKxc0pvNKJ7wijZr/4J4XwfBSiELCdQjg5MO40aRSl0dCjxS4qzwF0xfhF0JoeLorGXDeGncU2LY4eNib0JyeoWl7xE8LnG9FLlFKhssZvMuKI++GkhcjYhuC38EoXYhCeXh4Q1hFdwlsui4Q8IaNixzhMOxcC244EYV30FFJxBIgxDeUO5nwsL8rmqFLMKUfEE83ZSlPpl4RSlKV4oxSjdLClRcUbQ/Iq7k90PthDo9iVvsESW6BsfE6oNPd/TELMN44Ysl8CmhZo2UW3ij5N418ENjEwnTgbpS3CLhiWUV04GylpRsTw/lcUTGaLilyqNSKmPm352RfB5QzjC4+F+FKUbonivClEylQmMNruka9ohqX9xH/Qf5Ah/qNHPuGJFcBm870auPU7AOgvWfoDRouyf7A7P8jxPZ+0H0klXwht1UvDX4A8T0f+iOlR12NW6dT+4XW9h3veef2H+QNhanQ02JTVwHD+o76PFQm8JY4HQ6KlO0T4wkKVQoirLdK4Jl7Fea58OC5qRzKaIhoog2UpRYXGGyiYhspSlzWXPCHilQnClLopV1wTLClXdDTyh3fcJf7IaOfbiGsH+kzy/Y1/7HbeG3gSlr0wvx95pC6TC+0o8GE7p/cpP/dFOh9sUr+Bfr9GvYpx9/3nk37m7bPqF30T/I/82R6Ba1IkcBL/ACJf4nWXoF/nI8Yi7BJLhGuxD7EIKdhpDRwMISk4ao0ibFj7EIJIhB4cGMb2ch4TEynQ6wqGUZwUTcvaMUQoU1SlaE6VDoViOw8prZSl0JlRVSwbo2qINoTXfDQdQomNjI7k9xoup4Xs5/8AoT/3RH/U/dE8GPsj637MeiP7GP2gYZJ0d9hdM6cexFFr3IvjBbpfdiZ0/Zt0fYnf4FP6R4P2C777JG/f2EhX37y3yDvl7rPvF+YC732xdoJH+YkcJ+x+qRo/qEvo9HgRPBFOCYaxvCwxidaISuLhoS0Txn7i5x2FrbPRewoJiZSluFMVnJEkhtORyjhiytjEZWuEtFV8LYSE4ysQBJDOCcGVi5Rs3C46Dwa+DLoPBR31PF9k2Tt/YMxdNVWgySNC7A8Id+XoXffo0t/8Hh9Dx39B/jcIj8BzhJjTxTksePpuaqv5n/mzwfZ++H0PeKYt64CYNufURv8AMb1/QLtV9hukf0JnLehdYuoHuglBb59oupD64t+7Zr592S6ezFfbP74STihL/wAjhnqPwgh/kLs/QuGIjsRCFuHIYuMNCJjjM1hF+Fx1Lh2iUx0wylKXY86ILhrf2fG4qGkJHfVA912FLhMpS5j1NdmPjmk+a0NjYnmxRYROo0PNQklJCYrduoKJVfYI6YpSjly0aDwaGC566LTt7PH17i+sF2lJ9JBcCpVHqjzK7RI/wF0kItxUTUiN70Ho0IiehOxCnYUhqiFP/hHjTJCDEiCwxFLhZsWFysKSDbQmaNCaGxQTLiiy18YsovisMpRPClIjQ2QbKxH1CCRm6QXFF7hwEhOhCYbEyouLHlCT8CDRra2FERLuJ7hLaTTon8G5vsODKrC8zlnTbaiokaUSyxKfVoFGbUVryg4Jyt2BZxLXVvkoU2oa7ibShCwmn0xUMqGx4MxsYq4+CExDJSe6VNI7YLEcS64IRNbQ9G6No+UCZvoLNEynX4bwzoNqlcLDLClxyy7KVcXCfInSTMYtOyKNw7GOA9LFhM6iGxMpVgn80LD90QVWdX82gmcNDwILNxsRxVPhtjWti73yOw01aP0EnL/RJX6lwM2V1oSbJfaMt2PhPoNX1BcDHqOiQxs40E+f2rhCGno1CJSfGOmM4kq2N++7DDI8Lgo2xhn06rEVUc8l2K/XEidNIgmTT5ERC2mhZ8buXr5pjOLGDlwyUPDwhMo2N12ckhiHhJfqzb2kkqF7ahpCUq2uBFCpNjuIRVJpX9xs37sSfaj0h9D+Bo16z9QdMLfwL3EfcuoiceFQ+sj6J4dc1CKUkd1Z9iBuitwYEWU1MQ5dtfQcu5kX3GsO19idF02LlnEhz1LGJ4u/kNClVWxUcoVSIGxPFWhsarkSlE8LgWkLnEw3oY1FY0kL7BoKo2bcU2qF9XCxoORKgFKYmnwywS1KFfdeC3MFjTVnCFKL0E5Zyui7yJsfL4ITNvSQzPaXQMcdWUOKSuW3pDGCJ2U3aLCZvHjBmK3/AGgpjLTRyruvwJEkqJnCCLPuY9WrZ1rbN/UitYjatt0Nav3llLb2aRBhd06lSPMPtX3G01LoYvmDxfQVK2b0hP1vLfLFmBGx/uKpQ2X70j2TURUebWrwNDBqhUtvBLouZ2PcW4/kW4VBHdaag2u/BIbdkPrMg6HYX9j9Ed+PsVX9BPyP3r6CTcq8Da2zW+tE5Uq+pb8hSpNBJ6vYgLsj7QJMnqLkuIvo4VBF2IhwRE2VG00LuR46Y65PgdpPcO0js4ugqfbqke5n0W+nA8/AZLvB+ClX6IpXj69SEyTSEplTENmk2IXYIUs+1yuqN4hwecNSlP2JaSqdmQuzRImPq036BpuA3XDKzcMiDM2JFbt1upSuW9sbpOHwLuh9UnwLeQuGdTHuirgR1wsPD42JdWWH84hNsGkh6gnHUT5SSBJZ0wYnVl7COWncVKiTE+3QdwEuyUszi15ZTYd8dCFNLggYTExMeIIXcUkbBEqp9UIt15XYXHBMRiWLtIi4y7M0ZdbHneiMbYtt0VR75ZySHh+mdqvsxL4TfRhP5QfRNiViItjttSHxI+od2YtZVbR9hpbjs0fYfMCRFra7KCQClJJHBn7nlx5iXa9mJO79spqERqTrbGJL+sUZ/ANcZf8AAkXQ4XEbuEQ6EIlwYVNdqIIqRIgtY6GjguhvsWEODk4cXpldBadMXOL3F9S6JjZ3G9+v5Y/UXuNMRlkzjXQtGNUkKlhImNCZUKk/uwj+1FCDezip3v8AZK3DZzwuhR0Q/Is/846Ow+olnwpYppU591zRftXGkheONv4wnmiWkQ+bAVv3T7i2ZpqQtyDNRTHRIRkrgXu6ZWKhJKGrRRq83oNLppt7jiHGkYkiRWLuVCZUJruh9t7G3ZdTsRcznevE+AjSoJySJIX0E3s3zu5x0FvaQcdXeENWZeE0bbj6ga3a1jC4NUYn8FCJj7IXR9IpaYNcegW6F9SncffCY4fuKwbfgF3lfRBEVeqbC6v2EKc/xFuRNvI+8SJNkkT/AKbFKPC+5GQ/fYnx6UJfHrEt/wBCP1QqcBoJUSmYRDSIVWY6DIcDawhPE0QY2ddXGUpsfIRrFOMUuKXNKWYbEJK4F1HqEWKhMTw2mJKtjWqLrwdyBIjVnijRPofUbQ+RoXiBfkMYvOYjXwO+hAOJpsZNciC8nojbdugye27DHt8rRLppQZXS3LWjh/rGKySF9RYm1NcUJiodjYy377tDqqeXRI1Hs5dfYukPuJv+h+9EWzymto4KUfRNjRs26wfBXCzVP4h0im+Q7Gj50OayttI3ZNcOcCenMbbXifo6PkhkkOKn1tixNQ6j3jd/6nd/MPqCXUYP/Zmv+7GbeAl5EqMjm2S24deZ16En/QLCVF3dQITb6rFsWkIkkITyUREhp90aEpnwk+hMJ6LhMaSRqkFrDGsN7yhG24kIjKnw/lSlomVlE8OdibF9cKXGoI/KijUzaE801hoYl3olGPLqSIRDL8NDQ2VFeDjBMpU3RPuGyN7BCK6eBXSbnPL4IvpKOS4r/RIuhXbg13bp+CFpVwh5xoq7i+hwkJ1Gux9CdlRKS54BdqeAcZKMSC5f4iZycMWgxq0hL4QWvQ8SJIIkJIURppCGiCSg0LQ0JMmGLZqjzwP4aYkkdBCw7qC1icDj00ag5mUQq4i1Fos1HLDZRaE3ii4CYn8FFGyrDSQS254Fx8EXDaKJ9ylLoenwC7C+D2AmwQkTSkfIh7TuEy4bQjdyqhVWuo9sZWvAMkU2M2PqSCpCeqCupdxOIhMN6HAXVo2hXVGm9q3yxEG/UiWkeNUlfIkSl5PJjZJp6mPUcuzW/o+EI4k+eog40HUtpIsSK2+yFDUFC5ua7sfkmRJwLSK4bE7FbVX0pl/ERsurXUdhyFL3DTb/AJOSj7kOOgmI0oLWProOTfP9xISJjoGeNnAUkKiImJCEKYvGxsQuRiST1hlSRXwU2NDtwbGKkoxqWAnY06mJsWJ8ug+g2lK9htbD265lDXuCsRCx1KmMas9uN9mJnQRe4mJiEhaynJJ5P4vmOSSRcs0xHDLTKejBdiRGvYkFXoLRZ9uwZ06iqYh8OkJDDto0J1el0NFqvj4X1YltTLhbJpQfzgm8LOqVwlyzhLzvKCeMo0YLya4IO56p1oX3uicE8oZi8XDY2MzCiJzhrohUjLXDGi3T4CIOKC0RNJ7HoVcc+7GUtrDRWa0acDj+xUhiXWaS8NnJG9ptwO/Y0SkEQhBKkVUWWN6tLhRKJxEMjfgrOPM6jeTXpGK7xK1j+jpJCJtsRtvCMlYXUsdS0hoxzwLpSQKqMH0i5E/g1132J3T9wq4q18HAIs4pORNEhHtlKJCKFqIbVPtQ5GzbJ/1E1y/cny/YqFsUsIg8KDtMnCji0dR9suIqLlViHJyBv1x7E2UJl8C+uFr5MqORlpXinIsfAEiRpB9jqXg2Fisu8fXCY7pNujIXS4cWeajT6hUQnhG8bArSRVa9gnSptwnLINB0ogrk6oxZV1NVCwphIgtbaF6Kt3p6ICvRdR6VEktIs27Z2Meh1cPRuMh5iAKpagwSnc3zXqlHUiEWtFQxY8tihTG/qNOpfhENk1qcGjlaV37AQtadP5SUbEJOKBtoleRwV1M+sd0AWEITVnU6Rett0bmOaYc7XgoWuWpoa8CUWnQipdIhtjUTFUy7DSSE56S4QSUmTsgkJLU6C1LcJMbJB23sJSSTKI9TvtwTpvxRN6P2L3+FFeVX0Ro3L6CLuNeQTyFy0dUz7jrZep0SXDfVjbaaJD6HY71d9hgZpuif+R42ElnBCIi7EIMSLFwD4FIUv6fuJUkJdINDR0DTkxRsTwilw3spdkortriFj6MS9VvhGj6NEhP/ADpjRSbIsVh9zjwPep4QUESJY2tlEbbEhjFup04m+GJqIrfgd6l1n0Quf0QtGNGZ8okG8CHvv6aEmDLjuRx413Q3FRdZ1jXZmztyFwhaXqZdNW50tsexK8tCx0NFKNVW2JWqmUWvBzQymNLokbe6GoJB5TEnhEEkM5UVtCTuOFcg+v6Coo3V8vBHGleEMNN95ehSElpCE1gsPaKtoKncZYxQVQTohNbQ3i++BguyqdDvSU2bHQDbsQlp31HHE2kP+RaElLo4ydTtOiI4ZWuZrNQUYk6cba0QMSjZBM5XrRiL+YxyQNygQR69kjmL3tUU5bfQF1xTDTPn3FefeKctx3d/VskuAlf5jQnFfRD6Fxkij+oSf8hL4TZKmiNEEnHQ4LBndo4MS8IiFlMbxH8pBwRM8DQiYhMvnD8jQ2nImJvCzd8DPfsg1d669o7Y+on03wKpdC1Gm37ErJprYlZEr4bC7v2CEw+waZNBTpMTXUqy4KzR9vqSFPZEg2E0rkXqJe7G9DaQ8FScIMu43GnwHW/m16IzekEjaki0tpiglfDZiUPuV9WLHsuzkT0kITwq4eSKkOs0NtNnpCumU6mxVbSN6g2/XcuRmRHLFinV4qJ+JpvkUskEKYMT/wA0xd36Z5vYJq076MLqm4TTQ9NZzljx9Vy+gwbRu1oXHRTkcnexOkr2/dKHSSBDl+ZYo8Psryl+GYuuj6FozBcOBKTV2TSE8V9mF+UCki+2Ja4CTx6RL49Ik8egSdEhJLoJEZBo1GqKJFEsomyDVpGxISZCnXK1ObbiQ7kib2VfljEkhKQ4LjR9iU+uZi4rgsJ43i5Z1IcfPQ8tJjGxsbErq/Qu+xQ/wOa/oLV/QfY9Dseg6coS07U0QrPWf+KOeE+05UgrTWyCUSlQs66SRIfiSidaNJnQ/pD2sPLENfyC6XtECumd7BxKr9hzaygnXUHBQ4D04JaM0Xg4Wn3aE63y90J4l9qQlq8Si0N7I264PmbSfQQ12Bps0wmSf7JkSSBdYlCP3ijCh98Jr20NvLb3YT62Orcgvvi7RKdBK/yF+DF+MFxhcUt/QX4AS/8AIn0+ifQaFpCEDRJ0JNoNb+7Agn1m+RBLCmE4JieGLC+CFhC5+dKauEy4mHHB9RH/AHx0WFpKJC+FKUQ0T4NYhBIRvtjpMQ7YdULk1c9PhwsNY+wxs4DooKoeILsIhqRCR0QuCCTsI4uoasXDCVJaEENA6x1NGqaxohBoWsdMyk0fck+Ex1xMzCwhYuG2vhMTHbKx1+NyvjXnWKUuFz8n8EiEmE2bOCkeIaIMSIJIhMcjLnYnGUpdfBlFh4QrimsWFWWWFXcbEOWLJNtE+hCxF2xBi6C1F6jSau/8GJpx4RBrZWLXR+kKLr+OzEL6iwhYs/SoQ9Cfwon/APFC0KfBiz1zouNXE64RVhCxDWULCYmsIZSk+UJPhDRMTOs3/wCFLC4qHHhMsKsJoo0PJofaEukfWV9x9jX1OkD4Wo3F9z2EOHjxf9im0GpNexFeH9lOl9xdmHfQf0KdD7FOn0d70Qj3df8AYbdfcN3PuF1f5C3hKvE2JEREzhC36RupdH/xj36B1IKjbGofvgs+W5MltOccCgxMrHSn1OgIBJ3EMcbTVHim9WJb00INi8ilxqDwhc55Fc7zoRSlFPihP4LKEIbE8T4LLxRZRMaQhsuKUTgn8Kjg2iPPuP3A1vfqDSXWLpp+wT+EFZDVeiXSDte7N/8AYdtfctbMbo/YTOSd/wBENrZrqewSdXfc67f9zxP2IPjn6oSWkFaKxLoNnCEi6ITRJiYmGll4aQ064NMmWKnXH0FdiVDe0xGnsIc4QCmuiH3qshDik4hK5ng6HCJekIZs1eUtImg0LatIckm10LRlN2uRtR4XLEbaGi7K5g0lxsPa4EhVsJmumisRyAqhXRLiUb2hYsxUc/BPFz2LwJzKT+COBPDYmKiOhBawoNmhLCZRtd4NUqvuho/3RDn3H7sfZElt/sx2l9jnUTDfRn2hTj6jaGz+1Cr0gW6f3Z4E9iTcr+x3AU1f2Gp31orz7DzYKf6jj17Ck09sW6H9diVx6hI/zIdIu2hS4GgkhLLGh4REQaIyHUazFW4PC6/FY0O/Cj6QY2MRy4GhpY4wYa9kDpuXZhiamHK8NBSS1QV0liY7wicqHGjSoyfL1saa0vfRTz14KFBNcNHAjCT1NnT2+5KrEVjcIl2ilROSnghhqSClt1Ite5aD1p9TQi6RRDTgmGITRSnTnKNGjlGu1Hgn741f2Ef9zue0h/sat4wS+Sl9Xpmjn3C/NCEjfoXDRFHTvsdJDs170Js/rG/j7pv0fuydCfs2X5V9C2IerfoFeftxFpRLrNPRbfq4l9b6sLtBdH1n4aJf+Rp0nonsJFhITEy1lFWGX4K3OxGsL4c9MojgRsmybwhJYdghY3jp8G3MN4bQ1sfWlgpuorwSUT7g8n2bec70+x+oumGyp/zIVXdvAglK5rbNXHnuK/8AYdn3n7EpscH2KjNS9TRKrPDHDU+Ojt+se5XC0WTogMpd2D+iLTb4tLqMUhtcNGoDJhe0cMdWUUqRsTbfUhZaUfYSjgotIbWU+iR02T1RK/yF1PQJa/qPD9HgT6FV0fZD7r0akl6EbL/Gi+NKs7v95It6ZqPbvqFOf9Dbw/ZLX/Yn8oxdkIj9Cbf6Rfjye4fY2f1CV0C4IiFFERCS6oi7ClIQhCEITWJPgkawsbzNC4xC/FF7GyT/AOH3KUuazqUp5J8msNTDGJiZRPZcV0peCn0G8MbZzsacob8IicNdEQaxEjUaEUO4iHUIQSwSEQiHiCtwhI1YcdQk7EIuxMQmIS4EkTYliYRWqaEdWQSIsTay1jWU6HGJ8NYTRML4X534065ohPDZxC/BYWbiminBcIRNkzIJZWFC3DbxRs6H2NsvB2KQMqwmU0NjdHOsHLlHVoOm/YKMh1EJawltnBTXxUherowkJfHdEJYmjoQRBp51hDxCGxXCeULDFMdREzFTSKdDg65WbjkXLzoeEy4vwuV8E4LOs1C6ZpUUqE2hNFwnseL8KilLlMbGxtEIfZEJfchDpfchPw2dCv0PVF6s16M06es0oCate0pw/sTun2eL+rKB0UgjCz/rG7n7aPJ9HeYbSb7vuGQW59opvl/cS1MOzpVlNFwk5eAr+8FCaIcHQmJhCuUxoeISYQyHGGRCxfhSsXGEaNZ6Gmjim18ULCKxPFN/FcmsopV1xc0rzYVFeKOUoylwpWywQa+U9jRz7jqP3DV/qNYcx6C9DHHTfuF0RW+X9js+0tx7MTel9zZcqd03jPoh3xpyLDLmfuHfZ/cS+kR6BL/ASuPQeMcVQh0Q0pwRCQkQ5WGmxKEwh8jHOw+Bh8CWVawnCtF6C5NHGIki1v3iosdc7FlFymT4dc06DwmnhzvjoJ6z2KXFLohwUuKMXxWIhC5hSnVP4/f4UbLCrud5jXz7iAmtV+/C+KO2nf2Y+mmfhx9Forx6Dbr7rSOx7Bs4T9WNs+D2Lt/sU5QLOt/siK8g6lBXlv1YXUb/AHYu99i7UmUQSYC7P0TtRG6IQX0FWQSQxIhBolELCg+MPLLMsmE8ffLsw1BiDo6Uogk+rLobRcdSlSboWiWhMvkXFxoRRMo2WYpRMT+LmKPNZeMJ9Su43ioqLhSrBsrKVPqPqNGzfuGp/wB6Ghb9IaOfeL8uhnpB/wCKZxb+mP8AYHFH/eLpu+g7Rqs1+OCdpJ9yn9L6it0/uxS2h+EynK/oa/5UTP8AgSOuDaVvcLru+879/cd+vuxLoEjo/Y/Qiy16xJX9RJ6SEhCEPqJiCWiKEJSCg8NIZkIJYQmdsPM6Z4y2XNyzmZqG/nR6GyrDY5S6qK8QT2j14OvIqdAXQxUo7sxXXbmb9Q44GcE0uhnV6DZnoHo4foOnR+hPP+gl+KTqPfqb+AVTTrdl7ze4fW7IOdHrJ1+g/wDBH1Dnz6YSQa6vrO16DUn/ABipX6RO/wAT9NiX6Yfmhwf0HLlekHdf0U/yR+jWJ1ut+55MHUM+o4K3+4qts+7EuafdkQSb/wAhK/xFDj+xNf1C7P0JHR6PAIJZoSYQuRaOlEWl+MG0LHYqw3sojrms3jfc8CQi6KLN2NmhfX4IWGJYvA80pRxiKUpXirFxobKVweNDU2MaHhsd6JM0jvhPFWKau8kdW+Ami6gnspe5TpmfBwVQqWYMhCCmENIi+CFhnOU2mTr8EKjesvLhMQT8HXFyrln1NY5eGNCEv/nwUpSl+CLllzvDCxvCeKvhVjg3SlEx8YWEVdin3KUbg2Ua5tCXLQin/wBjtoutUNHK+9WCpsT6CeCdEyj1F9GNz+Cl0IJsE8FTEyiZZc3QmIqxSouaLjguJi4p4NQehYvy2hP4rgWe2KjWFlPFzMU2Mm4JMYhClFi4WKNlzrLwZS/CjYgmXkTKU+42urIiIaqJk/onk46TQDQ/yP8AeDCKOGfY7DhdJ33h2f5jZwvs/dl4JZKDx/2NPF9h+N9hQVLcxtvfsO837m7df3GdIrkh0CS2hIhMWhfImXsNLsZRa7HS28pCRi4EFKIXCBGhDYpSruJiCwXZUylNCaRcvvnQmXCysP4NysVw4yrhEYz74osQXy+2dmyv4beFqCxd4rHcUpDLWNpdRr5V9WQ21L6jmoeIdp39njX6EbdHl+CfQ9yP/ZifwiDkp7RPiSCP0vsU6f0RblvshsTpvv8AYKW1oLsv2eIKrBL49BL/AAO0p4BNWhqhQTMxrPQaJWNM2NDWOB7G6xNdiEP3hcGyzbrdMNKJSPoMJMEnAkNBV1FhQhkCCCTFC4JKQyoThsqG/hd/HQnlG8IvfDboinUvjFKOopT6CYmvgp8Gy5sLLlH7IatfyCSS/lJuA+nX2ZDhP9xblCvL+xXj7zRbhX1C6Cvuzbqvtl3tH0FNP7SQnck+o77i0VN9WLsRFJOlwdjxvRKkQa8ISS6GiLDOBBYUg32Yswg0LChOM7x9sNPDRFsT4wvnFY7yNJYYzYT0688EcUjWynmioTRvulHm7kLzEuhy9C+kaaRqxnmLcYRSki4bw5TFKLAs9FRBrTqFgu0I0TQ34GlwomUpXCBNYbEJw0fclK0aOULpKT5R90NPPvP35NnWls/wz676Mfvots9sqlPUdsU5a+4h4foX6X1YsaXsxs4T9mzUO3LfZEdf+NFHsZfLQvzIfUf2xdqJf+AlceoS+h9hLWkIdESIimV8EsPHTCG4amIaxPihD+DGcCyvgst5fbGh9MVjPsNtDXdjY8uY1rlhdoK3Hk2Auwg1dhizR1QTWTVmyoUn0jbpEr4k7Zz4ifV6hNv8huiXClY/qKFL64b5HGvoVc/MfeDlokYpH0/5cHsaPyo9X3RdcRXdTylEbUcvfoKG1cPQu19H/kjzB+mKc+pCqS6oLr+8fRSftC+GJRVdB3WfVh9n2C67+x9T92eEcBguH+E/Xin/AEHaT0JewkJxoiRU+hrGjhFp9cwjLnqJj1wbRcXEJnsQ3TQ3Mr4p5pSHX4v4Tk3jkqRo84WEyrF5PvnQ3wWmkIbGOjGzfBRJNCY1S+R9ySFwyxDfcDK99OBDwywqfHJUJ6LDkWEDZMqi3PMtF2Ih+hNLkSs5FcUlQmaHIaC0OjsJCikTqE5luG0ELkvGxMTjKIR3E88FysIWIKXMEx34XMwscZnOU8QhoaGiCxwVdsM6kLcTMEyiw0cvCvwqFyInGxsiDaotDFBifYbS5GmtocORr6EN6tA0vSFXU2/sNP8AGMSKH0URXlCppie8E7wViYn5G+E+B/caduhDgMinE6dcYUs5ZVeSoqigopLeECa1sTfcTEi8CUIUSLBaUR3EgsCZTYT3RYG4IosFEyi2F3FGxPC3bLrSKJfCaKbwjeL8SKJkxSlE1BMT+CWx7RSieLMfc65fBVmn3KkxClRY+SXKEOkabfcP8kNAP9Fj6N/RC/PCPxDrr0FXqJ0Uw6i9w26LN+wv/ib1ql9CkrL7DfKUO1/3JctvqxIY7RQ49A17SjTwImNMdCYmy8i5aOo4WLkdQvT3E405hRNaWEznHVFIc6I6FG8KXhlXYXApReRTuJlNsrKKi4xU5hclZRMpRNlExI+omWCeEyiZS1l2UUQQTCCCsuynQp9ifBvFRZxiiKcz5U5FKXK+Rpv/AEGttf3EOQfAm30TF0yNmtess9e4fS9g2PRKJ6Puz7BBX5T9EPtF9BZ8/SN/9aFYU7km9fcX5b9wu69s8YXTJK4JIBL4RMSKoSOCCJrhCgotXKeWz74g1hyYuDHilaN4Q3Oo7CufqJ+ixTgou9KNMSUOEOFXYbOdspVzTQnmJ5L6i7iwqongTFzKJqc4MUsEyrQmil2JmhcCflHkTGE+psoivRSiE4XrwJiKLuKLH3w3oo2c4oTcHB4A0lVfcaefYS594+w+x5T+zNGn/QL8XBdD7yF+h9Q2/CX5dNuj9hO6f0FeW+yRXn7bO9kUex9wkdz8ti/AC4HoEq4RDTsJeBohoj4ykrhYiFBFxokKQ4xcUWDYtoRYM0VPoLgtGJjbrGPjgY4M1whBQqVSwTXcbo+eco1b6F4cKNi6RUUTFBootCCqYcGKFHwTYmuMKObFoTEyqCKV7xwLuJ7OnGCgvImbFUFgnSruUTwSISdye6PG9n7wmv7Di/6k/wDfAfX/AGGp1O/sz/wYr1vuxrahE/h32L8fcaGZPZDx31Ca+D2NnKxR7+0KuP0I1sdR32mkT794Y17Z/cSZVF+AEn/IXRVfYSLoRdhIiLEpy5xvQmtl1i3Cw8UpTqdvg4REZGIuyso2WYVW5bxadOMLlmzrvDfgYnqDsHS+CjNwbpoXfJEdjrVaECW+otLdF0kRp0x3wxcUtlJnrhVKIrcJDvpITOg+tC2W1DxDUex4DRC+9OrZJYyoYkjp9Egpq04LxqC4AuUYthdiHhE6/QV6ORt6U14Fqb+A3dQuazfU5q04q7Du44cxSbPY+I4grq77i/NH7USoa2/+2f8Ao2dy9sROwojkhf0oS49YkJcX0EnhX2PAhLkkhJEQseRPZdmkJHDPI4NeMRHQjI80iKil1hnTGyi7iKUqqK8d/izYoauKMqEXXJUXG7DjFPvlsTKXXk5LCjeyjLcMche7Ga4HXVjT0CXeDppG+RHiIdFoSXgihEQgW/QElLIc0WGsFhzTEkKYhrDXkfQiqg70IJcE6DfgSSexc4omu4poSFX2K0dBEHouzXY0fU+hUzVx9i+BY2mI0xJs7EFRM565rz05whHD8Y2LHQf0xvsSiSJwViFhCaPtghvCExPFE6XHXL/+N5E0aw4NiZyXF1yXyNC3CELzQ0fUcuRy4jVtoUvQR4o7TvsN1jBv49ynRCpR1SzUvsK66KC3RaQ+gn1omaax2OBRCKJ8fBMWF0PqTHTgW0SCV1mJMXA2hMtwnOgzFFRsdiMSGhehzkWPQjVHoTzehRUWaLGzOG8JGhJiysMVjwsOPFKXKgnyVomx6K2NlZSiYsXFxZhRlwmiruNF1IvaDk9fY/yA0/6kv9zmUi7Uk+b+xWaJx0z7E4QJrNbtvZd6/mU4V5pXlIl2on7n0U5n6ITusXWaKuR/ekbz7EFDHhTxjmcQ+yQxjJEPya+hUWjiovB1mFBzgpDXS/piZVEIWoPlm6h85QoPcrGnodwkzkvTCRSd8NIStNiYq2IN3LBN8jE6J4+guMpzKwnBMUmiQ6FyXDUE9x4WliiYnPhcLCaKbLiMuExspYINlrxTlmzXJj/ND/2Y0F5b7M21O+gTvh/2NDgJy17inTFOiU6X2E/pi/PqP1yG/kI1faNvLfqwlPj2xeRQRL74S49QkvSmzgT0RF4IjTxrsLD6igiXHUT6Fw8NDxpo5DL0LBI8MlHpnWwVQn3KtF/SxPEOoo1lJcK5TQmmaE6I4FPgkh8HCiwlESCcL2QsE0IvJWhcopqpRMuEyiLog4Y9sj6ixuGyiZeRDOMIQmXyUQuc05xZcNnmGtbQnz95j/MEe/6Kj68+g2dY+w1H96ynCvqG2XK+4mrg8JCY9+kDeCm37xK5b/cXZM0v+Ikf5E+g4lBJ2IiGmMQXIsI4wiEGl2zBYY5wdUJ4bohsYt4Vwkrls7j1h9KODehi0psblE9KC+h1WEQfkU0HNx5FhPeUUuFwi9iiaKQooc9MJjFS9sNTqLC2KEXRiOvQWkUZDeyzmC47EyiEdz6QqbC7QaFwF2XsV3qQX9x++F+TGj/QceAu2mMYS6X8Wf8AohwW36Oy/YLXr2G6V2L5TfsLTKwtx98s9P6FFpP1HbZbrPCGx79ULKP0GmNv3O6Ru2m+7O6omCXx6Dswk6EGsQQS1hPaw2IQ9CGMlxv5TC44OhDRDZRDcLjsbIRYaN9RMXIsKKFXRCrFBjsTxvD6bJh0ekJc7LKL7EXyaXUqvJMlI7oSrCbaiugheJBX5yCoomPvWz6pTisVeTRHqERdujxylxI27GjoLtvRflBT35DvjsDceCQyL5nkejVyORtsJdwUewnVcPoLvhCJfkxaf8418w73uPI/cSuPBsV/9nSnsK0j9sjK0+rw48BLTReAJCJcUH6gSgSv8BJ4X0Ktj0deIldMF1EEjIVIRDWhIkOSZaGsp41o1ootjYrRC+MJiwuPt8JiZRKMZydRocwxWFKjqX7HQXfFE7i8YGuGNouipD5QZckGk2PpeywqXQ1w+QdzcaRbYn8tj7rNhdkNna1RUUX3EbXwdhBG8SPEiV0I7IsuER2JrgSR9RJCciWhJMYlSIS2JKRi4xqFMSOjOYSUkQmPFeEkISykodRCFmCQoJGhLFEJ4uUUTuNkQy44HPg1iZ++FwaNYpyaGLhyCEy4sKcIrOUTxhHUeGNpobxS9ExCcL5Q17nlR4xNbQ8cjwg+1I92FX0vQfE0xqRGt0SGg2xWUnFbbGhqiHCCniLESfA0jTZvePuJa2VtzLocoWkJbI+htXCzO4irsQjpxhVDVwlvbHacLHVisU7i7jH0OWTRC807ZhccFYk+pBiTRRNx6zsU0dcJreFxIJCgmdDtoQpjWULCho6C3hzCGy8LCxdY5w/oJreLvCePvlMezwLFS5PpizqJ+So9kFyP7IQ59x9qYiv6Ddw9BpKvWNvAW6vY/wBwfRT3jnBRoJzbcHxoVAvrRd2JnIvvHVsOrQtNolGiQauJLoEnhBIXCI0hEODLBsQfeNCg10xRk2WCe0pLbdYpstOC0XTZ9yH3Og8KItZ1xKLgTQhQKLOmIRKdDQ1YQPWibom1iaFrH/RFZRN3FQv+FYjsWJZTFimyZiwhO0WIdCl4NouLhYTFhFLyLuJ84T7DXk4bY/cJP+5yiC6LPoK2O+gh8ekb6NM492NnR+403QF10+wsS6zDoAup98Lvn92S4BdAFbghatCHREREPCUaEkNQ642Mo40NahIiUighqoXwvcbGPY4ipdhw3wKfUQeiYvWjZ5HLnr5YmxI4pqsom2JlYm998JvHAmIrNmkJopYVrqKvEQmdxcC8F4FyzphSQhTrokEkQ3ZcqKl0KlSFNi5GzqfcUEJyFNCey47COwirFEaOHBokPtBp/wBho59g1NJoPjp9EPrH6BPk9cL8ffaL6+27Dfwr7jfWl9iYlVeAur6oTefWkXbvvO4/7lLpteWeO2TevQJgl8Ijoa5hExJF6DaQgrMTqFyJbOBPDE8LgaHMsmJctlwmc4OFWNjbWKWjY9o1fqMqK2XjRt4IqE9SnXHgbiezlE7iSdeThcfUajVCdOILoNtcifWi5hRCL7L3IVypxTYi03jkrUE24V2KdWhsTE71E/JSpkpMaw3Wm/ki9tE+gj0kFtBOb00N/T7J8e4ao/5Dbf5hW37DVX7sYueBU4EuUF+qa7/BM1Wv0xr8hyX0HYJ5H7FNIk5X7hwTXIDvpP1ZOtf2bG3o/Qfq0hzCX5cEtc39XSHBJHHqFOFP6CV0Q1XBwxR0GSZfGhFbILDWscCSGcIpRdMRjOBc00YnjrDVxRT4Oclg4PdzR6WGhlK+4iHXk6jlrOhS5chRu7Gm9jdhGm0vqqdTqPlD8FaEthz1HrqcGPoSkFoi6Kuggn0pYJN0aErqS4Yq8m/lEa20Nb20b+AtaDE68Mh9ZHeeQK9o7bHCTGlByRBdJC30DXcIzUaPDFQNxTtMO8HeHUqcc/zlufaL8mJfL9h9h+x7tP2I0egp0CS+I7AgkUhNvYFKL0CU+AtWpHo9GqR6PAIdhJPpBJNCSInwjQkifBCw8JfBDw3srL0E9JCqY3hOohwNs5QoLLGhEITRyaKPNQ2xulRSjesspcRG4J6LicZtGobuGOBvuNv6IcSEYzdQNmzvvZ5iejsIfQiFLhM4uhDuMlxC6CFxBjo1FOOgXeFr5lpuUfMlLbipyxRXJ4yNoXXO0dkFfheiV0X6HM+uB9kRa0SJiqcNLjHMPCN6wtKCtIQ6CWI9CrQlsgtG2QRuihpHVY2hTuLk6CERCNjFhQQhLK5w3hQeFwJohHc7DEKbJoRSotNshSlmsTVo3C6E1ZhTsUehPoX4qXZR8nUTaQ3lHUYrMNunIhtlQyvFGeGGrBu8DqYlBIwpa2cWiXSkk1pEmcVYluJAQtGyqjFpie0dRaTxdi+oxa5LRfU3BNiLpF65u7BYlR1GxYSm2aF0HoZVw+514EKLp0KsRYRDShYJi0dF8UfUUFBLKmKXRV8YytCFx8PAx5qGxvEExu5Y2Nj7lvwFNFKN8bOMPDY8OMMbOo+gmlD6Y6MT0I64r4Ow44GGxvadG9loyhhjT6KnZjsExe7OhOR1Db66Ceoqn6G1yhIJiEs7QqkE2ipYrNCcE+mNpp410EnBRiKXC4ZRNC+pdFrNDawmibPohCxRQlK+BN0b6NYY14O4pcc42J4VEIQsaHUrw2xMqKi6KsdDfxbHkm8t/ClKMOOuCxMT4onzGbBDodCxjxsarf1En3Kyt0cWGRiR0EXbE1z0E8dCoeL7Lzo+r0ImGG/I1XJwDL6H0NnVmmdoM54HSYcBNCmy+rLwQuSdhNYT2LCYjpDY7pCotjTKpw4hYWz7CX1JNnNuN7E0Woa0LTRsTOhXlcxjOpIJlFBbPuJUQsFOoqV4UgugmsXSFrGirLKkJ4ou/kQqhvN2XkTLHtFWhsdOEUb2Kwo3gb5bKdU8XuhMTdoyjE6VpjEJlSZSm++GNPFouowmmNaE4hF4OkLBkN7HRUSdRxcCIQobbKd5hNEjhWxptiwbGx1Iq0XuMdpkzooW4JjaXRDV6QmLXIm1CtQUQuFEITdpqUThGXHMQ2uEzlCuimpWUfB9MbT02dDQpWKH2OwojhCEmJ7rKXbNC4FeooXg5Hoq7CLSbKaRTWELDpRdIL64WOwnvkbG5l0pRbFMJF0XLE32EhM2s6mKQm8NsdvJ1EOwTgnuCqF3FRXRvlldhWLrUavB1h9zlYR0bQjhfOKiqHYijcGktosadGiHu2jbkZQUF1VRjXUo9osNMtL7UcdzG95K+UL6G0RDdOOgodw8DSiiaCWvoVR1QbneLRfTCE3NCuv5EVrCYttFTE9rYsJoaFio6iceFVbjZaL69BCZtwQqbKI1eMLFPuaoxC+CqKNhBHUSouBaxSpCaeORdFxS0u86E8XBzFE0UpfJUN8Ol8jDbE4yago7DoLlITadKW9xNnEeDUVE1JcNO43k4Gu/I05uhqclLsRpuBJaZHSsdtibk2qQrRrWhHoOCn3HvkQ0jXD6kqtkGkrYnOvkTbNwbwbRMfNUtNXuJPbkfVraHJaE2N8o2VR88YcMT2MbfcbxehsIgWiCc4OdCFsTrEXgol1YuRCj7nbHUSiSEpsqr2LjkQi0kKbqKiCOotMdOlPPgTdExMu+aiqYT7s0WLC03RPFxrPQRS4W4cFLeDc0JierccLgddCeyl4G2VIpRsTLhPCzWVCG510VNpKNm+o1qSbHydBvbv0EIuvUTXBIlHIjHuEKHFKmLXszoV1ci3ObJGtIx0quWV3G5IJ02LyGq/QcUI6O3ZVHg4FrrcEgjoh2+i2G4WESkyRKiNdBtdv1He4eJOmhtvoLbankdHGU5fuJEm2OHtGuzHsafQhITcGqpzBtjlLGnh9zozaLpFQ7o6VKFjoE24V8C24JvWKc7EXTRwfTkRuhOsa4h2iK2i7Yn0GIWnRxnQTQ0/hWxOiZUcJCaKJ7EzZlha29ii2y8KiauLwKFuOMXgvRlOeor3KdSl4YnBuQrF0KLClvBS3ksRRtyEdqZUmi75PGK97hC0TpOFTZtuHd/VjW4/4GtUWhp2PBBsSj4JpN3HFnu7KsaKIispepFz1G71kPBl7pDSJGnCG7iV1CXBMTk+o2t+zw4Kh9YhnQl2FWVNlU5G9sSR3qrDqn0F4mjQFEKrzYJvhaRKucV881j0l02PkJa3yxuDYSq4GrqlNFtUZdBwnshaOg6bx8jwTLhCa34E/sb7jY60xuDHVYbTvDhIZ4b3Cis5IRStNG0FT74T+yFN0+7FNEV6DqC1tMTS4JmkNxFjiYuoulsUJGPHBwcHUemhPCyn2wmVbGFwxNFQuHsi1BUsqovgoUTxRMu9j4K8mitEkqIV0cuG+BKNNJ6H3xjYJxXUW7n3I7aokiJGvU5p9+GeZFXpi2gm2YPStmxtKzOh2DbMm03NIvolCrjZGJiVss4L3MqroHHIc5Q97nQrEqINBtD4VRLIsK/fE5FCpQY9VsVtwmoN8Gnaam9NilR9HgmrHXS+MMaLgb6BIxOVfsJu8octOqDUptuscaRjSrSHvVUY9aoV1G+iG2+x//2Q==)"
      ],
      "metadata": {
        "id": "diXtJefjZn6U"
      }
    },
    {
      "cell_type": "code",
      "source": [
        "#Example\n",
        "l2=[47,11,42,13]\n",
        "print(reduce(lambda x,y:x+y, l2))"
      ],
      "metadata": {
        "colab": {
          "base_uri": "https://localhost:8080/"
        },
        "id": "MUAd6-nlXbf7",
        "outputId": "250cf49a-fcb5-45f1-9ee7-e917b3b41a9d"
      },
      "execution_count": 62,
      "outputs": [
        {
          "output_type": "stream",
          "name": "stdout",
          "text": [
            "113\n"
          ]
        }
      ]
    },
    {
      "cell_type": "markdown",
      "source": [
        "# Practicle Questions"
      ],
      "metadata": {
        "id": "1qTQBpDaXVbE"
      }
    },
    {
      "cell_type": "code",
      "source": [
        "# 1.Write a Python function that takes a list of numbers as input and returns the sum of all even numbers in the list.\n",
        "from functools import reduce\n",
        "def sumeven(l):\n",
        "  return reduce(lambda x,y : x+y , filter(lambda z: z%2==0, l))\n",
        "sumeven([1,2,3,4,5])"
      ],
      "metadata": {
        "colab": {
          "base_uri": "https://localhost:8080/"
        },
        "id": "vj1waKIL_cpv",
        "outputId": "701715de-0e3f-4a4f-a0aa-dc2c694cfec7"
      },
      "execution_count": 7,
      "outputs": [
        {
          "output_type": "execute_result",
          "data": {
            "text/plain": [
              "6"
            ]
          },
          "metadata": {},
          "execution_count": 7
        }
      ]
    },
    {
      "cell_type": "code",
      "source": [
        "# 2. Create a Python function that accepts a string and returns the reverse of that string.\n",
        "def reverse(str):\n",
        "  return str[::-1]\n",
        "reverse(\"hi\")"
      ],
      "metadata": {
        "colab": {
          "base_uri": "https://localhost:8080/",
          "height": 36
        },
        "id": "JMsQaBdDB8S4",
        "outputId": "51b2ad8b-4817-4607-8b0d-0526bb1f2780"
      },
      "execution_count": 5,
      "outputs": [
        {
          "output_type": "execute_result",
          "data": {
            "text/plain": [
              "'ih'"
            ],
            "application/vnd.google.colaboratory.intrinsic+json": {
              "type": "string"
            }
          },
          "metadata": {},
          "execution_count": 5
        }
      ]
    },
    {
      "cell_type": "code",
      "source": [
        "# 3. Implement a Python function that takes a list of integers and returns a new list containing the squares of each number.\n",
        "def square(l1):\n",
        "  return list(map(lambda x : x**2, l1))\n",
        "square([1,2,3,4,5,6,7,8])"
      ],
      "metadata": {
        "colab": {
          "base_uri": "https://localhost:8080/"
        },
        "id": "dQjiDGqACiSo",
        "outputId": "b43e475f-938d-40be-ba59-12ff37c033c3"
      },
      "execution_count": 8,
      "outputs": [
        {
          "output_type": "execute_result",
          "data": {
            "text/plain": [
              "[1, 4, 9, 16, 25, 36, 49, 64]"
            ]
          },
          "metadata": {},
          "execution_count": 8
        }
      ]
    },
    {
      "cell_type": "code",
      "source": [
        "# 4. Write a Python function that checks if a given number is prime or not from 1 to 200.\n",
        "def primes():\n",
        "  is_prime = lambda n : n>1 and all(n%i !=0 for i in range(2,int(n**0.5)+1))\n",
        "  prime_numbers = list(filter(is_prime, range(1, 201)))\n",
        "  return prime_numbers\n",
        "primes()"
      ],
      "metadata": {
        "colab": {
          "base_uri": "https://localhost:8080/"
        },
        "id": "TlrG78-fDm60",
        "outputId": "752b2308-7c1f-40b5-a2e4-1baddf3c1b23"
      },
      "execution_count": 11,
      "outputs": [
        {
          "output_type": "execute_result",
          "data": {
            "text/plain": [
              "[2,\n",
              " 3,\n",
              " 5,\n",
              " 7,\n",
              " 11,\n",
              " 13,\n",
              " 17,\n",
              " 19,\n",
              " 23,\n",
              " 29,\n",
              " 31,\n",
              " 37,\n",
              " 41,\n",
              " 43,\n",
              " 47,\n",
              " 53,\n",
              " 59,\n",
              " 61,\n",
              " 67,\n",
              " 71,\n",
              " 73,\n",
              " 79,\n",
              " 83,\n",
              " 89,\n",
              " 97,\n",
              " 101,\n",
              " 103,\n",
              " 107,\n",
              " 109,\n",
              " 113,\n",
              " 127,\n",
              " 131,\n",
              " 137,\n",
              " 139,\n",
              " 149,\n",
              " 151,\n",
              " 157,\n",
              " 163,\n",
              " 167,\n",
              " 173,\n",
              " 179,\n",
              " 181,\n",
              " 191,\n",
              " 193,\n",
              " 197,\n",
              " 199]"
            ]
          },
          "metadata": {},
          "execution_count": 11
        }
      ]
    },
    {
      "cell_type": "code",
      "source": [
        "# 5. Create an iterator class in Python that generates the Fibonacci sequence up to a specified number of terms.\n",
        "def fib(n):\n",
        "  a=0\n",
        "  b=1\n",
        "  for i in range(n):\n",
        "    yield a\n",
        "    a,b=b,a+b\n"
      ],
      "metadata": {
        "id": "zm9LTshnHVKu"
      },
      "execution_count": 14,
      "outputs": []
    },
    {
      "cell_type": "code",
      "source": [
        "x = fib(5)"
      ],
      "metadata": {
        "id": "k872c9-WJVfQ"
      },
      "execution_count": 16,
      "outputs": []
    },
    {
      "cell_type": "code",
      "source": [
        "next(x)"
      ],
      "metadata": {
        "colab": {
          "base_uri": "https://localhost:8080/"
        },
        "id": "2tZ4sC8YJaaD",
        "outputId": "7308587e-bf11-4441-f08a-e6d4eaf104a8"
      },
      "execution_count": 21,
      "outputs": [
        {
          "output_type": "execute_result",
          "data": {
            "text/plain": [
              "3"
            ]
          },
          "metadata": {},
          "execution_count": 21
        }
      ]
    },
    {
      "cell_type": "code",
      "source": [
        "#6. Write a generator function in Python that yields the powers of 2 up to a given exponent.\n",
        "def poweroftwo(n):\n",
        "  for i in range(n+1):\n",
        "    yield 2**i"
      ],
      "metadata": {
        "id": "xwS3hW5xJivc"
      },
      "execution_count": 30,
      "outputs": []
    },
    {
      "cell_type": "code",
      "source": [
        "for power in poweroftwo(5):\n",
        "  print(power)"
      ],
      "metadata": {
        "colab": {
          "base_uri": "https://localhost:8080/"
        },
        "id": "rtD_3wwpKgUF",
        "outputId": "5f327339-76ac-4d2e-9e1d-bbec30ec225e"
      },
      "execution_count": 31,
      "outputs": [
        {
          "output_type": "stream",
          "name": "stdout",
          "text": [
            "1\n",
            "2\n",
            "4\n",
            "8\n",
            "16\n",
            "32\n"
          ]
        }
      ]
    },
    {
      "cell_type": "code",
      "source": [
        "# 7. Implement a generator function that reads a file line by line and yields each line as a string.\n",
        "def red(path):\n",
        "  with open(path, 'r',) as file:\n",
        "    for line in file:\n",
        "      yield line.strip()"
      ],
      "metadata": {
        "id": "bTmT-cgwKroX"
      },
      "execution_count": null,
      "outputs": []
    },
    {
      "cell_type": "code",
      "source": [
        "#8. Use a lambda function in Python to sort a list of tuples based on the second element of each tuple.\n",
        "\n",
        "data = [(1, 3), (4, 1), (2, 2), (5, 0)]\n",
        "sorted_result = sorted(data, key = lambda x : x[1])\n",
        "sorted_result"
      ],
      "metadata": {
        "colab": {
          "base_uri": "https://localhost:8080/"
        },
        "id": "GZrXGpIvLxBD",
        "outputId": "c903bda6-81b8-4343-e568-d62e59735d64"
      },
      "execution_count": 34,
      "outputs": [
        {
          "output_type": "execute_result",
          "data": {
            "text/plain": [
              "[(5, 0), (4, 1), (2, 2), (1, 3)]"
            ]
          },
          "metadata": {},
          "execution_count": 34
        }
      ]
    },
    {
      "cell_type": "code",
      "source": [
        "# 9. Write a Python program that uses `map()` to convert a list of temperatures from Celsius to Fahrenheit.\n",
        "l2 = [0, 20, 37, 100]\n",
        "list(map(lambda x : (x * 9/5)+32, l2))"
      ],
      "metadata": {
        "colab": {
          "base_uri": "https://localhost:8080/"
        },
        "id": "9pKhjmlnMipP",
        "outputId": "965bc929-bc57-4529-d7be-113e298ee3fd"
      },
      "execution_count": 35,
      "outputs": [
        {
          "output_type": "execute_result",
          "data": {
            "text/plain": [
              "[32.0, 68.0, 98.6, 212.0]"
            ]
          },
          "metadata": {},
          "execution_count": 35
        }
      ]
    },
    {
      "cell_type": "code",
      "source": [
        "# 10. Create a Python program that uses `filter()` to remove all the vowels from a given string.\n",
        "str1 = input(\"Enter String: \")\n",
        "vowels = \"aeiouAEIOU\"\n",
        "result = \"\".join(filter(lambda x : x not in vowels, str1))\n",
        "result"
      ],
      "metadata": {
        "colab": {
          "base_uri": "https://localhost:8080/",
          "height": 54
        },
        "id": "V6gAeW0eNXdc",
        "outputId": "891539f4-1ed4-4e17-e0c3-f9129b6d10d3"
      },
      "execution_count": 37,
      "outputs": [
        {
          "name": "stdout",
          "output_type": "stream",
          "text": [
            "Enter String: zaid\n"
          ]
        },
        {
          "output_type": "execute_result",
          "data": {
            "text/plain": [
              "'zd'"
            ],
            "application/vnd.google.colaboratory.intrinsic+json": {
              "type": "string"
            }
          },
          "metadata": {},
          "execution_count": 37
        }
      ]
    },
    {
      "cell_type": "code",
      "source": [
        "# 11) Imagine an accounting routine used in a book shop. It works on a list with sublists, which look like this:\n",
        "'''Write a Python program, which returns a list with 2-tuples. Each tuple consists of the order number and the\n",
        "product of the price per item and the quantity. The product should be increased by 10,- € if the value of the\n",
        "order is smaller than 100,00 €.\n",
        "\n",
        "Write a Python program using lambda and map.'''\n",
        "\n",
        "orders = [ [\"34587\", \"Learning Python, Mark Lutz\", 4, 40.95],[\"98762\", \"Programming Python, Mark Lutz\", 5, 56.80],[\"77226\", \"Head First Python, Paul Barry\", 3,32.95],[\"88112\", \"Einführung in Python3, Bernd Klein\", \t3, 24.99]]\n",
        "min = 10000\n",
        "result = list(map(lambda x : x if x[1]>= min else (x[0], x[1] + 10), map(lambda x : (x[0],x[2]*x[3]), orders)))\n",
        "result\n"
      ],
      "metadata": {
        "colab": {
          "base_uri": "https://localhost:8080/"
        },
        "id": "V_ww944IOdfc",
        "outputId": "004546fe-a1a8-4bc9-b6f8-d328fbbe9874"
      },
      "execution_count": 41,
      "outputs": [
        {
          "output_type": "execute_result",
          "data": {
            "text/plain": [
              "[('34587', 173.8),\n",
              " ('98762', 294.0),\n",
              " ('77226', 108.85000000000001),\n",
              " ('88112', 84.97)]"
            ]
          },
          "metadata": {},
          "execution_count": 41
        }
      ]
    }
  ]
}